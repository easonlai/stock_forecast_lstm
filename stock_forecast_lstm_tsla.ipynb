{
 "cells": [
  {
   "cell_type": "code",
   "execution_count": 1,
   "metadata": {},
   "outputs": [
    {
     "name": "stdout",
     "output_type": "stream",
     "text": [
      "Tensorflow version is 2.4.0\n",
      "Tensorflow Keras version is 2.4.3\n"
     ]
    }
   ],
   "source": [
    "# Check your system Tensorflow and Keras version\n",
    "import tensorflow as tf; print('Tensorflow version is '+ tf.__version__)\n",
    "import keras; print('Tensorflow Keras version is '+ keras.__version__)"
   ]
  },
  {
   "cell_type": "code",
   "execution_count": 2,
   "metadata": {},
   "outputs": [],
   "source": [
    "# Import necessary libraries\n",
    "from alpha_vantage.timeseries import TimeSeries\n",
    "import pandas as pd\n",
    "import matplotlib.pyplot as plt\n",
    "import numpy as np"
   ]
  },
  {
   "cell_type": "code",
   "execution_count": 11,
   "metadata": {},
   "outputs": [],
   "source": [
    "# Start to collect stock data (intraday) by alpha_vantage library\n",
    "ts = TimeSeries(key='PLEASE_ENTER_YOUR_OWN_KEY', output_format='pandas')\n",
    "data, meta_data = ts.get_intraday('TSLA', interval='60min', outputsize='full')"
   ]
  },
  {
   "cell_type": "code",
   "execution_count": 12,
   "metadata": {},
   "outputs": [
    {
     "data": {
      "text/html": [
       "<div>\n",
       "<style scoped>\n",
       "    .dataframe tbody tr th:only-of-type {\n",
       "        vertical-align: middle;\n",
       "    }\n",
       "\n",
       "    .dataframe tbody tr th {\n",
       "        vertical-align: top;\n",
       "    }\n",
       "\n",
       "    .dataframe thead th {\n",
       "        text-align: right;\n",
       "    }\n",
       "</style>\n",
       "<table border=\"1\" class=\"dataframe\">\n",
       "  <thead>\n",
       "    <tr style=\"text-align: right;\">\n",
       "      <th></th>\n",
       "      <th>1. open</th>\n",
       "      <th>2. high</th>\n",
       "      <th>3. low</th>\n",
       "      <th>4. close</th>\n",
       "      <th>5. volume</th>\n",
       "    </tr>\n",
       "    <tr>\n",
       "      <th>date</th>\n",
       "      <th></th>\n",
       "      <th></th>\n",
       "      <th></th>\n",
       "      <th></th>\n",
       "      <th></th>\n",
       "    </tr>\n",
       "  </thead>\n",
       "  <tbody>\n",
       "    <tr>\n",
       "      <th>2021-10-25 20:00:00</th>\n",
       "      <td>1024.40</td>\n",
       "      <td>1030.40</td>\n",
       "      <td>1022.55</td>\n",
       "      <td>1030.00</td>\n",
       "      <td>109966.0</td>\n",
       "    </tr>\n",
       "    <tr>\n",
       "      <th>2021-10-25 19:00:00</th>\n",
       "      <td>1018.00</td>\n",
       "      <td>1024.98</td>\n",
       "      <td>1018.00</td>\n",
       "      <td>1024.60</td>\n",
       "      <td>69514.0</td>\n",
       "    </tr>\n",
       "    <tr>\n",
       "      <th>2021-10-25 18:00:00</th>\n",
       "      <td>1027.27</td>\n",
       "      <td>1029.50</td>\n",
       "      <td>1017.02</td>\n",
       "      <td>1018.13</td>\n",
       "      <td>120912.0</td>\n",
       "    </tr>\n",
       "    <tr>\n",
       "      <th>2021-10-25 17:00:00</th>\n",
       "      <td>1024.86</td>\n",
       "      <td>1033.75</td>\n",
       "      <td>1024.86</td>\n",
       "      <td>1027.17</td>\n",
       "      <td>617351.0</td>\n",
       "    </tr>\n",
       "    <tr>\n",
       "      <th>2021-10-25 16:00:00</th>\n",
       "      <td>1021.01</td>\n",
       "      <td>1030.69</td>\n",
       "      <td>953.00</td>\n",
       "      <td>1024.86</td>\n",
       "      <td>7972107.0</td>\n",
       "    </tr>\n",
       "  </tbody>\n",
       "</table>\n",
       "</div>"
      ],
      "text/plain": [
       "                     1. open  2. high   3. low  4. close  5. volume\n",
       "date                                                               \n",
       "2021-10-25 20:00:00  1024.40  1030.40  1022.55   1030.00   109966.0\n",
       "2021-10-25 19:00:00  1018.00  1024.98  1018.00   1024.60    69514.0\n",
       "2021-10-25 18:00:00  1027.27  1029.50  1017.02   1018.13   120912.0\n",
       "2021-10-25 17:00:00  1024.86  1033.75  1024.86   1027.17   617351.0\n",
       "2021-10-25 16:00:00  1021.01  1030.69   953.00   1024.86  7972107.0"
      ]
     },
     "execution_count": 12,
     "metadata": {},
     "output_type": "execute_result"
    }
   ],
   "source": [
    "# Display header of stock dataframe\n",
    "data.head()"
   ]
  },
  {
   "cell_type": "code",
   "execution_count": 13,
   "metadata": {},
   "outputs": [
    {
     "name": "stdout",
     "output_type": "stream",
     "text": [
      "<class 'pandas.core.frame.DataFrame'>\n",
      "DatetimeIndex: 639 entries, 2021-10-25 20:00:00 to 2021-08-30 05:00:00\n",
      "Data columns (total 5 columns):\n",
      " #   Column     Non-Null Count  Dtype  \n",
      "---  ------     --------------  -----  \n",
      " 0   1. open    639 non-null    float64\n",
      " 1   2. high    639 non-null    float64\n",
      " 2   3. low     639 non-null    float64\n",
      " 3   4. close   639 non-null    float64\n",
      " 4   5. volume  639 non-null    float64\n",
      "dtypes: float64(5)\n",
      "memory usage: 30.0 KB\n"
     ]
    }
   ],
   "source": [
    "# Check stock dataframe information\n",
    "data.info()"
   ]
  },
  {
   "cell_type": "code",
   "execution_count": 14,
   "metadata": {},
   "outputs": [
    {
     "data": {
      "image/png": "[encoded data removed]",
      "text/plain": [
       "<Figure size 432x288 with 1 Axes>"
      ]
     },
     "metadata": {
      "needs_background": "light"
     },
     "output_type": "display_data"
    }
   ],
   "source": [
    "# Quick plot line graph with stock dataframe\n",
    "data['4. close'].plot()\n",
    "plt.title('Times Series (Daily) for the TSLA stock closing price')\n",
    "plt.show()"
   ]
  },
  {
   "cell_type": "code",
   "execution_count": 15,
   "metadata": {},
   "outputs": [],
   "source": [
    "# Save stock dataframe into csv file\n",
    "data.to_csv(r'stock_data_tsla.csv', index = True)"
   ]
  },
  {
   "cell_type": "code",
   "execution_count": 16,
   "metadata": {},
   "outputs": [],
   "source": [
    "# Reload stock dataframe from csv file\n",
    "data_from_csv = pd.read_csv('stock_data_tsla.csv', index_col='date')"
   ]
  },
  {
   "cell_type": "code",
   "execution_count": 17,
   "metadata": {},
   "outputs": [
    {
     "data": {
      "text/html": [
       "<div>\n",
       "<style scoped>\n",
       "    .dataframe tbody tr th:only-of-type {\n",
       "        vertical-align: middle;\n",
       "    }\n",
       "\n",
       "    .dataframe tbody tr th {\n",
       "        vertical-align: top;\n",
       "    }\n",
       "\n",
       "    .dataframe thead th {\n",
       "        text-align: right;\n",
       "    }\n",
       "</style>\n",
       "<table border=\"1\" class=\"dataframe\">\n",
       "  <thead>\n",
       "    <tr style=\"text-align: right;\">\n",
       "      <th></th>\n",
       "      <th>1. open</th>\n",
       "      <th>2. high</th>\n",
       "      <th>3. low</th>\n",
       "      <th>4. close</th>\n",
       "      <th>5. volume</th>\n",
       "    </tr>\n",
       "    <tr>\n",
       "      <th>date</th>\n",
       "      <th></th>\n",
       "      <th></th>\n",
       "      <th></th>\n",
       "      <th></th>\n",
       "      <th></th>\n",
       "    </tr>\n",
       "  </thead>\n",
       "  <tbody>\n",
       "    <tr>\n",
       "      <th>2021-10-25 20:00:00</th>\n",
       "      <td>1024.40</td>\n",
       "      <td>1030.40</td>\n",
       "      <td>1022.55</td>\n",
       "      <td>1030.00</td>\n",
       "      <td>109966.0</td>\n",
       "    </tr>\n",
       "    <tr>\n",
       "      <th>2021-10-25 19:00:00</th>\n",
       "      <td>1018.00</td>\n",
       "      <td>1024.98</td>\n",
       "      <td>1018.00</td>\n",
       "      <td>1024.60</td>\n",
       "      <td>69514.0</td>\n",
       "    </tr>\n",
       "    <tr>\n",
       "      <th>2021-10-25 18:00:00</th>\n",
       "      <td>1027.27</td>\n",
       "      <td>1029.50</td>\n",
       "      <td>1017.02</td>\n",
       "      <td>1018.13</td>\n",
       "      <td>120912.0</td>\n",
       "    </tr>\n",
       "    <tr>\n",
       "      <th>2021-10-25 17:00:00</th>\n",
       "      <td>1024.86</td>\n",
       "      <td>1033.75</td>\n",
       "      <td>1024.86</td>\n",
       "      <td>1027.17</td>\n",
       "      <td>617351.0</td>\n",
       "    </tr>\n",
       "    <tr>\n",
       "      <th>2021-10-25 16:00:00</th>\n",
       "      <td>1021.01</td>\n",
       "      <td>1030.69</td>\n",
       "      <td>953.00</td>\n",
       "      <td>1024.86</td>\n",
       "      <td>7972107.0</td>\n",
       "    </tr>\n",
       "  </tbody>\n",
       "</table>\n",
       "</div>"
      ],
      "text/plain": [
       "                     1. open  2. high   3. low  4. close  5. volume\n",
       "date                                                               \n",
       "2021-10-25 20:00:00  1024.40  1030.40  1022.55   1030.00   109966.0\n",
       "2021-10-25 19:00:00  1018.00  1024.98  1018.00   1024.60    69514.0\n",
       "2021-10-25 18:00:00  1027.27  1029.50  1017.02   1018.13   120912.0\n",
       "2021-10-25 17:00:00  1024.86  1033.75  1024.86   1027.17   617351.0\n",
       "2021-10-25 16:00:00  1021.01  1030.69   953.00   1024.86  7972107.0"
      ]
     },
     "execution_count": 17,
     "metadata": {},
     "output_type": "execute_result"
    }
   ],
   "source": [
    "# Display header of stock dataframe, reload from csv\n",
    "data_from_csv.head()"
   ]
  },
  {
   "cell_type": "code",
   "execution_count": 18,
   "metadata": {
    "scrolled": true
   },
   "outputs": [
    {
     "name": "stdout",
     "output_type": "stream",
     "text": [
      "<class 'pandas.core.frame.DataFrame'>\n",
      "Index: 639 entries, 2021-10-25 20:00:00 to 2021-08-30 05:00:00\n",
      "Data columns (total 5 columns):\n",
      " #   Column     Non-Null Count  Dtype  \n",
      "---  ------     --------------  -----  \n",
      " 0   1. open    639 non-null    float64\n",
      " 1   2. high    639 non-null    float64\n",
      " 2   3. low     639 non-null    float64\n",
      " 3   4. close   639 non-null    float64\n",
      " 4   5. volume  639 non-null    float64\n",
      "dtypes: float64(5)\n",
      "memory usage: 30.0+ KB\n"
     ]
    }
   ],
   "source": [
    "# Check stock dataframe information\n",
    "data_from_csv.info()"
   ]
  },
  {
   "cell_type": "code",
   "execution_count": 20,
   "metadata": {},
   "outputs": [
    {
     "data": {
      "image/png": "[encoded data removed]",
      "text/plain": [
       "<Figure size 432x288 with 1 Axes>"
      ]
     },
     "metadata": {
      "needs_background": "light"
     },
     "output_type": "display_data"
    }
   ],
   "source": [
    "# Quick plot line graph with stock dataframe\n",
    "data_from_csv['4. close'].plot()\n",
    "plt.title('Times Series (Daily) for the TSLA stock closing price')\n",
    "plt.show()"
   ]
  },
  {
   "cell_type": "code",
   "execution_count": 21,
   "metadata": {},
   "outputs": [],
   "source": [
    "# Create new stock dataframe which select all of records\n",
    "selected_data = data_from_csv[0:639]"
   ]
  },
  {
   "cell_type": "code",
   "execution_count": 22,
   "metadata": {},
   "outputs": [
    {
     "name": "stdout",
     "output_type": "stream",
     "text": [
      "<class 'pandas.core.frame.DataFrame'>\n",
      "Index: 639 entries, 2021-10-25 20:00:00 to 2021-08-30 05:00:00\n",
      "Data columns (total 5 columns):\n",
      " #   Column     Non-Null Count  Dtype  \n",
      "---  ------     --------------  -----  \n",
      " 0   1. open    639 non-null    float64\n",
      " 1   2. high    639 non-null    float64\n",
      " 2   3. low     639 non-null    float64\n",
      " 3   4. close   639 non-null    float64\n",
      " 4   5. volume  639 non-null    float64\n",
      "dtypes: float64(5)\n",
      "memory usage: 30.0+ KB\n"
     ]
    }
   ],
   "source": [
    "# Check new stock dataframe information\n",
    "selected_data.info()"
   ]
  },
  {
   "cell_type": "code",
   "execution_count": 23,
   "metadata": {},
   "outputs": [
    {
     "data": {
      "text/html": [
       "<div>\n",
       "<style scoped>\n",
       "    .dataframe tbody tr th:only-of-type {\n",
       "        vertical-align: middle;\n",
       "    }\n",
       "\n",
       "    .dataframe tbody tr th {\n",
       "        vertical-align: top;\n",
       "    }\n",
       "\n",
       "    .dataframe thead th {\n",
       "        text-align: right;\n",
       "    }\n",
       "</style>\n",
       "<table border=\"1\" class=\"dataframe\">\n",
       "  <thead>\n",
       "    <tr style=\"text-align: right;\">\n",
       "      <th></th>\n",
       "      <th>1. open</th>\n",
       "      <th>2. high</th>\n",
       "      <th>3. low</th>\n",
       "      <th>4. close</th>\n",
       "      <th>5. volume</th>\n",
       "    </tr>\n",
       "    <tr>\n",
       "      <th>date</th>\n",
       "      <th></th>\n",
       "      <th></th>\n",
       "      <th></th>\n",
       "      <th></th>\n",
       "      <th></th>\n",
       "    </tr>\n",
       "  </thead>\n",
       "  <tbody>\n",
       "    <tr>\n",
       "      <th>2021-10-25 20:00:00</th>\n",
       "      <td>1024.40</td>\n",
       "      <td>1030.40</td>\n",
       "      <td>1022.55</td>\n",
       "      <td>1030.00</td>\n",
       "      <td>109966.0</td>\n",
       "    </tr>\n",
       "    <tr>\n",
       "      <th>2021-10-25 19:00:00</th>\n",
       "      <td>1018.00</td>\n",
       "      <td>1024.98</td>\n",
       "      <td>1018.00</td>\n",
       "      <td>1024.60</td>\n",
       "      <td>69514.0</td>\n",
       "    </tr>\n",
       "    <tr>\n",
       "      <th>2021-10-25 18:00:00</th>\n",
       "      <td>1027.27</td>\n",
       "      <td>1029.50</td>\n",
       "      <td>1017.02</td>\n",
       "      <td>1018.13</td>\n",
       "      <td>120912.0</td>\n",
       "    </tr>\n",
       "    <tr>\n",
       "      <th>2021-10-25 17:00:00</th>\n",
       "      <td>1024.86</td>\n",
       "      <td>1033.75</td>\n",
       "      <td>1024.86</td>\n",
       "      <td>1027.17</td>\n",
       "      <td>617351.0</td>\n",
       "    </tr>\n",
       "    <tr>\n",
       "      <th>2021-10-25 16:00:00</th>\n",
       "      <td>1021.01</td>\n",
       "      <td>1030.69</td>\n",
       "      <td>953.00</td>\n",
       "      <td>1024.86</td>\n",
       "      <td>7972107.0</td>\n",
       "    </tr>\n",
       "  </tbody>\n",
       "</table>\n",
       "</div>"
      ],
      "text/plain": [
       "                     1. open  2. high   3. low  4. close  5. volume\n",
       "date                                                               \n",
       "2021-10-25 20:00:00  1024.40  1030.40  1022.55   1030.00   109966.0\n",
       "2021-10-25 19:00:00  1018.00  1024.98  1018.00   1024.60    69514.0\n",
       "2021-10-25 18:00:00  1027.27  1029.50  1017.02   1018.13   120912.0\n",
       "2021-10-25 17:00:00  1024.86  1033.75  1024.86   1027.17   617351.0\n",
       "2021-10-25 16:00:00  1021.01  1030.69   953.00   1024.86  7972107.0"
      ]
     },
     "execution_count": 23,
     "metadata": {},
     "output_type": "execute_result"
    }
   ],
   "source": [
    "# Display header of new stock dataframe, latest record is on 2021-10-25\n",
    "selected_data.head()"
   ]
  },
  {
   "cell_type": "code",
   "execution_count": 24,
   "metadata": {
    "scrolled": true
   },
   "outputs": [
    {
     "data": {
      "text/html": [
       "<div>\n",
       "<style scoped>\n",
       "    .dataframe tbody tr th:only-of-type {\n",
       "        vertical-align: middle;\n",
       "    }\n",
       "\n",
       "    .dataframe tbody tr th {\n",
       "        vertical-align: top;\n",
       "    }\n",
       "\n",
       "    .dataframe thead th {\n",
       "        text-align: right;\n",
       "    }\n",
       "</style>\n",
       "<table border=\"1\" class=\"dataframe\">\n",
       "  <thead>\n",
       "    <tr style=\"text-align: right;\">\n",
       "      <th></th>\n",
       "      <th>1. open</th>\n",
       "      <th>2. high</th>\n",
       "      <th>3. low</th>\n",
       "      <th>4. close</th>\n",
       "      <th>5. volume</th>\n",
       "    </tr>\n",
       "    <tr>\n",
       "      <th>date</th>\n",
       "      <th></th>\n",
       "      <th></th>\n",
       "      <th></th>\n",
       "      <th></th>\n",
       "      <th></th>\n",
       "    </tr>\n",
       "  </thead>\n",
       "  <tbody>\n",
       "    <tr>\n",
       "      <th>2021-08-30 09:00:00</th>\n",
       "      <td>714.0</td>\n",
       "      <td>715.00</td>\n",
       "      <td>713.0001</td>\n",
       "      <td>714.76</td>\n",
       "      <td>42278.0</td>\n",
       "    </tr>\n",
       "    <tr>\n",
       "      <th>2021-08-30 08:00:00</th>\n",
       "      <td>714.5</td>\n",
       "      <td>714.93</td>\n",
       "      <td>712.3200</td>\n",
       "      <td>713.90</td>\n",
       "      <td>28415.0</td>\n",
       "    </tr>\n",
       "    <tr>\n",
       "      <th>2021-08-30 07:00:00</th>\n",
       "      <td>715.6</td>\n",
       "      <td>715.60</td>\n",
       "      <td>715.1300</td>\n",
       "      <td>715.13</td>\n",
       "      <td>4107.0</td>\n",
       "    </tr>\n",
       "    <tr>\n",
       "      <th>2021-08-30 06:00:00</th>\n",
       "      <td>715.0</td>\n",
       "      <td>715.40</td>\n",
       "      <td>715.0000</td>\n",
       "      <td>715.40</td>\n",
       "      <td>4369.0</td>\n",
       "    </tr>\n",
       "    <tr>\n",
       "      <th>2021-08-30 05:00:00</th>\n",
       "      <td>714.0</td>\n",
       "      <td>715.50</td>\n",
       "      <td>714.0000</td>\n",
       "      <td>715.10</td>\n",
       "      <td>10728.0</td>\n",
       "    </tr>\n",
       "  </tbody>\n",
       "</table>\n",
       "</div>"
      ],
      "text/plain": [
       "                     1. open  2. high    3. low  4. close  5. volume\n",
       "date                                                                \n",
       "2021-08-30 09:00:00    714.0   715.00  713.0001    714.76    42278.0\n",
       "2021-08-30 08:00:00    714.5   714.93  712.3200    713.90    28415.0\n",
       "2021-08-30 07:00:00    715.6   715.60  715.1300    715.13     4107.0\n",
       "2021-08-30 06:00:00    715.0   715.40  715.0000    715.40     4369.0\n",
       "2021-08-30 05:00:00    714.0   715.50  714.0000    715.10    10728.0"
      ]
     },
     "execution_count": 24,
     "metadata": {},
     "output_type": "execute_result"
    }
   ],
   "source": [
    "# Display footer of new stock dataframe, last record is on 2021-08-30\n",
    "selected_data.tail()"
   ]
  },
  {
   "cell_type": "code",
   "execution_count": 27,
   "metadata": {},
   "outputs": [
    {
     "data": {
      "image/png": "[encoded data removed]",
      "text/plain": [
       "<Figure size 432x288 with 1 Axes>"
      ]
     },
     "metadata": {
      "needs_background": "light"
     },
     "output_type": "display_data"
    }
   ],
   "source": [
    "# Quick plot line graph with new stock dataframe, from 2021-10-25 to 2021-08-30\n",
    "selected_data['4. close'].plot()\n",
    "plt.title('Times Series (Daily) for the TSLA stock closing price')\n",
    "plt.show()"
   ]
  },
  {
   "cell_type": "code",
   "execution_count": 28,
   "metadata": {},
   "outputs": [],
   "source": [
    "# As we're going to forecast close price of stock, create new temporary dataframe and only\n",
    "# select close price column.\n",
    "df0=selected_data.reset_index()['4. close']"
   ]
  },
  {
   "cell_type": "code",
   "execution_count": 29,
   "metadata": {},
   "outputs": [],
   "source": [
    "# Reset the records order from latest to oldest\n",
    "df1=df0[::-1].reset_index(drop=True)"
   ]
  },
  {
   "cell_type": "code",
   "execution_count": 30,
   "metadata": {},
   "outputs": [
    {
     "data": {
      "text/plain": [
       "0    715.10\n",
       "1    715.40\n",
       "2    715.13\n",
       "3    713.90\n",
       "4    714.76\n",
       "Name: 4. close, dtype: float64"
      ]
     },
     "execution_count": 30,
     "metadata": {},
     "output_type": "execute_result"
    }
   ],
   "source": [
    "# Display header of close price dataframe, which order by oldest to latest\n",
    "df1.head()"
   ]
  },
  {
   "cell_type": "code",
   "execution_count": 31,
   "metadata": {},
   "outputs": [
    {
     "data": {
      "text/plain": [
       "[<matplotlib.lines.Line2D at 0x7fde05d0dc40>]"
      ]
     },
     "execution_count": 31,
     "metadata": {},
     "output_type": "execute_result"
    },
    {
     "data": {
      "image/png": "[encoded data removed]",
      "text/plain": [
       "<Figure size 432x288 with 1 Axes>"
      ]
     },
     "metadata": {
      "needs_background": "light"
     },
     "output_type": "display_data"
    }
   ],
   "source": [
    "# Quick plot line graph with close price dataframe, from oldest 0 (2021-08-30) to 639 (2021-10-25)\n",
    "plt.plot(df1)"
   ]
  },
  {
   "cell_type": "code",
   "execution_count": 32,
   "metadata": {},
   "outputs": [],
   "source": [
    "# Perform Mix-Max Scaling data normalization to scale it between 0 to 1, and transform it into array\n",
    "from sklearn.preprocessing import MinMaxScaler\n",
    "scaler=MinMaxScaler(feature_range=(0,1))\n",
    "df1=scaler.fit_transform(np.array(df1).reshape(-1,1))"
   ]
  },
  {
   "cell_type": "code",
   "execution_count": 33,
   "metadata": {},
   "outputs": [
    {
     "name": "stdout",
     "output_type": "stream",
     "text": [
      "(639, 1)\n"
     ]
    }
   ],
   "source": [
    "# Check shape of close price array\n",
    "print(df1.shape)"
   ]
  },
  {
   "cell_type": "code",
   "execution_count": 34,
   "metadata": {},
   "outputs": [
    {
     "data": {
      "text/plain": [
       "array([[0.00379627],\n",
       "       [0.00474533],\n",
       "       [0.00389117],\n",
       "       [0.        ],\n",
       "       [0.00272066],\n",
       "       [0.01316039],\n",
       "       [0.02597279],\n",
       "       [0.04669408],\n",
       "       [0.03460962],\n",
       "       [0.03717178],\n",
       "       [0.04780449],\n",
       "       [0.053559  ],\n",
       "       [0.0629864 ],\n",
       "       [0.06463145],\n",
       "       [0.06469472],\n",
       "       [0.06358747],\n",
       "       [0.06871243],\n",
       "       [0.06570705],\n",
       "       [0.05077507],\n",
       "       [0.05567858],\n",
       "       [0.04903512],\n",
       "       [0.04833913],\n",
       "       [0.08114521],\n",
       "       [0.07564062],\n",
       "       [0.0772224 ],\n",
       "       [0.07369598],\n",
       "       [0.07377412],\n",
       "       [0.06915533],\n",
       "       [0.06706738],\n",
       "       [0.06390383],\n",
       "       [0.06358747],\n",
       "       [0.06358747],\n",
       "       [0.06510598],\n",
       "       [0.05726036],\n",
       "       [0.06130971],\n",
       "       [0.06902879],\n",
       "       [0.06485289],\n",
       "       [0.07937362],\n",
       "       [0.07808668],\n",
       "       [0.07271433],\n",
       "       [0.06850142],\n",
       "       [0.07319171],\n",
       "       [0.06277602],\n",
       "       [0.06384056],\n",
       "       [0.05852578],\n",
       "       [0.05710218],\n",
       "       [0.05678583],\n",
       "       [0.05472952],\n",
       "       [0.05226194],\n",
       "       [0.04273964],\n",
       "       [0.0444796 ],\n",
       "       [0.05726036],\n",
       "       [0.06621322],\n",
       "       [0.07023094],\n",
       "       [0.0816827 ],\n",
       "       [0.08003796],\n",
       "       [0.0756615 ],\n",
       "       [0.06478962],\n",
       "       [0.05900032],\n",
       "       [0.05849415],\n",
       "       [0.05884214],\n",
       "       [0.05849415],\n",
       "       [0.0582727 ],\n",
       "       [0.06137298],\n",
       "       [0.05061689],\n",
       "       [0.05093325],\n",
       "       [0.0540968 ],\n",
       "       [0.06422018],\n",
       "       [0.06675103],\n",
       "       [0.05710218],\n",
       "       [0.05158178],\n",
       "       [0.03840557],\n",
       "       [0.05140778],\n",
       "       [0.03967131],\n",
       "       [0.0407466 ],\n",
       "       [0.06279658],\n",
       "       [0.06168934],\n",
       "       [0.0596963 ],\n",
       "       [0.06042392],\n",
       "       [0.06516925],\n",
       "       [0.07307814],\n",
       "       [0.06719393],\n",
       "       [0.06773173],\n",
       "       [0.07307814],\n",
       "       [0.08712433],\n",
       "       [0.1274913 ],\n",
       "       [0.12994938],\n",
       "       [0.1165454 ],\n",
       "       [0.11612528],\n",
       "       [0.12764948],\n",
       "       [0.12948086],\n",
       "       [0.12287251],\n",
       "       [0.12053148],\n",
       "       [0.12211326],\n",
       "       [0.11736792],\n",
       "       [0.11834862],\n",
       "       [0.1166403 ],\n",
       "       [0.12875672],\n",
       "       [0.13793103],\n",
       "       [0.15055362],\n",
       "       [0.15279975],\n",
       "       [0.13182537],\n",
       "       [0.10148687],\n",
       "       [0.09158494],\n",
       "       [0.10107561],\n",
       "       [0.11388801],\n",
       "       [0.12043689],\n",
       "       [0.12650111],\n",
       "       [0.12369503],\n",
       "       [0.12448592],\n",
       "       [0.12053148],\n",
       "       [0.11910788],\n",
       "       [0.11388801],\n",
       "       [0.11420437],\n",
       "       [0.11578614],\n",
       "       [0.12454919],\n",
       "       [0.13160392],\n",
       "       [0.14289782],\n",
       "       [0.13943372],\n",
       "       [0.13135463],\n",
       "       [0.13481999],\n",
       "       [0.13268364],\n",
       "       [0.13362227],\n",
       "       [0.12869345],\n",
       "       [0.12685859],\n",
       "       [0.12527681],\n",
       "       [0.12559317],\n",
       "       [0.12638406],\n",
       "       [0.14330908],\n",
       "       [0.14055679],\n",
       "       [0.14267637],\n",
       "       [0.14302436],\n",
       "       [0.14618792],\n",
       "       [0.13881683],\n",
       "       [0.13214204],\n",
       "       [0.12730149],\n",
       "       [0.12809712],\n",
       "       [0.11667194],\n",
       "       [0.11015501],\n",
       "       [0.07067384],\n",
       "       [0.06675103],\n",
       "       [0.06501107],\n",
       "       [0.06263841],\n",
       "       [0.05884214],\n",
       "       [0.08573236],\n",
       "       [0.08636507],\n",
       "       [0.09459032],\n",
       "       [0.08731414],\n",
       "       [0.08668143],\n",
       "       [0.01638722],\n",
       "       [0.03103448],\n",
       "       [0.02391648],\n",
       "       [0.05311579],\n",
       "       [0.05896868],\n",
       "       [0.08192945],\n",
       "       [0.0924391 ],\n",
       "       [0.09364125],\n",
       "       [0.09155331],\n",
       "       [0.09269219],\n",
       "       [0.09205947],\n",
       "       [0.0800696 ],\n",
       "       [0.08035432],\n",
       "       [0.07975324],\n",
       "       [0.0889516 ],\n",
       "       [0.12059475],\n",
       "       [0.10102816],\n",
       "       [0.10742518],\n",
       "       [0.09655172],\n",
       "       [0.08909459],\n",
       "       [0.08241063],\n",
       "       [0.09693135],\n",
       "       [0.09886112],\n",
       "       [0.09680481],\n",
       "       [0.09601392],\n",
       "       [0.09996836],\n",
       "       [0.1047137 ],\n",
       "       [0.10503005],\n",
       "       [0.10091743],\n",
       "       [0.09459032],\n",
       "       [0.09965201],\n",
       "       [0.08411895],\n",
       "       [0.09433724],\n",
       "       [0.10176874],\n",
       "       [0.11790573],\n",
       "       [0.12075324],\n",
       "       [0.1267795 ],\n",
       "       [0.13277444],\n",
       "       [0.13037014],\n",
       "       [0.13002214],\n",
       "       [0.13065486],\n",
       "       [0.13252135],\n",
       "       [0.12053148],\n",
       "       [0.12369503],\n",
       "       [0.12369503],\n",
       "       [0.12148054],\n",
       "       [0.12137583],\n",
       "       [0.11315343],\n",
       "       [0.11033376],\n",
       "       [0.11730465],\n",
       "       [0.12312559],\n",
       "       [0.12429643],\n",
       "       [0.12954761],\n",
       "       [0.13606454],\n",
       "       [0.13419804],\n",
       "       [0.13729832],\n",
       "       [0.1360329 ],\n",
       "       [0.13160392],\n",
       "       [0.12907308],\n",
       "       [0.1237583 ],\n",
       "       [0.12369503],\n",
       "       [0.13334388],\n",
       "       [0.13593799],\n",
       "       [0.14359222],\n",
       "       [0.12986397],\n",
       "       [0.12006201],\n",
       "       [0.13831066],\n",
       "       [0.12834546],\n",
       "       [0.12546662],\n",
       "       [0.1459981 ],\n",
       "       [0.14188548],\n",
       "       [0.14425783],\n",
       "       [0.14267637],\n",
       "       [0.14305599],\n",
       "       [0.09838659],\n",
       "       [0.0919013 ],\n",
       "       [0.09411579],\n",
       "       [0.08889592],\n",
       "       [0.06501139],\n",
       "       [0.06646631],\n",
       "       [0.03929136],\n",
       "       [0.04618792],\n",
       "       [0.04890857],\n",
       "       [0.04792945],\n",
       "       [0.02306201],\n",
       "       [0.05175577],\n",
       "       [0.04988928],\n",
       "       [0.04919329],\n",
       "       [0.04776969],\n",
       "       [0.04764315],\n",
       "       [0.07374249],\n",
       "       [0.07149636],\n",
       "       [0.06991458],\n",
       "       [0.06754192],\n",
       "       [0.06358747],\n",
       "       [0.06833281],\n",
       "       [0.07310978],\n",
       "       [0.09096805],\n",
       "       [0.08719488],\n",
       "       [0.08003733],\n",
       "       [0.08310661],\n",
       "       [0.0806074 ],\n",
       "       [0.07529263],\n",
       "       [0.071528  ],\n",
       "       [0.07434356],\n",
       "       [0.07307814],\n",
       "       [0.09591901],\n",
       "       [0.09364125],\n",
       "       [0.0947485 ],\n",
       "       [0.09291363],\n",
       "       [0.09205947],\n",
       "       [0.0876305 ],\n",
       "       [0.10824106],\n",
       "       [0.11006295],\n",
       "       [0.10716545],\n",
       "       [0.10575767],\n",
       "       [0.10550459],\n",
       "       [0.11974059],\n",
       "       [0.1189497 ],\n",
       "       [0.11945587],\n",
       "       [0.11999367],\n",
       "       [0.12875672],\n",
       "       [0.13805758],\n",
       "       [0.14039861],\n",
       "       [0.13631762],\n",
       "       [0.13777286],\n",
       "       [0.1331857 ],\n",
       "       [0.12546662],\n",
       "       [0.12625751],\n",
       "       [0.11196773],\n",
       "       [0.12155963],\n",
       "       [0.12780766],\n",
       "       [0.12635242],\n",
       "       [0.12584625],\n",
       "       [0.12448592],\n",
       "       [0.12527681],\n",
       "       [0.12369503],\n",
       "       [0.12306232],\n",
       "       [0.1047137 ],\n",
       "       [0.09996836],\n",
       "       [0.10218285],\n",
       "       [0.10202468],\n",
       "       [0.09838659],\n",
       "       [0.11720974],\n",
       "       [0.15585258],\n",
       "       [0.15488769],\n",
       "       [0.16766846],\n",
       "       [0.1629864 ],\n",
       "       [0.17503954],\n",
       "       [0.19183803],\n",
       "       [0.18838975],\n",
       "       [0.19171148],\n",
       "       [0.19006643],\n",
       "       [0.18933882],\n",
       "       [0.20041126],\n",
       "       [0.18892755],\n",
       "       [0.18408731],\n",
       "       [0.18152483],\n",
       "       [0.18222082],\n",
       "       [0.1960136 ],\n",
       "       [0.22337868],\n",
       "       [0.24699462],\n",
       "       [0.24843404],\n",
       "       [0.25895286],\n",
       "       [0.26564378],\n",
       "       [0.24517558],\n",
       "       [0.23948118],\n",
       "       [0.24213856],\n",
       "       [0.2350522 ],\n",
       "       [0.23119266],\n",
       "       [0.20509332],\n",
       "       [0.19962037],\n",
       "       [0.20278393],\n",
       "       [0.21891806],\n",
       "       [0.22097438],\n",
       "       [0.22683328],\n",
       "       [0.21701993],\n",
       "       [0.20762417],\n",
       "       [0.203385  ],\n",
       "       [0.18870611],\n",
       "       [0.21097754],\n",
       "       [0.20139196],\n",
       "       [0.19943056],\n",
       "       [0.18886428],\n",
       "       [0.18975008],\n",
       "       [0.19012971],\n",
       "       [0.22176526],\n",
       "       [0.22477064],\n",
       "       [0.22227143],\n",
       "       [0.2232205 ],\n",
       "       [0.22094274],\n",
       "       [0.23600127],\n",
       "       [0.24272097],\n",
       "       [0.21600791],\n",
       "       [0.19329326],\n",
       "       [0.1934796 ],\n",
       "       [0.2209111 ],\n",
       "       [0.21322366],\n",
       "       [0.2122746 ],\n",
       "       [0.20056912],\n",
       "       [0.20404935],\n",
       "       [0.20879469],\n",
       "       [0.22176526],\n",
       "       [0.21037646],\n",
       "       [0.21195824],\n",
       "       [0.21986713],\n",
       "       [0.21803227],\n",
       "       [0.22110092],\n",
       "       [0.21056628],\n",
       "       [0.21306549],\n",
       "       [0.20961721],\n",
       "       [0.22442265],\n",
       "       [0.21255932],\n",
       "       [0.19367289],\n",
       "       [0.19247074],\n",
       "       [0.19322999],\n",
       "       [0.19329326],\n",
       "       [0.19370452],\n",
       "       [0.18582727],\n",
       "       [0.18063904],\n",
       "       [0.18693451],\n",
       "       [0.20404935],\n",
       "       [0.20468206],\n",
       "       [0.17172224],\n",
       "       [0.18033913],\n",
       "       [0.19553211],\n",
       "       [0.17915217],\n",
       "       [0.16925024],\n",
       "       [0.19376811],\n",
       "       [0.19398924],\n",
       "       [0.19215438],\n",
       "       [0.19307181],\n",
       "       [0.19300854],\n",
       "       [0.19329326],\n",
       "       [0.23536855],\n",
       "       [0.25656438],\n",
       "       [0.26463145],\n",
       "       [0.26624486],\n",
       "       [0.26605505],\n",
       "       [0.28547928],\n",
       "       [0.24887694],\n",
       "       [0.23188864],\n",
       "       [0.20784562],\n",
       "       [0.21622904],\n",
       "       [0.21942455],\n",
       "       [0.21414109],\n",
       "       [0.20914268],\n",
       "       [0.21069282],\n",
       "       [0.21543815],\n",
       "       [0.21385637],\n",
       "       [0.23916482],\n",
       "       [0.2364758 ],\n",
       "       [0.23125593],\n",
       "       [0.23125593],\n",
       "       [0.22967415],\n",
       "       [0.25717305],\n",
       "       [0.24397343],\n",
       "       [0.21297058],\n",
       "       [0.20325846],\n",
       "       [0.21097596],\n",
       "       [0.21808795],\n",
       "       [0.21100917],\n",
       "       [0.2122746 ],\n",
       "       [0.21290731],\n",
       "       [0.21164189],\n",
       "       [0.20911104],\n",
       "       [0.1758937 ],\n",
       "       [0.16959823],\n",
       "       [0.17428029],\n",
       "       [0.18595381],\n",
       "       [0.1838975 ],\n",
       "       [0.19788042],\n",
       "       [0.22344195],\n",
       "       [0.2251819 ],\n",
       "       [0.20344828],\n",
       "       [0.21591269],\n",
       "       [0.21422018],\n",
       "       [0.21711484],\n",
       "       [0.21480544],\n",
       "       [0.21701993],\n",
       "       [0.22018349],\n",
       "       [0.22094274],\n",
       "       [0.23989244],\n",
       "       [0.23631762],\n",
       "       [0.2407466 ],\n",
       "       [0.23948118],\n",
       "       [0.2360329 ],\n",
       "       [0.23154065],\n",
       "       [0.2331857 ],\n",
       "       [0.23347042],\n",
       "       [0.2313192 ],\n",
       "       [0.23087188],\n",
       "       [0.28415059],\n",
       "       [0.25204049],\n",
       "       [0.25732363],\n",
       "       [0.25529896],\n",
       "       [0.24232838],\n",
       "       [0.2407466 ],\n",
       "       [0.23960772],\n",
       "       [0.23758304],\n",
       "       [0.24549193],\n",
       "       [0.25450807],\n",
       "       [0.26057577],\n",
       "       [0.21964568],\n",
       "       [0.22097438],\n",
       "       [0.21800063],\n",
       "       [0.22667099],\n",
       "       [0.22885163],\n",
       "       [0.2326479 ],\n",
       "       [0.22655963],\n",
       "       [0.22556153],\n",
       "       [0.22524518],\n",
       "       [0.22176526],\n",
       "       [0.22524518],\n",
       "       [0.22815565],\n",
       "       [0.22964252],\n",
       "       [0.21860171],\n",
       "       [0.22303069],\n",
       "       [0.22619424],\n",
       "       [0.26425182],\n",
       "       [0.25975957],\n",
       "       [0.25216704],\n",
       "       [0.25694401],\n",
       "       [0.25768744],\n",
       "       [0.26761025],\n",
       "       [0.24602974],\n",
       "       [0.24770642],\n",
       "       [0.24682063],\n",
       "       [0.24517558],\n",
       "       [0.24897184],\n",
       "       [0.25656438],\n",
       "       [0.25862069],\n",
       "       [0.26478962],\n",
       "       [0.26852262],\n",
       "       [0.27693768],\n",
       "       [0.29088864],\n",
       "       [0.28656216],\n",
       "       [0.29591901],\n",
       "       [0.29648845],\n",
       "       [0.30391079],\n",
       "       [0.30167668],\n",
       "       [0.29050933],\n",
       "       [0.28225245],\n",
       "       [0.28551091],\n",
       "       [0.28788358],\n",
       "       [0.28978171],\n",
       "       [0.31192661],\n",
       "       [0.31195824],\n",
       "       [0.30404935],\n",
       "       [0.30559949],\n",
       "       [0.30085416],\n",
       "       [0.30164505],\n",
       "       [0.29680449],\n",
       "       [0.3052515 ],\n",
       "       [0.29958874],\n",
       "       [0.30379627],\n",
       "       [0.30365391],\n",
       "       [0.30803543],\n",
       "       [0.30654856],\n",
       "       [0.31224296],\n",
       "       [0.31129389],\n",
       "       [0.31509016],\n",
       "       [0.32790256],\n",
       "       [0.32995887],\n",
       "       [0.32616261],\n",
       "       [0.32809238],\n",
       "       [0.3265106 ],\n",
       "       [0.32720658],\n",
       "       [0.32204998],\n",
       "       [0.32609934],\n",
       "       [0.33312243],\n",
       "       [0.33359696],\n",
       "       [0.33305916],\n",
       "       [0.3293578 ],\n",
       "       [0.3303385 ],\n",
       "       [0.32869345],\n",
       "       [0.33011705],\n",
       "       [0.33470421],\n",
       "       [0.34198039],\n",
       "       [0.33913319],\n",
       "       [0.33881683],\n",
       "       [0.34150585],\n",
       "       [0.34039861],\n",
       "       [0.3579826 ],\n",
       "       [0.37635242],\n",
       "       [0.37821512],\n",
       "       [0.37522936],\n",
       "       [0.37672888],\n",
       "       [0.38048086],\n",
       "       [0.40863651],\n",
       "       [0.41480544],\n",
       "       [0.41790573],\n",
       "       [0.42938943],\n",
       "       [0.42739639],\n",
       "       [0.41926606],\n",
       "       [0.4212591 ],\n",
       "       [0.42423284],\n",
       "       [0.43606454],\n",
       "       [0.43248972],\n",
       "       [0.46339766],\n",
       "       [0.46928187],\n",
       "       [0.46166213],\n",
       "       [0.47307814],\n",
       "       [0.50281556],\n",
       "       [0.50185068],\n",
       "       [0.49417906],\n",
       "       [0.50110724],\n",
       "       [0.50126542],\n",
       "       [0.49977855],\n",
       "       [0.50015818],\n",
       "       [0.52230307],\n",
       "       [0.52072129],\n",
       "       [0.52072129],\n",
       "       [0.51819045],\n",
       "       [0.51439418],\n",
       "       [0.47681114],\n",
       "       [0.49471686],\n",
       "       [0.49556786],\n",
       "       [0.49924075],\n",
       "       [0.50816197],\n",
       "       [0.49237583],\n",
       "       [0.4753559 ],\n",
       "       [0.47959506],\n",
       "       [0.48038595],\n",
       "       [0.478646  ],\n",
       "       [0.47061057],\n",
       "       [0.46488453],\n",
       "       [0.46978804],\n",
       "       [0.46849098],\n",
       "       [0.47168618],\n",
       "       [0.48197311],\n",
       "       [0.46902879],\n",
       "       [0.47503005],\n",
       "       [0.48743277],\n",
       "       [0.48312243],\n",
       "       [0.48241063],\n",
       "       [0.482031  ],\n",
       "       [0.4805125 ],\n",
       "       [0.46219551],\n",
       "       [0.45906359],\n",
       "       [0.44637773],\n",
       "       [0.43625435],\n",
       "       [0.45934831],\n",
       "       [0.45207213],\n",
       "       [0.45112306],\n",
       "       [0.43761468],\n",
       "       [0.44321417],\n",
       "       [0.53176178],\n",
       "       [0.58084467],\n",
       "       [0.56210092],\n",
       "       [0.57117969],\n",
       "       [0.55667732],\n",
       "       [0.57086365],\n",
       "       [0.56849098],\n",
       "       [0.56181588],\n",
       "       [0.55710218],\n",
       "       [0.55994938],\n",
       "       [0.553559  ],\n",
       "       [0.58241063],\n",
       "       [0.5791838 ],\n",
       "       [0.58494147],\n",
       "       [0.57608352],\n",
       "       [0.57608352],\n",
       "       [0.60455552],\n",
       "       [0.6048086 ],\n",
       "       [0.59623537],\n",
       "       [0.60066435],\n",
       "       [0.60662765],\n",
       "       [0.60430244],\n",
       "       [0.61879152],\n",
       "       [0.62005694],\n",
       "       [0.61910788],\n",
       "       [0.61717811],\n",
       "       [0.61800063],\n",
       "       [0.65703891],\n",
       "       [0.68918064],\n",
       "       [0.68997153],\n",
       "       [0.74058842],\n",
       "       [0.74375198],\n",
       "       [0.75640652],\n",
       "       [0.81888643],\n",
       "       [0.82496014],\n",
       "       [0.87424866],\n",
       "       [0.89294495],\n",
       "       [0.97155963],\n",
       "       [0.98373932],\n",
       "       [0.99104714],\n",
       "       [0.96244859],\n",
       "       [0.9829168 ],\n",
       "       [1.        ]])"
      ]
     },
     "execution_count": 34,
     "metadata": {},
     "output_type": "execute_result"
    }
   ],
   "source": [
    "# Display header and footer of close price array\n",
    "df1"
   ]
  },
  {
   "cell_type": "code",
   "execution_count": 35,
   "metadata": {},
   "outputs": [],
   "source": [
    "# Perform data split for training and test, 65% of records for training, 35% of records for test\n",
    "training_size=int(len(df1)*0.65)\n",
    "test_size=len(df1)-training_size\n",
    "train_data,test_data=df1[0:training_size,:],df1[training_size:len(df1),:1]"
   ]
  },
  {
   "cell_type": "code",
   "execution_count": 36,
   "metadata": {
    "scrolled": true
   },
   "outputs": [
    {
     "name": "stdout",
     "output_type": "stream",
     "text": [
      "train_data:  (415, 1)\n",
      "test_data:  (224, 1)\n"
     ]
    }
   ],
   "source": [
    "# Check shape of training and test data array\n",
    "print(\"train_data: \", train_data.shape)\n",
    "print(\"test_data: \", test_data.shape)"
   ]
  },
  {
   "cell_type": "code",
   "execution_count": 37,
   "metadata": {},
   "outputs": [],
   "source": [
    "# Define function to convert dataset array into matrix\n",
    "def create_dataset(dataset, time_step=1):\n",
    "    dataX, dataY = [], []\n",
    "    for i in range(len(dataset)-time_step-1):\n",
    "        a = dataset[i:(i+time_step), 0]\n",
    "        dataX.append(a)\n",
    "        dataY.append(dataset[i + time_step, 0])\n",
    "    return np.array(dataX), np.array(dataY)"
   ]
  },
  {
   "cell_type": "code",
   "execution_count": 38,
   "metadata": {
    "scrolled": true
   },
   "outputs": [],
   "source": [
    "# Create training and test dataset matrix\n",
    "time_step = 50\n",
    "X_train, y_train = create_dataset(train_data, time_step)\n",
    "X_test, y_test = create_dataset(test_data, time_step)"
   ]
  },
  {
   "cell_type": "code",
   "execution_count": 39,
   "metadata": {
    "scrolled": true
   },
   "outputs": [
    {
     "name": "stdout",
     "output_type": "stream",
     "text": [
      "X_train:  (364, 50)\n",
      "y_train:  (364,)\n",
      "X_test:  (173, 50)\n",
      "y_test (173,)\n"
     ]
    }
   ],
   "source": [
    "# Check shape of training and test dataset matrix\n",
    "print(\"X_train: \", X_train.shape)\n",
    "print(\"y_train: \", y_train.shape)\n",
    "print(\"X_test: \", X_test.shape)\n",
    "print(\"y_test\", y_test.shape)"
   ]
  },
  {
   "cell_type": "code",
   "execution_count": 40,
   "metadata": {
    "scrolled": true
   },
   "outputs": [],
   "source": [
    "# Convert training and test dataset 2D matrix into 3D matrix\n",
    "X_train = X_train.reshape(X_train.shape[0],X_train.shape[1] , 1)\n",
    "X_test = X_test.reshape(X_test.shape[0],X_test.shape[1] , 1)"
   ]
  },
  {
   "cell_type": "code",
   "execution_count": 41,
   "metadata": {},
   "outputs": [
    {
     "name": "stdout",
     "output_type": "stream",
     "text": [
      "X_train:  (364, 50, 1)\n",
      "X_test:  (173, 50, 1)\n"
     ]
    }
   ],
   "source": [
    "# Check shape of training and test dataset matrix\n",
    "print(\"X_train: \", X_train.shape)\n",
    "print(\"X_test: \", X_test.shape)"
   ]
  },
  {
   "cell_type": "code",
   "execution_count": 42,
   "metadata": {},
   "outputs": [],
   "source": [
    "# Import necessary libraries for LSTM model training\n",
    "from tensorflow.keras.models import Sequential\n",
    "from tensorflow.keras.layers import Dense\n",
    "from tensorflow.keras.layers import LSTM"
   ]
  },
  {
   "cell_type": "code",
   "execution_count": 46,
   "metadata": {},
   "outputs": [],
   "source": [
    "# Construct LSTM model\n",
    "model=Sequential()\n",
    "model.add(LSTM(50,return_sequences=True,input_shape=(50,1)))\n",
    "model.add(LSTM(50,return_sequences=True))\n",
    "model.add(LSTM(50))\n",
    "model.add(Dense(1))\n",
    "model.compile(loss='mean_squared_error',optimizer='adam')"
   ]
  },
  {
   "cell_type": "code",
   "execution_count": 47,
   "metadata": {},
   "outputs": [
    {
     "name": "stdout",
     "output_type": "stream",
     "text": [
      "Model: \"sequential_1\"\n",
      "_________________________________________________________________\n",
      "Layer (type)                 Output Shape              Param #   \n",
      "=================================================================\n",
      "lstm_3 (LSTM)                (None, 50, 50)            10400     \n",
      "_________________________________________________________________\n",
      "lstm_4 (LSTM)                (None, 50, 50)            20200     \n",
      "_________________________________________________________________\n",
      "lstm_5 (LSTM)                (None, 50)                20200     \n",
      "_________________________________________________________________\n",
      "dense_1 (Dense)              (None, 1)                 51        \n",
      "=================================================================\n",
      "Total params: 50,851\n",
      "Trainable params: 50,851\n",
      "Non-trainable params: 0\n",
      "_________________________________________________________________\n"
     ]
    }
   ],
   "source": [
    "# Print LSTM model summary\n",
    "model.summary()"
   ]
  },
  {
   "cell_type": "code",
   "execution_count": 48,
   "metadata": {
    "scrolled": true
   },
   "outputs": [
    {
     "name": "stdout",
     "output_type": "stream",
     "text": [
      "Epoch 1/100\n",
      "6/6 [==============================] - 7s 387ms/step - loss: 0.0127 - val_loss: 0.0130\n",
      "Epoch 2/100\n",
      "6/6 [==============================] - 1s 107ms/step - loss: 0.0028 - val_loss: 0.0639\n",
      "Epoch 3/100\n",
      "6/6 [==============================] - 1s 112ms/step - loss: 0.0024 - val_loss: 0.0343\n",
      "Epoch 4/100\n",
      "6/6 [==============================] - 1s 112ms/step - loss: 0.0015 - val_loss: 0.0230\n",
      "Epoch 5/100\n",
      "6/6 [==============================] - 1s 109ms/step - loss: 0.0014 - val_loss: 0.0316\n",
      "Epoch 6/100\n",
      "6/6 [==============================] - 1s 109ms/step - loss: 0.0011 - val_loss: 0.0107\n",
      "Epoch 7/100\n",
      "6/6 [==============================] - 1s 107ms/step - loss: 0.0010 - val_loss: 0.0114\n",
      "Epoch 8/100\n",
      "6/6 [==============================] - 1s 108ms/step - loss: 9.5633e-04 - val_loss: 0.0066\n",
      "Epoch 9/100\n",
      "6/6 [==============================] - 1s 108ms/step - loss: 9.8945e-04 - val_loss: 0.0056\n",
      "Epoch 10/100\n",
      "6/6 [==============================] - 1s 109ms/step - loss: 8.1712e-04 - val_loss: 0.0070\n",
      "Epoch 11/100\n",
      "6/6 [==============================] - 1s 113ms/step - loss: 7.9094e-04 - val_loss: 0.0050\n",
      "Epoch 12/100\n",
      "6/6 [==============================] - 1s 110ms/step - loss: 7.2597e-04 - val_loss: 0.0076\n",
      "Epoch 13/100\n",
      "6/6 [==============================] - 1s 108ms/step - loss: 8.5981e-04 - val_loss: 0.0057\n",
      "Epoch 14/100\n",
      "6/6 [==============================] - 1s 109ms/step - loss: 7.5866e-04 - val_loss: 0.0063\n",
      "Epoch 15/100\n",
      "6/6 [==============================] - 1s 108ms/step - loss: 7.3112e-04 - val_loss: 0.0052\n",
      "Epoch 16/100\n",
      "6/6 [==============================] - 1s 110ms/step - loss: 7.7030e-04 - val_loss: 0.0063\n",
      "Epoch 17/100\n",
      "6/6 [==============================] - 1s 106ms/step - loss: 6.8625e-04 - val_loss: 0.0044\n",
      "Epoch 18/100\n",
      "6/6 [==============================] - 1s 105ms/step - loss: 7.2849e-04 - val_loss: 0.0056\n",
      "Epoch 19/100\n",
      "6/6 [==============================] - 1s 109ms/step - loss: 7.5560e-04 - val_loss: 0.0042\n",
      "Epoch 20/100\n",
      "6/6 [==============================] - 1s 121ms/step - loss: 7.5490e-04 - val_loss: 0.0053\n",
      "Epoch 21/100\n",
      "6/6 [==============================] - 1s 117ms/step - loss: 6.8573e-04 - val_loss: 0.0036\n",
      "Epoch 22/100\n",
      "6/6 [==============================] - 1s 142ms/step - loss: 6.8109e-04 - val_loss: 0.0054\n",
      "Epoch 23/100\n",
      "6/6 [==============================] - 1s 142ms/step - loss: 6.9186e-04 - val_loss: 0.0034\n",
      "Epoch 24/100\n",
      "6/6 [==============================] - 1s 124ms/step - loss: 6.7459e-04 - val_loss: 0.0037\n",
      "Epoch 25/100\n",
      "6/6 [==============================] - 1s 146ms/step - loss: 6.0462e-04 - val_loss: 0.0039\n",
      "Epoch 26/100\n",
      "6/6 [==============================] - 1s 112ms/step - loss: 6.8308e-04 - val_loss: 0.0028\n",
      "Epoch 27/100\n",
      "6/6 [==============================] - 1s 107ms/step - loss: 5.7779e-04 - val_loss: 0.0042\n",
      "Epoch 28/100\n",
      "6/6 [==============================] - 1s 107ms/step - loss: 6.7052e-04 - val_loss: 0.0022\n",
      "Epoch 29/100\n",
      "6/6 [==============================] - 1s 119ms/step - loss: 6.6797e-04 - val_loss: 0.0037\n",
      "Epoch 30/100\n",
      "6/6 [==============================] - 1s 106ms/step - loss: 6.3294e-04 - val_loss: 0.0022\n",
      "Epoch 31/100\n",
      "6/6 [==============================] - 1s 106ms/step - loss: 6.5853e-04 - val_loss: 0.0044\n",
      "Epoch 32/100\n",
      "6/6 [==============================] - 1s 106ms/step - loss: 6.4170e-04 - val_loss: 0.0036\n",
      "Epoch 33/100\n",
      "6/6 [==============================] - 1s 109ms/step - loss: 5.6350e-04 - val_loss: 0.0024\n",
      "Epoch 34/100\n",
      "6/6 [==============================] - 1s 107ms/step - loss: 6.3196e-04 - val_loss: 0.0027\n",
      "Epoch 35/100\n",
      "6/6 [==============================] - 1s 108ms/step - loss: 6.3731e-04 - val_loss: 0.0027\n",
      "Epoch 36/100\n",
      "6/6 [==============================] - 1s 104ms/step - loss: 6.0230e-04 - val_loss: 0.0018\n",
      "Epoch 37/100\n",
      "6/6 [==============================] - 1s 125ms/step - loss: 5.3992e-04 - val_loss: 0.0032\n",
      "Epoch 38/100\n",
      "6/6 [==============================] - 1s 138ms/step - loss: 5.7322e-04 - val_loss: 0.0022\n",
      "Epoch 39/100\n",
      "6/6 [==============================] - 1s 131ms/step - loss: 5.9928e-04 - val_loss: 0.0018\n",
      "Epoch 40/100\n",
      "6/6 [==============================] - 1s 110ms/step - loss: 5.9772e-04 - val_loss: 0.0028\n",
      "Epoch 41/100\n",
      "6/6 [==============================] - 1s 163ms/step - loss: 5.5871e-04 - val_loss: 0.0022\n",
      "Epoch 42/100\n",
      "6/6 [==============================] - 1s 113ms/step - loss: 5.7685e-04 - val_loss: 0.0012\n",
      "Epoch 43/100\n",
      "6/6 [==============================] - 1s 114ms/step - loss: 5.4153e-04 - val_loss: 0.0014\n",
      "Epoch 44/100\n",
      "6/6 [==============================] - 1s 107ms/step - loss: 5.6284e-04 - val_loss: 0.0029\n",
      "Epoch 45/100\n",
      "6/6 [==============================] - 1s 107ms/step - loss: 5.8120e-04 - val_loss: 0.0016\n",
      "Epoch 46/100\n",
      "6/6 [==============================] - 1s 108ms/step - loss: 5.5449e-04 - val_loss: 0.0011\n",
      "Epoch 47/100\n",
      "6/6 [==============================] - 1s 107ms/step - loss: 5.4695e-04 - val_loss: 0.0020\n",
      "Epoch 48/100\n",
      "6/6 [==============================] - 1s 108ms/step - loss: 5.1942e-04 - val_loss: 0.0013\n",
      "Epoch 49/100\n",
      "6/6 [==============================] - 1s 106ms/step - loss: 5.9785e-04 - val_loss: 0.0011\n",
      "Epoch 50/100\n",
      "6/6 [==============================] - 1s 107ms/step - loss: 6.7832e-04 - val_loss: 0.0031\n",
      "Epoch 51/100\n",
      "6/6 [==============================] - 1s 107ms/step - loss: 5.3454e-04 - val_loss: 0.0017\n",
      "Epoch 52/100\n",
      "6/6 [==============================] - 1s 108ms/step - loss: 5.3015e-04 - val_loss: 0.0013\n",
      "Epoch 53/100\n",
      "6/6 [==============================] - 1s 110ms/step - loss: 5.0791e-04 - val_loss: 0.0011\n",
      "Epoch 54/100\n",
      "6/6 [==============================] - 1s 109ms/step - loss: 4.4555e-04 - val_loss: 0.0012\n",
      "Epoch 55/100\n",
      "6/6 [==============================] - 1s 108ms/step - loss: 4.7313e-04 - val_loss: 0.0012\n",
      "Epoch 56/100\n",
      "6/6 [==============================] - 1s 108ms/step - loss: 4.9557e-04 - val_loss: 0.0018\n",
      "Epoch 57/100\n",
      "6/6 [==============================] - 1s 107ms/step - loss: 4.8231e-04 - val_loss: 9.5390e-04\n",
      "Epoch 58/100\n",
      "6/6 [==============================] - 1s 108ms/step - loss: 5.2077e-04 - val_loss: 9.8974e-04\n",
      "Epoch 59/100\n",
      "6/6 [==============================] - 1s 108ms/step - loss: 4.9557e-04 - val_loss: 0.0012\n",
      "Epoch 60/100\n",
      "6/6 [==============================] - 1s 107ms/step - loss: 4.6234e-04 - val_loss: 0.0011\n",
      "Epoch 61/100\n",
      "6/6 [==============================] - 1s 109ms/step - loss: 4.7372e-04 - val_loss: 0.0011\n",
      "Epoch 62/100\n",
      "6/6 [==============================] - 1s 107ms/step - loss: 5.1710e-04 - val_loss: 0.0012\n",
      "Epoch 63/100\n",
      "6/6 [==============================] - 1s 107ms/step - loss: 4.8380e-04 - val_loss: 0.0011\n",
      "Epoch 64/100\n",
      "6/6 [==============================] - 1s 109ms/step - loss: 4.7729e-04 - val_loss: 8.1636e-04\n",
      "Epoch 65/100\n",
      "6/6 [==============================] - 1s 108ms/step - loss: 4.7732e-04 - val_loss: 0.0012\n",
      "Epoch 66/100\n",
      "6/6 [==============================] - 1s 106ms/step - loss: 4.9066e-04 - val_loss: 0.0013\n",
      "Epoch 67/100\n",
      "6/6 [==============================] - 1s 113ms/step - loss: 5.1434e-04 - val_loss: 9.1815e-04\n",
      "Epoch 68/100\n",
      "6/6 [==============================] - 1s 111ms/step - loss: 4.3457e-04 - val_loss: 0.0012\n",
      "Epoch 69/100\n",
      "6/6 [==============================] - 1s 108ms/step - loss: 4.5454e-04 - val_loss: 9.7775e-04\n",
      "Epoch 70/100\n",
      "6/6 [==============================] - 1s 109ms/step - loss: 4.8712e-04 - val_loss: 0.0012\n",
      "Epoch 71/100\n",
      "6/6 [==============================] - 1s 109ms/step - loss: 5.1489e-04 - val_loss: 0.0013\n",
      "Epoch 72/100\n",
      "6/6 [==============================] - 1s 111ms/step - loss: 5.1661e-04 - val_loss: 7.5405e-04\n",
      "Epoch 73/100\n",
      "6/6 [==============================] - 1s 112ms/step - loss: 4.2856e-04 - val_loss: 9.4501e-04\n",
      "Epoch 74/100\n",
      "6/6 [==============================] - 1s 109ms/step - loss: 4.1504e-04 - val_loss: 7.8644e-04\n",
      "Epoch 75/100\n",
      "6/6 [==============================] - 1s 111ms/step - loss: 4.4220e-04 - val_loss: 0.0011\n",
      "Epoch 76/100\n",
      "6/6 [==============================] - 1s 111ms/step - loss: 4.3646e-04 - val_loss: 7.1212e-04\n",
      "Epoch 77/100\n",
      "6/6 [==============================] - 1s 124ms/step - loss: 4.5890e-04 - val_loss: 8.0249e-04\n",
      "Epoch 78/100\n",
      "6/6 [==============================] - 1s 151ms/step - loss: 4.6209e-04 - val_loss: 0.0012\n",
      "Epoch 79/100\n"
     ]
    },
    {
     "name": "stdout",
     "output_type": "stream",
     "text": [
      "6/6 [==============================] - 1s 171ms/step - loss: 4.5549e-04 - val_loss: 8.0362e-04\n",
      "Epoch 80/100\n",
      "6/6 [==============================] - 1s 212ms/step - loss: 4.0246e-04 - val_loss: 8.3402e-04\n",
      "Epoch 81/100\n",
      "6/6 [==============================] - 1s 111ms/step - loss: 3.8294e-04 - val_loss: 7.1606e-04\n",
      "Epoch 82/100\n",
      "6/6 [==============================] - 1s 129ms/step - loss: 4.3650e-04 - val_loss: 7.1996e-04\n",
      "Epoch 83/100\n",
      "6/6 [==============================] - 1s 119ms/step - loss: 3.8967e-04 - val_loss: 7.5183e-04\n",
      "Epoch 84/100\n",
      "6/6 [==============================] - 1s 113ms/step - loss: 4.7520e-04 - val_loss: 8.9069e-04\n",
      "Epoch 85/100\n",
      "6/6 [==============================] - 1s 141ms/step - loss: 4.1881e-04 - val_loss: 9.0406e-04\n",
      "Epoch 86/100\n",
      "6/6 [==============================] - 1s 116ms/step - loss: 4.1955e-04 - val_loss: 9.8579e-04\n",
      "Epoch 87/100\n",
      "6/6 [==============================] - 1s 108ms/step - loss: 4.3722e-04 - val_loss: 6.5263e-04\n",
      "Epoch 88/100\n",
      "6/6 [==============================] - 1s 107ms/step - loss: 4.1983e-04 - val_loss: 8.8569e-04\n",
      "Epoch 89/100\n",
      "6/6 [==============================] - 1s 112ms/step - loss: 3.9257e-04 - val_loss: 6.2270e-04\n",
      "Epoch 90/100\n",
      "6/6 [==============================] - 1s 127ms/step - loss: 4.0846e-04 - val_loss: 7.6381e-04\n",
      "Epoch 91/100\n",
      "6/6 [==============================] - 1s 156ms/step - loss: 4.0807e-04 - val_loss: 8.2552e-04\n",
      "Epoch 92/100\n",
      "6/6 [==============================] - 1s 122ms/step - loss: 4.2094e-04 - val_loss: 6.0222e-04\n",
      "Epoch 93/100\n",
      "6/6 [==============================] - 1s 120ms/step - loss: 4.1872e-04 - val_loss: 7.5496e-04\n",
      "Epoch 94/100\n",
      "6/6 [==============================] - 1s 184ms/step - loss: 3.9631e-04 - val_loss: 7.4995e-04\n",
      "Epoch 95/100\n",
      "6/6 [==============================] - 1s 121ms/step - loss: 4.0460e-04 - val_loss: 5.7614e-04\n",
      "Epoch 96/100\n",
      "6/6 [==============================] - 1s 116ms/step - loss: 4.1154e-04 - val_loss: 9.7857e-04\n",
      "Epoch 97/100\n",
      "6/6 [==============================] - 1s 166ms/step - loss: 4.2694e-04 - val_loss: 0.0015\n",
      "Epoch 98/100\n",
      "6/6 [==============================] - 1s 193ms/step - loss: 3.9244e-04 - val_loss: 5.7376e-04\n",
      "Epoch 99/100\n",
      "6/6 [==============================] - 1s 121ms/step - loss: 3.8070e-04 - val_loss: 6.2904e-04\n",
      "Epoch 100/100\n",
      "6/6 [==============================] - 1s 195ms/step - loss: 3.7368e-04 - val_loss: 8.2242e-04\n"
     ]
    }
   ],
   "source": [
    "# Start model training\n",
    "history = model.fit(X_train,y_train,validation_data=(X_test,y_test),epochs=100,batch_size=64,verbose=1)"
   ]
  },
  {
   "cell_type": "code",
   "execution_count": 49,
   "metadata": {},
   "outputs": [
    {
     "data": {
      "image/png": "[encoded data removed]",
      "text/plain": [
       "<Figure size 432x288 with 1 Axes>"
      ]
     },
     "metadata": {
      "needs_background": "light"
     },
     "output_type": "display_data"
    },
    {
     "data": {
      "text/plain": [
       "<Figure size 432x288 with 0 Axes>"
      ]
     },
     "metadata": {},
     "output_type": "display_data"
    }
   ],
   "source": [
    "# Check model training performance (loss)\n",
    "loss = history.history['loss']\n",
    "val_loss = history.history['val_loss']\n",
    "\n",
    "epochs = range(len(loss))\n",
    "\n",
    "plt.plot(epochs, loss, 'r', label='Training loss')\n",
    "plt.plot(epochs, val_loss, 'b', label='Validation loss')\n",
    "plt.title('Training and validation loss')\n",
    "plt.legend(loc=0)\n",
    "plt.figure()\n",
    "\n",
    "plt.show()"
   ]
  },
  {
   "cell_type": "code",
   "execution_count": 50,
   "metadata": {},
   "outputs": [],
   "source": [
    "model.save('stock_prediction_lstm_tsla_model_v1.h5')"
   ]
  },
  {
   "cell_type": "code",
   "execution_count": 51,
   "metadata": {},
   "outputs": [],
   "source": [
    "# Perform prediction to check model performance metrics\n",
    "train_predict=model.predict(X_train)\n",
    "test_predict=model.predict(X_test)"
   ]
  },
  {
   "cell_type": "code",
   "execution_count": 52,
   "metadata": {},
   "outputs": [],
   "source": [
    "# Convert normalized value back to origional form\n",
    "train_predict=scaler.inverse_transform(train_predict)\n",
    "test_predict=scaler.inverse_transform(test_predict)"
   ]
  },
  {
   "cell_type": "code",
   "execution_count": 53,
   "metadata": {
    "scrolled": true
   },
   "outputs": [
    {
     "data": {
      "text/plain": [
       "756.6194908417219"
      ]
     },
     "execution_count": 53,
     "metadata": {},
     "output_type": "execute_result"
    }
   ],
   "source": [
    "# Calculate Root Mean Square Error (RMSE) for training data\n",
    "import math\n",
    "from sklearn.metrics import mean_squared_error\n",
    "math.sqrt(mean_squared_error(y_train,train_predict))"
   ]
  },
  {
   "cell_type": "code",
   "execution_count": 54,
   "metadata": {},
   "outputs": [
    {
     "data": {
      "text/plain": [
       "852.0230644157645"
      ]
     },
     "execution_count": 54,
     "metadata": {},
     "output_type": "execute_result"
    }
   ],
   "source": [
    "# Calculate Root Mean Square Error (RMSE) for test data\n",
    "math.sqrt(mean_squared_error(y_test,test_predict))"
   ]
  },
  {
   "cell_type": "code",
   "execution_count": 56,
   "metadata": {},
   "outputs": [
    {
     "data": {
      "image/png": "[encoded data removed]",
      "text/plain": [
       "<Figure size 432x288 with 1 Axes>"
      ]
     },
     "metadata": {
      "needs_background": "light"
     },
     "output_type": "display_data"
    }
   ],
   "source": [
    "# Plot plot line graph with close price dataframe, together with train (orange) & predict (green) data line\n",
    "# shift train predictions for plotting\n",
    "look_back=50\n",
    "trainPredictPlot = np.empty_like(df1)\n",
    "trainPredictPlot[:, :] = np.nan\n",
    "trainPredictPlot[look_back:len(train_predict)+look_back, :] = train_predict\n",
    "# shift test predictions for plotting\n",
    "testPredictPlot = np.empty_like(df1)\n",
    "testPredictPlot[:, :] = np.nan\n",
    "testPredictPlot[len(train_predict)+(look_back*2)+1:len(df1)-1, :] = test_predict\n",
    "# plot baseline and predictions\n",
    "plt.plot(scaler.inverse_transform(df1))\n",
    "plt.plot(trainPredictPlot)\n",
    "plt.plot(testPredictPlot)\n",
    "plt.show()"
   ]
  },
  {
   "cell_type": "code",
   "execution_count": 57,
   "metadata": {},
   "outputs": [
    {
     "data": {
      "text/plain": [
       "(224, 1)"
      ]
     },
     "execution_count": 57,
     "metadata": {},
     "output_type": "execute_result"
    }
   ],
   "source": [
    "# Check shape of test data array\n",
    "test_data.shape"
   ]
  },
  {
   "cell_type": "code",
   "execution_count": 58,
   "metadata": {},
   "outputs": [
    {
     "data": {
      "text/plain": [
       "(1, 50)"
      ]
     },
     "execution_count": 58,
     "metadata": {},
     "output_type": "execute_result"
    }
   ],
   "source": [
    "# Select last 50 of records from test data and reshape it\n",
    "x_input=test_data[174:].reshape(1,-1)\n",
    "x_input.shape"
   ]
  },
  {
   "cell_type": "code",
   "execution_count": 59,
   "metadata": {},
   "outputs": [],
   "source": [
    "# Covert array into list\n",
    "temp_input=list(x_input)\n",
    "temp_input=temp_input[0].tolist()"
   ]
  },
  {
   "cell_type": "code",
   "execution_count": 60,
   "metadata": {},
   "outputs": [
    {
     "name": "stdout",
     "output_type": "stream",
     "text": [
      "[0.9881133]\n",
      "51\n",
      "1 day input [0.43625435 0.45934831 0.45207213 0.45112306 0.43761468 0.44321417\n",
      " 0.53176178 0.58084467 0.56210092 0.57117969 0.55667732 0.57086365\n",
      " 0.56849098 0.56181588 0.55710218 0.55994938 0.553559   0.58241063\n",
      " 0.5791838  0.58494147 0.57608352 0.57608352 0.60455552 0.6048086\n",
      " 0.59623537 0.60066435 0.60662765 0.60430244 0.61879152 0.62005694\n",
      " 0.61910788 0.61717811 0.61800063 0.65703891 0.68918064 0.68997153\n",
      " 0.74058842 0.74375198 0.75640652 0.81888643 0.82496014 0.87424866\n",
      " 0.89294495 0.97155963 0.98373932 0.99104714 0.96244859 0.9829168\n",
      " 1.         0.98811328]\n",
      "1 day output [[0.9900849]]\n",
      "2 day input [0.45934831 0.45207213 0.45112306 0.43761468 0.44321417 0.53176178\n",
      " 0.58084467 0.56210092 0.57117969 0.55667732 0.57086365 0.56849098\n",
      " 0.56181588 0.55710218 0.55994938 0.553559   0.58241063 0.5791838\n",
      " 0.58494147 0.57608352 0.57608352 0.60455552 0.6048086  0.59623537\n",
      " 0.60066435 0.60662765 0.60430244 0.61879152 0.62005694 0.61910788\n",
      " 0.61717811 0.61800063 0.65703891 0.68918064 0.68997153 0.74058842\n",
      " 0.74375198 0.75640652 0.81888643 0.82496014 0.87424866 0.89294495\n",
      " 0.97155963 0.98373932 0.99104714 0.96244859 0.9829168  1.\n",
      " 0.98811328 0.99008489]\n",
      "2 day output [[0.991125]]\n",
      "3 day input [0.45207213 0.45112306 0.43761468 0.44321417 0.53176178 0.58084467\n",
      " 0.56210092 0.57117969 0.55667732 0.57086365 0.56849098 0.56181588\n",
      " 0.55710218 0.55994938 0.553559   0.58241063 0.5791838  0.58494147\n",
      " 0.57608352 0.57608352 0.60455552 0.6048086  0.59623537 0.60066435\n",
      " 0.60662765 0.60430244 0.61879152 0.62005694 0.61910788 0.61717811\n",
      " 0.61800063 0.65703891 0.68918064 0.68997153 0.74058842 0.74375198\n",
      " 0.75640652 0.81888643 0.82496014 0.87424866 0.89294495 0.97155963\n",
      " 0.98373932 0.99104714 0.96244859 0.9829168  1.         0.98811328\n",
      " 0.99008489 0.99112499]\n",
      "3 day output [[0.9925018]]\n",
      "4 day input [0.45112306 0.43761468 0.44321417 0.53176178 0.58084467 0.56210092\n",
      " 0.57117969 0.55667732 0.57086365 0.56849098 0.56181588 0.55710218\n",
      " 0.55994938 0.553559   0.58241063 0.5791838  0.58494147 0.57608352\n",
      " 0.57608352 0.60455552 0.6048086  0.59623537 0.60066435 0.60662765\n",
      " 0.60430244 0.61879152 0.62005694 0.61910788 0.61717811 0.61800063\n",
      " 0.65703891 0.68918064 0.68997153 0.74058842 0.74375198 0.75640652\n",
      " 0.81888643 0.82496014 0.87424866 0.89294495 0.97155963 0.98373932\n",
      " 0.99104714 0.96244859 0.9829168  1.         0.98811328 0.99008489\n",
      " 0.99112499 0.9925018 ]\n",
      "4 day output [[0.9948762]]\n",
      "5 day input [0.43761468 0.44321417 0.53176178 0.58084467 0.56210092 0.57117969\n",
      " 0.55667732 0.57086365 0.56849098 0.56181588 0.55710218 0.55994938\n",
      " 0.553559   0.58241063 0.5791838  0.58494147 0.57608352 0.57608352\n",
      " 0.60455552 0.6048086  0.59623537 0.60066435 0.60662765 0.60430244\n",
      " 0.61879152 0.62005694 0.61910788 0.61717811 0.61800063 0.65703891\n",
      " 0.68918064 0.68997153 0.74058842 0.74375198 0.75640652 0.81888643\n",
      " 0.82496014 0.87424866 0.89294495 0.97155963 0.98373932 0.99104714\n",
      " 0.96244859 0.9829168  1.         0.98811328 0.99008489 0.99112499\n",
      " 0.9925018  0.99487621]\n",
      "5 day output [[0.9985583]]\n",
      "6 day input [0.44321417 0.53176178 0.58084467 0.56210092 0.57117969 0.55667732\n",
      " 0.57086365 0.56849098 0.56181588 0.55710218 0.55994938 0.553559\n",
      " 0.58241063 0.5791838  0.58494147 0.57608352 0.57608352 0.60455552\n",
      " 0.6048086  0.59623537 0.60066435 0.60662765 0.60430244 0.61879152\n",
      " 0.62005694 0.61910788 0.61717811 0.61800063 0.65703891 0.68918064\n",
      " 0.68997153 0.74058842 0.74375198 0.75640652 0.81888643 0.82496014\n",
      " 0.87424866 0.89294495 0.97155963 0.98373932 0.99104714 0.96244859\n",
      " 0.9829168  1.         0.98811328 0.99008489 0.99112499 0.9925018\n",
      " 0.99487621 0.99855828]\n",
      "6 day output [[1.0036647]]\n",
      "7 day input [0.53176178 0.58084467 0.56210092 0.57117969 0.55667732 0.57086365\n",
      " 0.56849098 0.56181588 0.55710218 0.55994938 0.553559   0.58241063\n",
      " 0.5791838  0.58494147 0.57608352 0.57608352 0.60455552 0.6048086\n",
      " 0.59623537 0.60066435 0.60662765 0.60430244 0.61879152 0.62005694\n",
      " 0.61910788 0.61717811 0.61800063 0.65703891 0.68918064 0.68997153\n",
      " 0.74058842 0.74375198 0.75640652 0.81888643 0.82496014 0.87424866\n",
      " 0.89294495 0.97155963 0.98373932 0.99104714 0.96244859 0.9829168\n",
      " 1.         0.98811328 0.99008489 0.99112499 0.9925018  0.99487621\n",
      " 0.99855828 1.00366473]\n",
      "7 day output [[1.0101956]]\n",
      "8 day input [0.58084467 0.56210092 0.57117969 0.55667732 0.57086365 0.56849098\n",
      " 0.56181588 0.55710218 0.55994938 0.553559   0.58241063 0.5791838\n",
      " 0.58494147 0.57608352 0.57608352 0.60455552 0.6048086  0.59623537\n",
      " 0.60066435 0.60662765 0.60430244 0.61879152 0.62005694 0.61910788\n",
      " 0.61717811 0.61800063 0.65703891 0.68918064 0.68997153 0.74058842\n",
      " 0.74375198 0.75640652 0.81888643 0.82496014 0.87424866 0.89294495\n",
      " 0.97155963 0.98373932 0.99104714 0.96244859 0.9829168  1.\n",
      " 0.98811328 0.99008489 0.99112499 0.9925018  0.99487621 0.99855828\n",
      " 1.00366473 1.01019561]\n",
      "8 day output [[1.0180742]]\n",
      "9 day input [0.56210092 0.57117969 0.55667732 0.57086365 0.56849098 0.56181588\n",
      " 0.55710218 0.55994938 0.553559   0.58241063 0.5791838  0.58494147\n",
      " 0.57608352 0.57608352 0.60455552 0.6048086  0.59623537 0.60066435\n",
      " 0.60662765 0.60430244 0.61879152 0.62005694 0.61910788 0.61717811\n",
      " 0.61800063 0.65703891 0.68918064 0.68997153 0.74058842 0.74375198\n",
      " 0.75640652 0.81888643 0.82496014 0.87424866 0.89294495 0.97155963\n",
      " 0.98373932 0.99104714 0.96244859 0.9829168  1.         0.98811328\n",
      " 0.99008489 0.99112499 0.9925018  0.99487621 0.99855828 1.00366473\n",
      " 1.01019561 1.01807415]\n",
      "9 day output [[1.0271739]]\n",
      "10 day input [0.57117969 0.55667732 0.57086365 0.56849098 0.56181588 0.55710218\n",
      " 0.55994938 0.553559   0.58241063 0.5791838  0.58494147 0.57608352\n",
      " 0.57608352 0.60455552 0.6048086  0.59623537 0.60066435 0.60662765\n",
      " 0.60430244 0.61879152 0.62005694 0.61910788 0.61717811 0.61800063\n",
      " 0.65703891 0.68918064 0.68997153 0.74058842 0.74375198 0.75640652\n",
      " 0.81888643 0.82496014 0.87424866 0.89294495 0.97155963 0.98373932\n",
      " 0.99104714 0.96244859 0.9829168  1.         0.98811328 0.99008489\n",
      " 0.99112499 0.9925018  0.99487621 0.99855828 1.00366473 1.01019561\n",
      " 1.01807415 1.02717388]\n",
      "10 day output [[1.0373366]]\n",
      "11 day input [0.55667732 0.57086365 0.56849098 0.56181588 0.55710218 0.55994938\n",
      " 0.553559   0.58241063 0.5791838  0.58494147 0.57608352 0.57608352\n",
      " 0.60455552 0.6048086  0.59623537 0.60066435 0.60662765 0.60430244\n",
      " 0.61879152 0.62005694 0.61910788 0.61717811 0.61800063 0.65703891\n",
      " 0.68918064 0.68997153 0.74058842 0.74375198 0.75640652 0.81888643\n",
      " 0.82496014 0.87424866 0.89294495 0.97155963 0.98373932 0.99104714\n",
      " 0.96244859 0.9829168  1.         0.98811328 0.99008489 0.99112499\n",
      " 0.9925018  0.99487621 0.99855828 1.00366473 1.01019561 1.01807415\n",
      " 1.02717388 1.03733659]\n",
      "11 day output [[1.0483868]]\n",
      "12 day input [0.57086365 0.56849098 0.56181588 0.55710218 0.55994938 0.553559\n",
      " 0.58241063 0.5791838  0.58494147 0.57608352 0.57608352 0.60455552\n",
      " 0.6048086  0.59623537 0.60066435 0.60662765 0.60430244 0.61879152\n",
      " 0.62005694 0.61910788 0.61717811 0.61800063 0.65703891 0.68918064\n",
      " 0.68997153 0.74058842 0.74375198 0.75640652 0.81888643 0.82496014\n",
      " 0.87424866 0.89294495 0.97155963 0.98373932 0.99104714 0.96244859\n",
      " 0.9829168  1.         0.98811328 0.99008489 0.99112499 0.9925018\n",
      " 0.99487621 0.99855828 1.00366473 1.01019561 1.01807415 1.02717388\n",
      " 1.03733659 1.04838681]\n",
      "12 day output [[1.0601459]]\n",
      "13 day input [0.56849098 0.56181588 0.55710218 0.55994938 0.553559   0.58241063\n",
      " 0.5791838  0.58494147 0.57608352 0.57608352 0.60455552 0.6048086\n",
      " 0.59623537 0.60066435 0.60662765 0.60430244 0.61879152 0.62005694\n",
      " 0.61910788 0.61717811 0.61800063 0.65703891 0.68918064 0.68997153\n",
      " 0.74058842 0.74375198 0.75640652 0.81888643 0.82496014 0.87424866\n",
      " 0.89294495 0.97155963 0.98373932 0.99104714 0.96244859 0.9829168\n",
      " 1.         0.98811328 0.99008489 0.99112499 0.9925018  0.99487621\n",
      " 0.99855828 1.00366473 1.01019561 1.01807415 1.02717388 1.03733659\n",
      " 1.04838681 1.06014585]\n",
      "13 day output [[1.0724427]]\n",
      "14 day input [0.56181588 0.55710218 0.55994938 0.553559   0.58241063 0.5791838\n",
      " 0.58494147 0.57608352 0.57608352 0.60455552 0.6048086  0.59623537\n",
      " 0.60066435 0.60662765 0.60430244 0.61879152 0.62005694 0.61910788\n",
      " 0.61717811 0.61800063 0.65703891 0.68918064 0.68997153 0.74058842\n",
      " 0.74375198 0.75640652 0.81888643 0.82496014 0.87424866 0.89294495\n",
      " 0.97155963 0.98373932 0.99104714 0.96244859 0.9829168  1.\n",
      " 0.98811328 0.99008489 0.99112499 0.9925018  0.99487621 0.99855828\n",
      " 1.00366473 1.01019561 1.01807415 1.02717388 1.03733659 1.04838681\n",
      " 1.06014585 1.07244265]\n",
      "14 day output [[1.0851207]]\n",
      "15 day input [0.55710218 0.55994938 0.553559   0.58241063 0.5791838  0.58494147\n",
      " 0.57608352 0.57608352 0.60455552 0.6048086  0.59623537 0.60066435\n",
      " 0.60662765 0.60430244 0.61879152 0.62005694 0.61910788 0.61717811\n",
      " 0.61800063 0.65703891 0.68918064 0.68997153 0.74058842 0.74375198\n",
      " 0.75640652 0.81888643 0.82496014 0.87424866 0.89294495 0.97155963\n",
      " 0.98373932 0.99104714 0.96244859 0.9829168  1.         0.98811328\n",
      " 0.99008489 0.99112499 0.9925018  0.99487621 0.99855828 1.00366473\n",
      " 1.01019561 1.01807415 1.02717388 1.03733659 1.04838681 1.06014585\n",
      " 1.07244265 1.08512068]\n",
      "15 day output [[1.0980428]]\n",
      "16 day input [0.55994938 0.553559   0.58241063 0.5791838  0.58494147 0.57608352\n",
      " 0.57608352 0.60455552 0.6048086  0.59623537 0.60066435 0.60662765\n",
      " 0.60430244 0.61879152 0.62005694 0.61910788 0.61717811 0.61800063\n",
      " 0.65703891 0.68918064 0.68997153 0.74058842 0.74375198 0.75640652\n",
      " 0.81888643 0.82496014 0.87424866 0.89294495 0.97155963 0.98373932\n",
      " 0.99104714 0.96244859 0.9829168  1.         0.98811328 0.99008489\n",
      " 0.99112499 0.9925018  0.99487621 0.99855828 1.00366473 1.01019561\n",
      " 1.01807415 1.02717388 1.03733659 1.04838681 1.06014585 1.07244265\n",
      " 1.08512068 1.09804285]\n"
     ]
    },
    {
     "name": "stdout",
     "output_type": "stream",
     "text": [
      "16 day output [[1.1110948]]\n",
      "17 day input [0.553559   0.58241063 0.5791838  0.58494147 0.57608352 0.57608352\n",
      " 0.60455552 0.6048086  0.59623537 0.60066435 0.60662765 0.60430244\n",
      " 0.61879152 0.62005694 0.61910788 0.61717811 0.61800063 0.65703891\n",
      " 0.68918064 0.68997153 0.74058842 0.74375198 0.75640652 0.81888643\n",
      " 0.82496014 0.87424866 0.89294495 0.97155963 0.98373932 0.99104714\n",
      " 0.96244859 0.9829168  1.         0.98811328 0.99008489 0.99112499\n",
      " 0.9925018  0.99487621 0.99855828 1.00366473 1.01019561 1.01807415\n",
      " 1.02717388 1.03733659 1.04838681 1.06014585 1.07244265 1.08512068\n",
      " 1.09804285 1.11109483]\n",
      "17 day output [[1.1241865]]\n",
      "18 day input [0.58241063 0.5791838  0.58494147 0.57608352 0.57608352 0.60455552\n",
      " 0.6048086  0.59623537 0.60066435 0.60662765 0.60430244 0.61879152\n",
      " 0.62005694 0.61910788 0.61717811 0.61800063 0.65703891 0.68918064\n",
      " 0.68997153 0.74058842 0.74375198 0.75640652 0.81888643 0.82496014\n",
      " 0.87424866 0.89294495 0.97155963 0.98373932 0.99104714 0.96244859\n",
      " 0.9829168  1.         0.98811328 0.99008489 0.99112499 0.9925018\n",
      " 0.99487621 0.99855828 1.00366473 1.01019561 1.01807415 1.02717388\n",
      " 1.03733659 1.04838681 1.06014585 1.07244265 1.08512068 1.09804285\n",
      " 1.11109483 1.12418652]\n",
      "18 day output [[1.1372509]]\n",
      "19 day input [0.5791838  0.58494147 0.57608352 0.57608352 0.60455552 0.6048086\n",
      " 0.59623537 0.60066435 0.60662765 0.60430244 0.61879152 0.62005694\n",
      " 0.61910788 0.61717811 0.61800063 0.65703891 0.68918064 0.68997153\n",
      " 0.74058842 0.74375198 0.75640652 0.81888643 0.82496014 0.87424866\n",
      " 0.89294495 0.97155963 0.98373932 0.99104714 0.96244859 0.9829168\n",
      " 1.         0.98811328 0.99008489 0.99112499 0.9925018  0.99487621\n",
      " 0.99855828 1.00366473 1.01019561 1.01807415 1.02717388 1.03733659\n",
      " 1.04838681 1.06014585 1.07244265 1.08512068 1.09804285 1.11109483\n",
      " 1.12418652 1.1372509 ]\n",
      "19 day output [[1.1502422]]\n",
      "20 day input [0.58494147 0.57608352 0.57608352 0.60455552 0.6048086  0.59623537\n",
      " 0.60066435 0.60662765 0.60430244 0.61879152 0.62005694 0.61910788\n",
      " 0.61717811 0.61800063 0.65703891 0.68918064 0.68997153 0.74058842\n",
      " 0.74375198 0.75640652 0.81888643 0.82496014 0.87424866 0.89294495\n",
      " 0.97155963 0.98373932 0.99104714 0.96244859 0.9829168  1.\n",
      " 0.98811328 0.99008489 0.99112499 0.9925018  0.99487621 0.99855828\n",
      " 1.00366473 1.01019561 1.01807415 1.02717388 1.03733659 1.04838681\n",
      " 1.06014585 1.07244265 1.08512068 1.09804285 1.11109483 1.12418652\n",
      " 1.1372509  1.15024221]\n",
      "20 day output [[1.1631335]]\n",
      "21 day input [0.57608352 0.57608352 0.60455552 0.6048086  0.59623537 0.60066435\n",
      " 0.60662765 0.60430244 0.61879152 0.62005694 0.61910788 0.61717811\n",
      " 0.61800063 0.65703891 0.68918064 0.68997153 0.74058842 0.74375198\n",
      " 0.75640652 0.81888643 0.82496014 0.87424866 0.89294495 0.97155963\n",
      " 0.98373932 0.99104714 0.96244859 0.9829168  1.         0.98811328\n",
      " 0.99008489 0.99112499 0.9925018  0.99487621 0.99855828 1.00366473\n",
      " 1.01019561 1.01807415 1.02717388 1.03733659 1.04838681 1.06014585\n",
      " 1.07244265 1.08512068 1.09804285 1.11109483 1.12418652 1.1372509\n",
      " 1.15024221 1.1631335 ]\n",
      "21 day output [[1.1759129]]\n",
      "22 day input [0.57608352 0.60455552 0.6048086  0.59623537 0.60066435 0.60662765\n",
      " 0.60430244 0.61879152 0.62005694 0.61910788 0.61717811 0.61800063\n",
      " 0.65703891 0.68918064 0.68997153 0.74058842 0.74375198 0.75640652\n",
      " 0.81888643 0.82496014 0.87424866 0.89294495 0.97155963 0.98373932\n",
      " 0.99104714 0.96244859 0.9829168  1.         0.98811328 0.99008489\n",
      " 0.99112499 0.9925018  0.99487621 0.99855828 1.00366473 1.01019561\n",
      " 1.01807415 1.02717388 1.03733659 1.04838681 1.06014585 1.07244265\n",
      " 1.08512068 1.09804285 1.11109483 1.12418652 1.1372509  1.15024221\n",
      " 1.1631335  1.17591286]\n",
      "22 day output [[1.1885812]]\n",
      "23 day input [0.60455552 0.6048086  0.59623537 0.60066435 0.60662765 0.60430244\n",
      " 0.61879152 0.62005694 0.61910788 0.61717811 0.61800063 0.65703891\n",
      " 0.68918064 0.68997153 0.74058842 0.74375198 0.75640652 0.81888643\n",
      " 0.82496014 0.87424866 0.89294495 0.97155963 0.98373932 0.99104714\n",
      " 0.96244859 0.9829168  1.         0.98811328 0.99008489 0.99112499\n",
      " 0.9925018  0.99487621 0.99855828 1.00366473 1.01019561 1.01807415\n",
      " 1.02717388 1.03733659 1.04838681 1.06014585 1.07244265 1.08512068\n",
      " 1.09804285 1.11109483 1.12418652 1.1372509  1.15024221 1.1631335\n",
      " 1.17591286 1.18858123]\n",
      "23 day output [[1.201147]]\n",
      "24 day input [0.6048086  0.59623537 0.60066435 0.60662765 0.60430244 0.61879152\n",
      " 0.62005694 0.61910788 0.61717811 0.61800063 0.65703891 0.68918064\n",
      " 0.68997153 0.74058842 0.74375198 0.75640652 0.81888643 0.82496014\n",
      " 0.87424866 0.89294495 0.97155963 0.98373932 0.99104714 0.96244859\n",
      " 0.9829168  1.         0.98811328 0.99008489 0.99112499 0.9925018\n",
      " 0.99487621 0.99855828 1.00366473 1.01019561 1.01807415 1.02717388\n",
      " 1.03733659 1.04838681 1.06014585 1.07244265 1.08512068 1.09804285\n",
      " 1.11109483 1.12418652 1.1372509  1.15024221 1.1631335  1.17591286\n",
      " 1.18858123 1.20114696]\n",
      "24 day output [[1.2136239]]\n",
      "25 day input [0.59623537 0.60066435 0.60662765 0.60430244 0.61879152 0.62005694\n",
      " 0.61910788 0.61717811 0.61800063 0.65703891 0.68918064 0.68997153\n",
      " 0.74058842 0.74375198 0.75640652 0.81888643 0.82496014 0.87424866\n",
      " 0.89294495 0.97155963 0.98373932 0.99104714 0.96244859 0.9829168\n",
      " 1.         0.98811328 0.99008489 0.99112499 0.9925018  0.99487621\n",
      " 0.99855828 1.00366473 1.01019561 1.01807415 1.02717388 1.03733659\n",
      " 1.04838681 1.06014585 1.07244265 1.08512068 1.09804285 1.11109483\n",
      " 1.12418652 1.1372509  1.15024221 1.1631335  1.17591286 1.18858123\n",
      " 1.20114696 1.21362388]\n",
      "25 day output [[1.2260289]]\n",
      "26 day input [0.60066435 0.60662765 0.60430244 0.61879152 0.62005694 0.61910788\n",
      " 0.61717811 0.61800063 0.65703891 0.68918064 0.68997153 0.74058842\n",
      " 0.74375198 0.75640652 0.81888643 0.82496014 0.87424866 0.89294495\n",
      " 0.97155963 0.98373932 0.99104714 0.96244859 0.9829168  1.\n",
      " 0.98811328 0.99008489 0.99112499 0.9925018  0.99487621 0.99855828\n",
      " 1.00366473 1.01019561 1.01807415 1.02717388 1.03733659 1.04838681\n",
      " 1.06014585 1.07244265 1.08512068 1.09804285 1.11109483 1.12418652\n",
      " 1.1372509  1.15024221 1.1631335  1.17591286 1.18858123 1.20114696\n",
      " 1.21362388 1.22602892]\n",
      "26 day output [[1.2383784]]\n",
      "27 day input [0.60662765 0.60430244 0.61879152 0.62005694 0.61910788 0.61717811\n",
      " 0.61800063 0.65703891 0.68918064 0.68997153 0.74058842 0.74375198\n",
      " 0.75640652 0.81888643 0.82496014 0.87424866 0.89294495 0.97155963\n",
      " 0.98373932 0.99104714 0.96244859 0.9829168  1.         0.98811328\n",
      " 0.99008489 0.99112499 0.9925018  0.99487621 0.99855828 1.00366473\n",
      " 1.01019561 1.01807415 1.02717388 1.03733659 1.04838681 1.06014585\n",
      " 1.07244265 1.08512068 1.09804285 1.11109483 1.12418652 1.1372509\n",
      " 1.15024221 1.1631335  1.17591286 1.18858123 1.20114696 1.21362388\n",
      " 1.22602892 1.23837841]\n",
      "27 day output [[1.2506868]]\n",
      "28 day input [0.60430244 0.61879152 0.62005694 0.61910788 0.61717811 0.61800063\n",
      " 0.65703891 0.68918064 0.68997153 0.74058842 0.74375198 0.75640652\n",
      " 0.81888643 0.82496014 0.87424866 0.89294495 0.97155963 0.98373932\n",
      " 0.99104714 0.96244859 0.9829168  1.         0.98811328 0.99008489\n",
      " 0.99112499 0.9925018  0.99487621 0.99855828 1.00366473 1.01019561\n",
      " 1.01807415 1.02717388 1.03733659 1.04838681 1.06014585 1.07244265\n",
      " 1.08512068 1.09804285 1.11109483 1.12418652 1.1372509  1.15024221\n",
      " 1.1631335  1.17591286 1.18858123 1.20114696 1.21362388 1.22602892\n",
      " 1.23837841 1.25068676]\n",
      "28 day output [[1.2629656]]\n",
      "29 day input [0.61879152 0.62005694 0.61910788 0.61717811 0.61800063 0.65703891\n",
      " 0.68918064 0.68997153 0.74058842 0.74375198 0.75640652 0.81888643\n",
      " 0.82496014 0.87424866 0.89294495 0.97155963 0.98373932 0.99104714\n",
      " 0.96244859 0.9829168  1.         0.98811328 0.99008489 0.99112499\n",
      " 0.9925018  0.99487621 0.99855828 1.00366473 1.01019561 1.01807415\n",
      " 1.02717388 1.03733659 1.04838681 1.06014585 1.07244265 1.08512068\n",
      " 1.09804285 1.11109483 1.12418652 1.1372509  1.15024221 1.1631335\n",
      " 1.17591286 1.18858123 1.20114696 1.21362388 1.22602892 1.23837841\n",
      " 1.25068676 1.26296556]\n",
      "29 day output [[1.2752222]]\n",
      "[[0.988113284111023], [0.9900848865509033], [0.9911249876022339], [0.9925017952919006], [0.9948762059211731], [0.9985582828521729], [1.0036647319793701], [1.0101956129074097], [1.0180741548538208], [1.0271738767623901], [1.0373365879058838], [1.048386812210083], [1.0601458549499512], [1.072442650794983], [1.085120677947998], [1.0980428457260132], [1.1110948324203491], [1.1241865158081055], [1.1372509002685547], [1.1502422094345093], [1.1631335020065308], [1.175912857055664], [1.1885812282562256], [1.2011469602584839], [1.2136238813400269], [1.2260289192199707], [1.2383784055709839], [1.250686764717102], [1.2629655599594116], [1.2752221822738647]]\n"
     ]
    }
   ],
   "source": [
    "# Perform prediction for next 30 days\n",
    "from numpy import array\n",
    "\n",
    "lst_output=[]\n",
    "n_steps=50\n",
    "i=0\n",
    "while(i<30):\n",
    "    \n",
    "    if(len(temp_input)>50):\n",
    "        #print(temp_input)\n",
    "        x_input=np.array(temp_input[1:])\n",
    "        print(\"{} day input {}\".format(i,x_input))\n",
    "        x_input=x_input.reshape(1,-1)\n",
    "        x_input = x_input.reshape((1, n_steps, 1))\n",
    "        #print(x_input)\n",
    "        yhat = model.predict(x_input, verbose=0)\n",
    "        print(\"{} day output {}\".format(i,yhat))\n",
    "        temp_input.extend(yhat[0].tolist())\n",
    "        temp_input=temp_input[1:]\n",
    "        #print(temp_input)\n",
    "        lst_output.extend(yhat.tolist())\n",
    "        i=i+1\n",
    "    else:\n",
    "        x_input = x_input.reshape((1, n_steps,1))\n",
    "        yhat = model.predict(x_input, verbose=0)\n",
    "        print(yhat[0])\n",
    "        temp_input.extend(yhat[0].tolist())\n",
    "        print(len(temp_input))\n",
    "        lst_output.extend(yhat.tolist())\n",
    "        i=i+1\n",
    "\n",
    "print(lst_output)"
   ]
  },
  {
   "cell_type": "code",
   "execution_count": 61,
   "metadata": {},
   "outputs": [],
   "source": [
    "# Generate numberic values for historical and prediction as x axis for plot\n",
    "day_new=np.arange(1,51)\n",
    "day_pred=np.arange(51,81)"
   ]
  },
  {
   "cell_type": "code",
   "execution_count": 62,
   "metadata": {},
   "outputs": [
    {
     "name": "stdout",
     "output_type": "stream",
     "text": [
      "(639, 1)\n"
     ]
    }
   ],
   "source": [
    "# Check shape of close price array\n",
    "print(df1.shape)"
   ]
  },
  {
   "cell_type": "code",
   "execution_count": 64,
   "metadata": {},
   "outputs": [
    {
     "data": {
      "text/plain": [
       "[<matplotlib.lines.Line2D at 0x7fddf8469850>]"
      ]
     },
     "execution_count": 64,
     "metadata": {},
     "output_type": "execute_result"
    },
    {
     "data": {
      "image/png": "[encoded data removed]",
      "text/plain": [
       "<Figure size 432x288 with 1 Axes>"
      ]
     },
     "metadata": {
      "needs_background": "light"
     },
     "output_type": "display_data"
    }
   ],
   "source": [
    "# Plot historical 50 days records with 30 days prediction records\n",
    "plt.plot(day_new,scaler.inverse_transform(df1[589:]))\n",
    "plt.plot(day_pred,scaler.inverse_transform(lst_output))"
   ]
  },
  {
   "cell_type": "code",
   "execution_count": 66,
   "metadata": {},
   "outputs": [
    {
     "data": {
      "text/plain": [
       "[<matplotlib.lines.Line2D at 0x7fddf8467160>]"
      ]
     },
     "execution_count": 66,
     "metadata": {},
     "output_type": "execute_result"
    },
    {
     "data": {
      "image/png": "[encoded data removed]",
      "text/plain": [
       "<Figure size 432x288 with 1 Axes>"
      ]
     },
     "metadata": {
      "needs_background": "light"
     },
     "output_type": "display_data"
    }
   ],
   "source": [
    "# Merge & plot historical and prediction records\n",
    "df3=df1.tolist()\n",
    "df3.extend(lst_output)\n",
    "plt.plot(df3[589:])"
   ]
  },
  {
   "cell_type": "code",
   "execution_count": 67,
   "metadata": {},
   "outputs": [],
   "source": [
    "# Convert normalized value back to origional form\n",
    "df3=scaler.inverse_transform(df3).tolist()"
   ]
  },
  {
   "cell_type": "code",
   "execution_count": 68,
   "metadata": {},
   "outputs": [
    {
     "data": {
      "text/plain": [
       "[<matplotlib.lines.Line2D at 0x7fddf874b0a0>]"
      ]
     },
     "execution_count": 68,
     "metadata": {},
     "output_type": "execute_result"
    },
    {
     "data": {
      "image/png": "[encoded data removed]",
      "text/plain": [
       "<Figure size 432x288 with 1 Axes>"
      ]
     },
     "metadata": {
      "needs_background": "light"
     },
     "output_type": "display_data"
    }
   ],
   "source": [
    "# Merge & plot full set of historical and prediction records\n",
    "plt.plot(df3)"
   ]
  },
  {
   "cell_type": "code",
   "execution_count": 69,
   "metadata": {},
   "outputs": [
    {
     "data": {
      "text/plain": [
       "669"
      ]
     },
     "execution_count": 69,
     "metadata": {},
     "output_type": "execute_result"
    }
   ],
   "source": [
    "# Check number of records in final dataframe\n",
    "len(df3)"
   ]
  },
  {
   "cell_type": "code",
   "execution_count": 70,
   "metadata": {},
   "outputs": [
    {
     "name": "stdout",
     "output_type": "stream",
     "text": [
      "[[1026.2426091074942], [1026.8658326387406], [1027.1946085810662], [1027.6298174917697], [1028.3803686916829], [1029.5442732095719], [1031.1584217786788], [1033.222833240032], [1035.7132403492926], [1038.5896624445916], [1041.8020954370497], [1045.2950713396071], [1049.0121047496796], [1052.899121916294], [1056.9066462993621], [1060.9913435339927], [1065.1170765280724], [1069.255357646942], [1073.38500957489], [1077.4915624022483], [1081.5664999842643], [1085.6060541152954], [1089.6105262517929], [1093.5825541377067], [1097.5265088915824], [1101.4477413654326], [1105.351414000988], [1109.2420863270759], [1113.12341350317], [1116.9977318167687]]\n"
     ]
    }
   ],
   "source": [
    "# Display last 30 days records which is coming out from prediction\n",
    "from itertools import islice\n",
    "res = list(islice(reversed(df3), 0, 30))\n",
    "res.reverse()\n",
    "print(res)"
   ]
  }
 ],
 "metadata": {
  "kernelspec": {
   "display_name": "Python 3",
   "language": "python",
   "name": "python3"
  },
  "language_info": {
   "codemirror_mode": {
    "name": "ipython",
    "version": 3
   },
   "file_extension": ".py",
   "mimetype": "text/x-python",
   "name": "python",
   "nbconvert_exporter": "python",
   "pygments_lexer": "ipython3",
   "version": "3.8.3"
  }
 },
 "nbformat": 4,
 "nbformat_minor": 4
}

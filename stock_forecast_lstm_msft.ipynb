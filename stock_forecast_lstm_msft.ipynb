{
 "cells": [
  {
   "cell_type": "code",
   "execution_count": 1,
   "metadata": {},
   "outputs": [
    {
     "name": "stdout",
     "output_type": "stream",
     "text": [
      "Tensorflow version is 2.6.0\n",
      "Tensorflow Keras version is 2.6.0\n"
     ]
    }
   ],
   "source": [
    "# Check your system Tensorflow and Keras version\n",
    "import tensorflow as tf; print('Tensorflow version is '+ tf.__version__)\n",
    "import keras; print('Tensorflow Keras version is '+ keras.__version__)"
   ]
  },
  {
   "cell_type": "code",
   "execution_count": 2,
   "metadata": {},
   "outputs": [],
   "source": [
    "# Import necessary libraries\n",
    "from alpha_vantage.timeseries import TimeSeries\n",
    "import pandas as pd\n",
    "import matplotlib.pyplot as plt\n",
    "import numpy as np"
   ]
  },
  {
   "cell_type": "code",
   "execution_count": 3,
   "metadata": {},
   "outputs": [],
   "source": [
    "# Start to collect stock data (daily) by alpha_vantage library\n",
    "ts = TimeSeries(key='PLEASE_ENTER_YOUR_OWN_KEY', output_format='pandas')\n",
    "data, meta_data = ts.get_daily('MSFT', outputsize='full')"
   ]
  },
  {
   "cell_type": "code",
   "execution_count": 4,
   "metadata": {},
   "outputs": [
    {
     "data": {
      "text/html": [
       "<div>\n",
       "<style scoped>\n",
       "    .dataframe tbody tr th:only-of-type {\n",
       "        vertical-align: middle;\n",
       "    }\n",
       "\n",
       "    .dataframe tbody tr th {\n",
       "        vertical-align: top;\n",
       "    }\n",
       "\n",
       "    .dataframe thead th {\n",
       "        text-align: right;\n",
       "    }\n",
       "</style>\n",
       "<table border=\"1\" class=\"dataframe\">\n",
       "  <thead>\n",
       "    <tr style=\"text-align: right;\">\n",
       "      <th></th>\n",
       "      <th>1. open</th>\n",
       "      <th>2. high</th>\n",
       "      <th>3. low</th>\n",
       "      <th>4. close</th>\n",
       "      <th>5. volume</th>\n",
       "    </tr>\n",
       "    <tr>\n",
       "      <th>date</th>\n",
       "      <th></th>\n",
       "      <th></th>\n",
       "      <th></th>\n",
       "      <th></th>\n",
       "      <th></th>\n",
       "    </tr>\n",
       "  </thead>\n",
       "  <tbody>\n",
       "    <tr>\n",
       "      <th>2021-10-22</th>\n",
       "      <td>310.4000</td>\n",
       "      <td>311.09</td>\n",
       "      <td>307.80</td>\n",
       "      <td>309.16</td>\n",
       "      <td>17449332.0</td>\n",
       "    </tr>\n",
       "    <tr>\n",
       "      <th>2021-10-21</th>\n",
       "      <td>307.1702</td>\n",
       "      <td>311.02</td>\n",
       "      <td>306.36</td>\n",
       "      <td>310.76</td>\n",
       "      <td>16918100.0</td>\n",
       "    </tr>\n",
       "    <tr>\n",
       "      <th>2021-10-20</th>\n",
       "      <td>309.2100</td>\n",
       "      <td>309.70</td>\n",
       "      <td>306.11</td>\n",
       "      <td>307.41</td>\n",
       "      <td>16537069.0</td>\n",
       "    </tr>\n",
       "    <tr>\n",
       "      <th>2021-10-19</th>\n",
       "      <td>308.3480</td>\n",
       "      <td>309.30</td>\n",
       "      <td>307.22</td>\n",
       "      <td>308.23</td>\n",
       "      <td>17682139.0</td>\n",
       "    </tr>\n",
       "    <tr>\n",
       "      <th>2021-10-18</th>\n",
       "      <td>303.5700</td>\n",
       "      <td>308.21</td>\n",
       "      <td>302.69</td>\n",
       "      <td>307.29</td>\n",
       "      <td>22729297.0</td>\n",
       "    </tr>\n",
       "  </tbody>\n",
       "</table>\n",
       "</div>"
      ],
      "text/plain": [
       "             1. open  2. high  3. low  4. close   5. volume\n",
       "date                                                       \n",
       "2021-10-22  310.4000   311.09  307.80    309.16  17449332.0\n",
       "2021-10-21  307.1702   311.02  306.36    310.76  16918100.0\n",
       "2021-10-20  309.2100   309.70  306.11    307.41  16537069.0\n",
       "2021-10-19  308.3480   309.30  307.22    308.23  17682139.0\n",
       "2021-10-18  303.5700   308.21  302.69    307.29  22729297.0"
      ]
     },
     "execution_count": 4,
     "metadata": {},
     "output_type": "execute_result"
    }
   ],
   "source": [
    "# Display header of stock dataframe\n",
    "data.head()"
   ]
  },
  {
   "cell_type": "code",
   "execution_count": 5,
   "metadata": {},
   "outputs": [
    {
     "name": "stdout",
     "output_type": "stream",
     "text": [
      "<class 'pandas.core.frame.DataFrame'>\n",
      "DatetimeIndex: 5531 entries, 2021-10-22 to 1999-11-01\n",
      "Data columns (total 5 columns):\n",
      " #   Column     Non-Null Count  Dtype  \n",
      "---  ------     --------------  -----  \n",
      " 0   1. open    5531 non-null   float64\n",
      " 1   2. high    5531 non-null   float64\n",
      " 2   3. low     5531 non-null   float64\n",
      " 3   4. close   5531 non-null   float64\n",
      " 4   5. volume  5531 non-null   float64\n",
      "dtypes: float64(5)\n",
      "memory usage: 259.3 KB\n"
     ]
    }
   ],
   "source": [
    "# Check stock dataframe information\n",
    "data.info()"
   ]
  },
  {
   "cell_type": "code",
   "execution_count": 6,
   "metadata": {},
   "outputs": [
    {
     "data": {
      "image/png": "[encoded data removed]",
      "text/plain": [
       "<Figure size 432x288 with 1 Axes>"
      ]
     },
     "metadata": {
      "needs_background": "light"
     },
     "output_type": "display_data"
    }
   ],
   "source": [
    "# Quick plot line graph with stock dataframe\n",
    "data['4. close'].plot()\n",
    "plt.title('Times Series (Daily) for the MSFT stock closing price')\n",
    "plt.show()"
   ]
  },
  {
   "cell_type": "code",
   "execution_count": 7,
   "metadata": {},
   "outputs": [],
   "source": [
    "# Save stock dataframe into csv file\n",
    "data.to_csv(r'stock_data_msft.csv', index = True)"
   ]
  },
  {
   "cell_type": "code",
   "execution_count": 3,
   "metadata": {},
   "outputs": [],
   "source": [
    "# Reload stock dataframe from csv file\n",
    "data_from_csv = pd.read_csv('stock_data_msft.csv', index_col='date')"
   ]
  },
  {
   "cell_type": "code",
   "execution_count": 4,
   "metadata": {},
   "outputs": [
    {
     "data": {
      "text/html": [
       "<div>\n",
       "<style scoped>\n",
       "    .dataframe tbody tr th:only-of-type {\n",
       "        vertical-align: middle;\n",
       "    }\n",
       "\n",
       "    .dataframe tbody tr th {\n",
       "        vertical-align: top;\n",
       "    }\n",
       "\n",
       "    .dataframe thead th {\n",
       "        text-align: right;\n",
       "    }\n",
       "</style>\n",
       "<table border=\"1\" class=\"dataframe\">\n",
       "  <thead>\n",
       "    <tr style=\"text-align: right;\">\n",
       "      <th></th>\n",
       "      <th>1. open</th>\n",
       "      <th>2. high</th>\n",
       "      <th>3. low</th>\n",
       "      <th>4. close</th>\n",
       "      <th>5. volume</th>\n",
       "    </tr>\n",
       "    <tr>\n",
       "      <th>date</th>\n",
       "      <th></th>\n",
       "      <th></th>\n",
       "      <th></th>\n",
       "      <th></th>\n",
       "      <th></th>\n",
       "    </tr>\n",
       "  </thead>\n",
       "  <tbody>\n",
       "    <tr>\n",
       "      <th>2021-10-22</th>\n",
       "      <td>310.4000</td>\n",
       "      <td>311.09</td>\n",
       "      <td>307.80</td>\n",
       "      <td>309.16</td>\n",
       "      <td>17449332.0</td>\n",
       "    </tr>\n",
       "    <tr>\n",
       "      <th>2021-10-21</th>\n",
       "      <td>307.1702</td>\n",
       "      <td>311.02</td>\n",
       "      <td>306.36</td>\n",
       "      <td>310.76</td>\n",
       "      <td>16918100.0</td>\n",
       "    </tr>\n",
       "    <tr>\n",
       "      <th>2021-10-20</th>\n",
       "      <td>309.2100</td>\n",
       "      <td>309.70</td>\n",
       "      <td>306.11</td>\n",
       "      <td>307.41</td>\n",
       "      <td>16537069.0</td>\n",
       "    </tr>\n",
       "    <tr>\n",
       "      <th>2021-10-19</th>\n",
       "      <td>308.3480</td>\n",
       "      <td>309.30</td>\n",
       "      <td>307.22</td>\n",
       "      <td>308.23</td>\n",
       "      <td>17682139.0</td>\n",
       "    </tr>\n",
       "    <tr>\n",
       "      <th>2021-10-18</th>\n",
       "      <td>303.5700</td>\n",
       "      <td>308.21</td>\n",
       "      <td>302.69</td>\n",
       "      <td>307.29</td>\n",
       "      <td>22729297.0</td>\n",
       "    </tr>\n",
       "  </tbody>\n",
       "</table>\n",
       "</div>"
      ],
      "text/plain": [
       "             1. open  2. high  3. low  4. close   5. volume\n",
       "date                                                       \n",
       "2021-10-22  310.4000   311.09  307.80    309.16  17449332.0\n",
       "2021-10-21  307.1702   311.02  306.36    310.76  16918100.0\n",
       "2021-10-20  309.2100   309.70  306.11    307.41  16537069.0\n",
       "2021-10-19  308.3480   309.30  307.22    308.23  17682139.0\n",
       "2021-10-18  303.5700   308.21  302.69    307.29  22729297.0"
      ]
     },
     "execution_count": 4,
     "metadata": {},
     "output_type": "execute_result"
    }
   ],
   "source": [
    "# Display header of stock dataframe, reload from csv\n",
    "data_from_csv.head()"
   ]
  },
  {
   "cell_type": "code",
   "execution_count": 5,
   "metadata": {
    "scrolled": true
   },
   "outputs": [
    {
     "name": "stdout",
     "output_type": "stream",
     "text": [
      "<class 'pandas.core.frame.DataFrame'>\n",
      "Index: 5531 entries, 2021-10-22 to 1999-11-01\n",
      "Data columns (total 5 columns):\n",
      " #   Column     Non-Null Count  Dtype  \n",
      "---  ------     --------------  -----  \n",
      " 0   1. open    5531 non-null   float64\n",
      " 1   2. high    5531 non-null   float64\n",
      " 2   3. low     5531 non-null   float64\n",
      " 3   4. close   5531 non-null   float64\n",
      " 4   5. volume  5531 non-null   float64\n",
      "dtypes: float64(5)\n",
      "memory usage: 259.3+ KB\n"
     ]
    }
   ],
   "source": [
    "# Check stock dataframe information\n",
    "data_from_csv.info()"
   ]
  },
  {
   "cell_type": "code",
   "execution_count": 6,
   "metadata": {},
   "outputs": [
    {
     "data": {
      "image/png": "[encoded data removed]",
      "text/plain": [
       "<Figure size 432x288 with 1 Axes>"
      ]
     },
     "metadata": {
      "needs_background": "light"
     },
     "output_type": "display_data"
    }
   ],
   "source": [
    "# Quick plot line graph with stock dataframe\n",
    "data_from_csv['4. close'].plot()\n",
    "plt.title('Times Series (Daily) for the MSFT stock closing price')\n",
    "plt.show()"
   ]
  },
  {
   "cell_type": "code",
   "execution_count": 7,
   "metadata": {},
   "outputs": [],
   "source": [
    "# Create new stock dataframe which only select past 3.5 years records (1278 days)\n",
    "selected_data = data_from_csv[0:1278]"
   ]
  },
  {
   "cell_type": "code",
   "execution_count": 8,
   "metadata": {},
   "outputs": [
    {
     "name": "stdout",
     "output_type": "stream",
     "text": [
      "<class 'pandas.core.frame.DataFrame'>\n",
      "Index: 1278 entries, 2021-10-22 to 2016-09-27\n",
      "Data columns (total 5 columns):\n",
      " #   Column     Non-Null Count  Dtype  \n",
      "---  ------     --------------  -----  \n",
      " 0   1. open    1278 non-null   float64\n",
      " 1   2. high    1278 non-null   float64\n",
      " 2   3. low     1278 non-null   float64\n",
      " 3   4. close   1278 non-null   float64\n",
      " 4   5. volume  1278 non-null   float64\n",
      "dtypes: float64(5)\n",
      "memory usage: 59.9+ KB\n"
     ]
    }
   ],
   "source": [
    "# Check new stock dataframe information\n",
    "selected_data.info()"
   ]
  },
  {
   "cell_type": "code",
   "execution_count": 9,
   "metadata": {},
   "outputs": [
    {
     "data": {
      "text/html": [
       "<div>\n",
       "<style scoped>\n",
       "    .dataframe tbody tr th:only-of-type {\n",
       "        vertical-align: middle;\n",
       "    }\n",
       "\n",
       "    .dataframe tbody tr th {\n",
       "        vertical-align: top;\n",
       "    }\n",
       "\n",
       "    .dataframe thead th {\n",
       "        text-align: right;\n",
       "    }\n",
       "</style>\n",
       "<table border=\"1\" class=\"dataframe\">\n",
       "  <thead>\n",
       "    <tr style=\"text-align: right;\">\n",
       "      <th></th>\n",
       "      <th>1. open</th>\n",
       "      <th>2. high</th>\n",
       "      <th>3. low</th>\n",
       "      <th>4. close</th>\n",
       "      <th>5. volume</th>\n",
       "    </tr>\n",
       "    <tr>\n",
       "      <th>date</th>\n",
       "      <th></th>\n",
       "      <th></th>\n",
       "      <th></th>\n",
       "      <th></th>\n",
       "      <th></th>\n",
       "    </tr>\n",
       "  </thead>\n",
       "  <tbody>\n",
       "    <tr>\n",
       "      <th>2021-10-22</th>\n",
       "      <td>310.4000</td>\n",
       "      <td>311.09</td>\n",
       "      <td>307.80</td>\n",
       "      <td>309.16</td>\n",
       "      <td>17449332.0</td>\n",
       "    </tr>\n",
       "    <tr>\n",
       "      <th>2021-10-21</th>\n",
       "      <td>307.1702</td>\n",
       "      <td>311.02</td>\n",
       "      <td>306.36</td>\n",
       "      <td>310.76</td>\n",
       "      <td>16918100.0</td>\n",
       "    </tr>\n",
       "    <tr>\n",
       "      <th>2021-10-20</th>\n",
       "      <td>309.2100</td>\n",
       "      <td>309.70</td>\n",
       "      <td>306.11</td>\n",
       "      <td>307.41</td>\n",
       "      <td>16537069.0</td>\n",
       "    </tr>\n",
       "    <tr>\n",
       "      <th>2021-10-19</th>\n",
       "      <td>308.3480</td>\n",
       "      <td>309.30</td>\n",
       "      <td>307.22</td>\n",
       "      <td>308.23</td>\n",
       "      <td>17682139.0</td>\n",
       "    </tr>\n",
       "    <tr>\n",
       "      <th>2021-10-18</th>\n",
       "      <td>303.5700</td>\n",
       "      <td>308.21</td>\n",
       "      <td>302.69</td>\n",
       "      <td>307.29</td>\n",
       "      <td>22729297.0</td>\n",
       "    </tr>\n",
       "  </tbody>\n",
       "</table>\n",
       "</div>"
      ],
      "text/plain": [
       "             1. open  2. high  3. low  4. close   5. volume\n",
       "date                                                       \n",
       "2021-10-22  310.4000   311.09  307.80    309.16  17449332.0\n",
       "2021-10-21  307.1702   311.02  306.36    310.76  16918100.0\n",
       "2021-10-20  309.2100   309.70  306.11    307.41  16537069.0\n",
       "2021-10-19  308.3480   309.30  307.22    308.23  17682139.0\n",
       "2021-10-18  303.5700   308.21  302.69    307.29  22729297.0"
      ]
     },
     "execution_count": 9,
     "metadata": {},
     "output_type": "execute_result"
    }
   ],
   "source": [
    "# Display header of new stock dataframe, latest record is on 2021-10-22\n",
    "selected_data.head()"
   ]
  },
  {
   "cell_type": "code",
   "execution_count": 10,
   "metadata": {
    "scrolled": true
   },
   "outputs": [
    {
     "data": {
      "text/html": [
       "<div>\n",
       "<style scoped>\n",
       "    .dataframe tbody tr th:only-of-type {\n",
       "        vertical-align: middle;\n",
       "    }\n",
       "\n",
       "    .dataframe tbody tr th {\n",
       "        vertical-align: top;\n",
       "    }\n",
       "\n",
       "    .dataframe thead th {\n",
       "        text-align: right;\n",
       "    }\n",
       "</style>\n",
       "<table border=\"1\" class=\"dataframe\">\n",
       "  <thead>\n",
       "    <tr style=\"text-align: right;\">\n",
       "      <th></th>\n",
       "      <th>1. open</th>\n",
       "      <th>2. high</th>\n",
       "      <th>3. low</th>\n",
       "      <th>4. close</th>\n",
       "      <th>5. volume</th>\n",
       "    </tr>\n",
       "    <tr>\n",
       "      <th>date</th>\n",
       "      <th></th>\n",
       "      <th></th>\n",
       "      <th></th>\n",
       "      <th></th>\n",
       "      <th></th>\n",
       "    </tr>\n",
       "  </thead>\n",
       "  <tbody>\n",
       "    <tr>\n",
       "      <th>2016-10-03</th>\n",
       "      <td>57.405</td>\n",
       "      <td>57.5500</td>\n",
       "      <td>57.060</td>\n",
       "      <td>57.42</td>\n",
       "      <td>19189515.0</td>\n",
       "    </tr>\n",
       "    <tr>\n",
       "      <th>2016-09-30</th>\n",
       "      <td>57.570</td>\n",
       "      <td>57.7700</td>\n",
       "      <td>57.340</td>\n",
       "      <td>57.60</td>\n",
       "      <td>29910788.0</td>\n",
       "    </tr>\n",
       "    <tr>\n",
       "      <th>2016-09-29</th>\n",
       "      <td>57.810</td>\n",
       "      <td>58.1679</td>\n",
       "      <td>57.210</td>\n",
       "      <td>57.40</td>\n",
       "      <td>25463536.0</td>\n",
       "    </tr>\n",
       "    <tr>\n",
       "      <th>2016-09-28</th>\n",
       "      <td>57.880</td>\n",
       "      <td>58.0600</td>\n",
       "      <td>57.670</td>\n",
       "      <td>58.03</td>\n",
       "      <td>20536400.0</td>\n",
       "    </tr>\n",
       "    <tr>\n",
       "      <th>2016-09-27</th>\n",
       "      <td>56.930</td>\n",
       "      <td>58.0600</td>\n",
       "      <td>56.681</td>\n",
       "      <td>57.95</td>\n",
       "      <td>28065071.0</td>\n",
       "    </tr>\n",
       "  </tbody>\n",
       "</table>\n",
       "</div>"
      ],
      "text/plain": [
       "            1. open  2. high  3. low  4. close   5. volume\n",
       "date                                                      \n",
       "2016-10-03   57.405  57.5500  57.060     57.42  19189515.0\n",
       "2016-09-30   57.570  57.7700  57.340     57.60  29910788.0\n",
       "2016-09-29   57.810  58.1679  57.210     57.40  25463536.0\n",
       "2016-09-28   57.880  58.0600  57.670     58.03  20536400.0\n",
       "2016-09-27   56.930  58.0600  56.681     57.95  28065071.0"
      ]
     },
     "execution_count": 10,
     "metadata": {},
     "output_type": "execute_result"
    }
   ],
   "source": [
    "# Display footer of new stock dataframe, last record is on 2016-10-03\n",
    "selected_data.tail()"
   ]
  },
  {
   "cell_type": "code",
   "execution_count": 11,
   "metadata": {},
   "outputs": [
    {
     "data": {
      "image/png": "[encoded data removed]",
      "text/plain": [
       "<Figure size 432x288 with 1 Axes>"
      ]
     },
     "metadata": {
      "needs_background": "light"
     },
     "output_type": "display_data"
    }
   ],
   "source": [
    "# Quick plot line graph with new stock dataframe, from 2021-10-22 to 2016-10-03\n",
    "selected_data['4. close'].plot()\n",
    "plt.title('Times Series (Daily) for the MSFT stock closing price')\n",
    "plt.show()"
   ]
  },
  {
   "cell_type": "code",
   "execution_count": 12,
   "metadata": {},
   "outputs": [],
   "source": [
    "# As we're going to forecast close price of stock, create new temporary dataframe and only\n",
    "# select close price column.\n",
    "df0=selected_data.reset_index()['4. close']"
   ]
  },
  {
   "cell_type": "code",
   "execution_count": 13,
   "metadata": {},
   "outputs": [],
   "source": [
    "# Reset the records order from latest to oldest\n",
    "df1=df0[::-1].reset_index(drop=True)"
   ]
  },
  {
   "cell_type": "code",
   "execution_count": 14,
   "metadata": {},
   "outputs": [
    {
     "data": {
      "text/plain": [
       "0    57.95\n",
       "1    58.03\n",
       "2    57.40\n",
       "3    57.60\n",
       "4    57.42\n",
       "Name: 4. close, dtype: float64"
      ]
     },
     "execution_count": 14,
     "metadata": {},
     "output_type": "execute_result"
    }
   ],
   "source": [
    "# Display header of close price dataframe, which order by oldest to latest\n",
    "df1.head()"
   ]
  },
  {
   "cell_type": "code",
   "execution_count": 15,
   "metadata": {},
   "outputs": [
    {
     "data": {
      "text/plain": [
       "[<matplotlib.lines.Line2D at 0x139b64c82e0>]"
      ]
     },
     "execution_count": 15,
     "metadata": {},
     "output_type": "execute_result"
    },
    {
     "data": {
      "image/png": "[encoded data removed]",
      "text/plain": [
       "<Figure size 432x288 with 1 Axes>"
      ]
     },
     "metadata": {
      "needs_background": "light"
     },
     "output_type": "display_data"
    }
   ],
   "source": [
    "# Quick plot line graph with close price dataframe, from oldest 0 (2016-10-03) to 1278 (2021-10-22)\n",
    "plt.plot(df1)"
   ]
  },
  {
   "cell_type": "code",
   "execution_count": 16,
   "metadata": {},
   "outputs": [],
   "source": [
    "# Perform Mix-Max Scaling data normalization to scale it between 0 to 1, and transform it into array\n",
    "from sklearn.preprocessing import MinMaxScaler\n",
    "scaler=MinMaxScaler(feature_range=(0,1))\n",
    "df1=scaler.fit_transform(np.array(df1).reshape(-1,1))"
   ]
  },
  {
   "cell_type": "code",
   "execution_count": 17,
   "metadata": {},
   "outputs": [
    {
     "name": "stdout",
     "output_type": "stream",
     "text": [
      "(1278, 1)\n"
     ]
    }
   ],
   "source": [
    "# Check shape of close price array\n",
    "print(df1.shape)"
   ]
  },
  {
   "cell_type": "code",
   "execution_count": 18,
   "metadata": {},
   "outputs": [
    {
     "data": {
      "text/plain": [
       "array([[0.00405767],\n",
       "       [0.00437283],\n",
       "       [0.00189095],\n",
       "       ...,\n",
       "       [0.98680271],\n",
       "       [1.        ],\n",
       "       [0.99369682]])"
      ]
     },
     "execution_count": 18,
     "metadata": {},
     "output_type": "execute_result"
    }
   ],
   "source": [
    "# Display header and footer of close price array\n",
    "df1"
   ]
  },
  {
   "cell_type": "code",
   "execution_count": 19,
   "metadata": {},
   "outputs": [],
   "source": [
    "# Perform data split for training and test, 65% of records for training, 35% of records for test\n",
    "training_size=int(len(df1)*0.65)\n",
    "test_size=len(df1)-training_size\n",
    "train_data,test_data=df1[0:training_size,:],df1[training_size:len(df1),:1]"
   ]
  },
  {
   "cell_type": "code",
   "execution_count": 20,
   "metadata": {
    "scrolled": true
   },
   "outputs": [
    {
     "name": "stdout",
     "output_type": "stream",
     "text": [
      "train_data:  (830, 1)\n",
      "test_data:  (448, 1)\n"
     ]
    }
   ],
   "source": [
    "# Check shape of training and test data array\n",
    "print(\"train_data: \", train_data.shape)\n",
    "print(\"test_data: \", test_data.shape)"
   ]
  },
  {
   "cell_type": "code",
   "execution_count": 21,
   "metadata": {},
   "outputs": [],
   "source": [
    "# Define function to convert dataset array into matrix\n",
    "def create_dataset(dataset, time_step=1):\n",
    "    dataX, dataY = [], []\n",
    "    for i in range(len(dataset)-time_step-1):\n",
    "        a = dataset[i:(i+time_step), 0]\n",
    "        dataX.append(a)\n",
    "        dataY.append(dataset[i + time_step, 0])\n",
    "    return np.array(dataX), np.array(dataY)"
   ]
  },
  {
   "cell_type": "code",
   "execution_count": 22,
   "metadata": {
    "scrolled": true
   },
   "outputs": [],
   "source": [
    "# Create training and test dataset matrix\n",
    "time_step = 100\n",
    "X_train, y_train = create_dataset(train_data, time_step)\n",
    "X_test, y_test = create_dataset(test_data, time_step)"
   ]
  },
  {
   "cell_type": "code",
   "execution_count": 23,
   "metadata": {
    "scrolled": true
   },
   "outputs": [
    {
     "name": "stdout",
     "output_type": "stream",
     "text": [
      "X_train:  (729, 100)\n",
      "y_train:  (729,)\n",
      "X_test:  (347, 100)\n",
      "y_test (347,)\n"
     ]
    }
   ],
   "source": [
    "# Check shape of training and test dataset matrix\n",
    "print(\"X_train: \", X_train.shape)\n",
    "print(\"y_train: \", y_train.shape)\n",
    "print(\"X_test: \", X_test.shape)\n",
    "print(\"y_test\", y_test.shape)"
   ]
  },
  {
   "cell_type": "code",
   "execution_count": 24,
   "metadata": {
    "scrolled": true
   },
   "outputs": [],
   "source": [
    "# Convert training and test dataset 2D matrix into 3D matrix\n",
    "X_train = X_train.reshape(X_train.shape[0],X_train.shape[1] , 1)\n",
    "X_test = X_test.reshape(X_test.shape[0],X_test.shape[1] , 1)"
   ]
  },
  {
   "cell_type": "code",
   "execution_count": 25,
   "metadata": {},
   "outputs": [
    {
     "name": "stdout",
     "output_type": "stream",
     "text": [
      "X_train:  (729, 100, 1)\n",
      "X_test:  (347, 100, 1)\n"
     ]
    }
   ],
   "source": [
    "# Check shape of training and test dataset matrix\n",
    "print(\"X_train: \", X_train.shape)\n",
    "print(\"X_test: \", X_test.shape)"
   ]
  },
  {
   "cell_type": "code",
   "execution_count": 26,
   "metadata": {},
   "outputs": [],
   "source": [
    "# Import necessary libraries for LSTM model training\n",
    "from tensorflow.keras.models import Sequential\n",
    "from tensorflow.keras.layers import Dense\n",
    "from tensorflow.keras.layers import LSTM"
   ]
  },
  {
   "cell_type": "code",
   "execution_count": 27,
   "metadata": {},
   "outputs": [],
   "source": [
    "# Construct LSTM model\n",
    "model=Sequential()\n",
    "model.add(LSTM(50,return_sequences=True,input_shape=(100,1)))\n",
    "model.add(LSTM(50,return_sequences=True))\n",
    "model.add(LSTM(50))\n",
    "model.add(Dense(1))\n",
    "model.compile(loss='mean_squared_error',optimizer='adam')"
   ]
  },
  {
   "cell_type": "code",
   "execution_count": 28,
   "metadata": {},
   "outputs": [
    {
     "name": "stdout",
     "output_type": "stream",
     "text": [
      "Model: \"sequential\"\n",
      "_________________________________________________________________\n",
      "Layer (type)                 Output Shape              Param #   \n",
      "=================================================================\n",
      "lstm (LSTM)                  (None, 100, 50)           10400     \n",
      "_________________________________________________________________\n",
      "lstm_1 (LSTM)                (None, 100, 50)           20200     \n",
      "_________________________________________________________________\n",
      "lstm_2 (LSTM)                (None, 50)                20200     \n",
      "_________________________________________________________________\n",
      "dense (Dense)                (None, 1)                 51        \n",
      "=================================================================\n",
      "Total params: 50,851\n",
      "Trainable params: 50,851\n",
      "Non-trainable params: 0\n",
      "_________________________________________________________________\n"
     ]
    }
   ],
   "source": [
    "# Print LSTM model summary\n",
    "model.summary()"
   ]
  },
  {
   "cell_type": "code",
   "execution_count": 32,
   "metadata": {},
   "outputs": [
    {
     "name": "stdout",
     "output_type": "stream",
     "text": [
      "Epoch 1/100\n",
      "12/12 [==============================] - 8s 319ms/step - loss: 0.0108 - val_loss: 0.1069\n",
      "Epoch 2/100\n",
      "12/12 [==============================] - 3s 219ms/step - loss: 0.0025 - val_loss: 0.0048\n",
      "Epoch 3/100\n",
      "12/12 [==============================] - 3s 247ms/step - loss: 5.8508e-04 - val_loss: 0.0015\n",
      "Epoch 4/100\n",
      "12/12 [==============================] - 3s 291ms/step - loss: 2.4466e-04 - val_loss: 0.0014\n",
      "Epoch 5/100\n",
      "12/12 [==============================] - 3s 231ms/step - loss: 1.6284e-04 - val_loss: 0.0029\n",
      "Epoch 6/100\n",
      "12/12 [==============================] - 3s 212ms/step - loss: 1.3557e-04 - val_loss: 0.0026\n",
      "Epoch 7/100\n",
      "12/12 [==============================] - 3s 252ms/step - loss: 1.3447e-04 - val_loss: 0.0020\n",
      "Epoch 8/100\n",
      "12/12 [==============================] - 4s 300ms/step - loss: 1.3048e-04 - val_loss: 0.0018\n",
      "Epoch 9/100\n",
      "12/12 [==============================] - 4s 365ms/step - loss: 1.3193e-04 - val_loss: 0.0018\n",
      "Epoch 10/100\n",
      "12/12 [==============================] - 4s 302ms/step - loss: 1.3685e-04 - val_loss: 0.0021\n",
      "Epoch 11/100\n",
      "12/12 [==============================] - 3s 219ms/step - loss: 1.3960e-04 - val_loss: 0.0015\n",
      "Epoch 12/100\n",
      "12/12 [==============================] - 3s 212ms/step - loss: 1.3087e-04 - val_loss: 0.0014\n",
      "Epoch 13/100\n",
      "12/12 [==============================] - 3s 217ms/step - loss: 1.2717e-04 - val_loss: 0.0015\n",
      "Epoch 14/100\n",
      "12/12 [==============================] - 3s 213ms/step - loss: 1.2439e-04 - val_loss: 0.0014\n",
      "Epoch 15/100\n",
      "12/12 [==============================] - 3s 212ms/step - loss: 1.2307e-04 - val_loss: 0.0017\n",
      "Epoch 16/100\n",
      "12/12 [==============================] - 3s 210ms/step - loss: 1.3462e-04 - val_loss: 0.0018\n",
      "Epoch 17/100\n",
      "12/12 [==============================] - 3s 210ms/step - loss: 1.2600e-04 - val_loss: 0.0013\n",
      "Epoch 18/100\n",
      "12/12 [==============================] - 3s 212ms/step - loss: 1.2634e-04 - val_loss: 0.0012\n",
      "Epoch 19/100\n",
      "12/12 [==============================] - 2s 210ms/step - loss: 1.2268e-04 - val_loss: 0.0012\n",
      "Epoch 20/100\n",
      "12/12 [==============================] - 3s 212ms/step - loss: 1.2124e-04 - val_loss: 0.0013\n",
      "Epoch 21/100\n",
      "12/12 [==============================] - 3s 212ms/step - loss: 1.2743e-04 - val_loss: 0.0018\n",
      "Epoch 22/100\n",
      "12/12 [==============================] - 2s 210ms/step - loss: 1.2855e-04 - val_loss: 0.0011\n",
      "Epoch 23/100\n",
      "12/12 [==============================] - 2s 207ms/step - loss: 1.2448e-04 - val_loss: 0.0012\n",
      "Epoch 24/100\n",
      "12/12 [==============================] - 3s 213ms/step - loss: 1.1942e-04 - val_loss: 0.0012\n",
      "Epoch 25/100\n",
      "12/12 [==============================] - 3s 209ms/step - loss: 1.2235e-04 - val_loss: 0.0011\n",
      "Epoch 26/100\n",
      "12/12 [==============================] - 3s 213ms/step - loss: 1.2507e-04 - val_loss: 0.0013\n",
      "Epoch 27/100\n",
      "12/12 [==============================] - 3s 218ms/step - loss: 1.1764e-04 - val_loss: 0.0012\n",
      "Epoch 28/100\n",
      "12/12 [==============================] - 3s 227ms/step - loss: 1.2265e-04 - val_loss: 0.0011\n",
      "Epoch 29/100\n",
      "12/12 [==============================] - 3s 218ms/step - loss: 1.2133e-04 - val_loss: 0.0012\n",
      "Epoch 30/100\n",
      "12/12 [==============================] - 3s 222ms/step - loss: 1.2781e-04 - val_loss: 0.0011\n",
      "Epoch 31/100\n",
      "12/12 [==============================] - 3s 252ms/step - loss: 1.1922e-04 - val_loss: 0.0011\n",
      "Epoch 32/100\n",
      "12/12 [==============================] - 3s 221ms/step - loss: 1.1726e-04 - val_loss: 0.0012\n",
      "Epoch 33/100\n",
      "12/12 [==============================] - 3s 217ms/step - loss: 1.1722e-04 - val_loss: 0.0010\n",
      "Epoch 34/100\n",
      "12/12 [==============================] - 3s 224ms/step - loss: 1.1509e-04 - val_loss: 0.0011\n",
      "Epoch 35/100\n",
      "12/12 [==============================] - 3s 212ms/step - loss: 1.1623e-04 - val_loss: 0.0010\n",
      "Epoch 36/100\n",
      "12/12 [==============================] - 2s 209ms/step - loss: 1.1325e-04 - val_loss: 0.0012\n",
      "Epoch 37/100\n",
      "12/12 [==============================] - 2s 205ms/step - loss: 1.2026e-04 - val_loss: 0.0010\n",
      "Epoch 38/100\n",
      "12/12 [==============================] - 2s 209ms/step - loss: 1.2119e-04 - val_loss: 0.0010\n",
      "Epoch 39/100\n",
      "12/12 [==============================] - 3s 234ms/step - loss: 1.1389e-04 - val_loss: 9.9261e-04\n",
      "Epoch 40/100\n",
      "12/12 [==============================] - 3s 213ms/step - loss: 1.1334e-04 - val_loss: 0.0010\n",
      "Epoch 41/100\n",
      "12/12 [==============================] - 3s 245ms/step - loss: 1.1860e-04 - val_loss: 9.8435e-04\n",
      "Epoch 42/100\n",
      "12/12 [==============================] - 3s 226ms/step - loss: 1.2551e-04 - val_loss: 0.0010\n",
      "Epoch 43/100\n",
      "12/12 [==============================] - 3s 244ms/step - loss: 1.2141e-04 - val_loss: 9.9963e-04\n",
      "Epoch 44/100\n",
      "12/12 [==============================] - 3s 239ms/step - loss: 1.1497e-04 - val_loss: 9.9299e-04\n",
      "Epoch 45/100\n",
      "12/12 [==============================] - 3s 247ms/step - loss: 1.1009e-04 - val_loss: 9.6062e-04\n",
      "Epoch 46/100\n",
      "12/12 [==============================] - 4s 306ms/step - loss: 1.1032e-04 - val_loss: 9.9053e-04\n",
      "Epoch 47/100\n",
      "12/12 [==============================] - 3s 225ms/step - loss: 1.1800e-04 - val_loss: 0.0011\n",
      "Epoch 48/100\n",
      "12/12 [==============================] - 2s 209ms/step - loss: 1.3833e-04 - val_loss: 0.0011\n",
      "Epoch 49/100\n",
      "12/12 [==============================] - 2s 206ms/step - loss: 1.1743e-04 - val_loss: 9.9823e-04\n",
      "Epoch 50/100\n",
      "12/12 [==============================] - 2s 208ms/step - loss: 1.1207e-04 - val_loss: 9.4797e-04\n",
      "Epoch 51/100\n",
      "12/12 [==============================] - 3s 214ms/step - loss: 1.1621e-04 - val_loss: 0.0011\n",
      "Epoch 52/100\n",
      "12/12 [==============================] - 2s 209ms/step - loss: 1.1285e-04 - val_loss: 0.0010\n",
      "Epoch 53/100\n",
      "12/12 [==============================] - 3s 213ms/step - loss: 1.1813e-04 - val_loss: 9.3674e-04\n",
      "Epoch 54/100\n",
      "12/12 [==============================] - 3s 222ms/step - loss: 1.0770e-04 - val_loss: 9.1229e-04\n",
      "Epoch 55/100\n",
      "12/12 [==============================] - 3s 214ms/step - loss: 1.1326e-04 - val_loss: 9.1844e-04\n",
      "Epoch 56/100\n",
      "12/12 [==============================] - 3s 215ms/step - loss: 1.2016e-04 - val_loss: 0.0013\n",
      "Epoch 57/100\n",
      "12/12 [==============================] - 3s 216ms/step - loss: 1.1002e-04 - val_loss: 9.9916e-04\n",
      "Epoch 58/100\n",
      "12/12 [==============================] - 3s 229ms/step - loss: 1.0536e-04 - val_loss: 9.3788e-04\n",
      "Epoch 59/100\n",
      "12/12 [==============================] - 2s 210ms/step - loss: 1.1219e-04 - val_loss: 9.9935e-04\n",
      "Epoch 60/100\n",
      "12/12 [==============================] - 3s 219ms/step - loss: 1.1240e-04 - val_loss: 8.9690e-04\n",
      "Epoch 61/100\n",
      "12/12 [==============================] - 3s 213ms/step - loss: 1.1076e-04 - val_loss: 8.8693e-04\n",
      "Epoch 62/100\n",
      "12/12 [==============================] - 3s 227ms/step - loss: 1.0842e-04 - val_loss: 8.7214e-04\n",
      "Epoch 63/100\n",
      "12/12 [==============================] - 3s 239ms/step - loss: 1.0220e-04 - val_loss: 8.8132e-04\n",
      "Epoch 64/100\n",
      "12/12 [==============================] - 3s 230ms/step - loss: 1.1045e-04 - val_loss: 0.0011\n",
      "Epoch 65/100\n",
      "12/12 [==============================] - 3s 224ms/step - loss: 1.4092e-04 - val_loss: 9.7186e-04\n",
      "Epoch 66/100\n",
      "12/12 [==============================] - 3s 223ms/step - loss: 1.1063e-04 - val_loss: 9.4897e-04\n",
      "Epoch 67/100\n",
      "12/12 [==============================] - 3s 213ms/step - loss: 1.1102e-04 - val_loss: 8.8988e-04\n",
      "Epoch 68/100\n",
      "12/12 [==============================] - 3s 212ms/step - loss: 1.0351e-04 - val_loss: 8.6788e-04\n",
      "Epoch 69/100\n",
      "12/12 [==============================] - 3s 229ms/step - loss: 9.9741e-05 - val_loss: 8.3047e-04\n",
      "Epoch 70/100\n",
      "12/12 [==============================] - 3s 227ms/step - loss: 1.0265e-04 - val_loss: 0.0010\n",
      "Epoch 71/100\n",
      "12/12 [==============================] - 3s 217ms/step - loss: 1.0449e-04 - val_loss: 8.2322e-04\n",
      "Epoch 72/100\n",
      "12/12 [==============================] - 3s 216ms/step - loss: 1.0339e-04 - val_loss: 8.1387e-04\n",
      "Epoch 73/100\n",
      "12/12 [==============================] - 3s 213ms/step - loss: 1.1762e-04 - val_loss: 9.4332e-04\n",
      "Epoch 74/100\n",
      "12/12 [==============================] - 3s 212ms/step - loss: 1.1148e-04 - val_loss: 0.0016\n",
      "Epoch 75/100\n",
      "12/12 [==============================] - 3s 227ms/step - loss: 1.2085e-04 - val_loss: 8.9562e-04\n",
      "Epoch 76/100\n",
      "12/12 [==============================] - 3s 214ms/step - loss: 1.0072e-04 - val_loss: 9.6978e-04\n",
      "Epoch 77/100\n",
      "12/12 [==============================] - 3s 211ms/step - loss: 9.6509e-05 - val_loss: 9.0457e-04\n",
      "Epoch 78/100\n",
      "12/12 [==============================] - 3s 219ms/step - loss: 9.5877e-05 - val_loss: 7.8224e-04\n",
      "Epoch 79/100\n",
      "12/12 [==============================] - 3s 239ms/step - loss: 9.5426e-05 - val_loss: 7.7593e-04\n",
      "Epoch 80/100\n",
      "12/12 [==============================] - 2s 207ms/step - loss: 1.0074e-04 - val_loss: 8.1528e-04\n",
      "Epoch 81/100\n",
      "12/12 [==============================] - 3s 217ms/step - loss: 9.4407e-05 - val_loss: 7.7866e-04\n",
      "Epoch 82/100\n",
      "12/12 [==============================] - 2s 207ms/step - loss: 1.0100e-04 - val_loss: 8.7328e-04\n",
      "Epoch 83/100\n",
      "12/12 [==============================] - 3s 213ms/step - loss: 1.0065e-04 - val_loss: 8.0606e-04\n",
      "Epoch 84/100\n",
      "12/12 [==============================] - 3s 226ms/step - loss: 1.1196e-04 - val_loss: 8.0247e-04\n",
      "Epoch 85/100\n",
      "12/12 [==============================] - 3s 210ms/step - loss: 9.7810e-05 - val_loss: 8.5816e-04\n",
      "Epoch 86/100\n",
      "12/12 [==============================] - 2s 210ms/step - loss: 1.0070e-04 - val_loss: 7.4690e-04\n",
      "Epoch 87/100\n",
      "12/12 [==============================] - 3s 217ms/step - loss: 9.2565e-05 - val_loss: 7.4890e-04\n",
      "Epoch 88/100\n",
      "12/12 [==============================] - 3s 232ms/step - loss: 9.8634e-05 - val_loss: 8.7794e-04\n",
      "Epoch 89/100\n",
      "12/12 [==============================] - 3s 219ms/step - loss: 1.1024e-04 - val_loss: 7.7090e-04\n",
      "Epoch 90/100\n",
      "12/12 [==============================] - 3s 233ms/step - loss: 1.0731e-04 - val_loss: 0.0011\n",
      "Epoch 91/100\n",
      "12/12 [==============================] - 3s 223ms/step - loss: 1.0833e-04 - val_loss: 9.9225e-04\n",
      "Epoch 92/100\n",
      "12/12 [==============================] - 3s 226ms/step - loss: 1.2083e-04 - val_loss: 7.2791e-04\n",
      "Epoch 93/100\n",
      "12/12 [==============================] - 3s 214ms/step - loss: 1.0502e-04 - val_loss: 7.6750e-04\n",
      "Epoch 94/100\n",
      "12/12 [==============================] - 3s 212ms/step - loss: 9.3847e-05 - val_loss: 7.0992e-04\n",
      "Epoch 95/100\n",
      "12/12 [==============================] - 2s 207ms/step - loss: 8.9965e-05 - val_loss: 7.3955e-04\n",
      "Epoch 96/100\n",
      "12/12 [==============================] - 3s 216ms/step - loss: 1.1893e-04 - val_loss: 0.0012\n",
      "Epoch 97/100\n",
      "12/12 [==============================] - 3s 243ms/step - loss: 1.1006e-04 - val_loss: 0.0014\n",
      "Epoch 98/100\n",
      "12/12 [==============================] - 3s 228ms/step - loss: 9.8938e-05 - val_loss: 9.1943e-04\n",
      "Epoch 99/100\n",
      "12/12 [==============================] - 3s 220ms/step - loss: 9.1409e-05 - val_loss: 6.7708e-04\n",
      "Epoch 100/100\n",
      "12/12 [==============================] - 3s 246ms/step - loss: 9.2527e-05 - val_loss: 6.7053e-04\n"
     ]
    }
   ],
   "source": [
    "# Start model training\n",
    "history = model.fit(X_train,y_train,validation_data=(X_test,y_test),epochs=100,batch_size=64,verbose=1)"
   ]
  },
  {
   "cell_type": "code",
   "execution_count": 33,
   "metadata": {},
   "outputs": [
    {
     "data": {
      "image/png": "[encoded data removed]",
      "text/plain": [
       "<Figure size 432x288 with 1 Axes>"
      ]
     },
     "metadata": {
      "needs_background": "light"
     },
     "output_type": "display_data"
    },
    {
     "data": {
      "text/plain": [
       "<Figure size 432x288 with 0 Axes>"
      ]
     },
     "metadata": {},
     "output_type": "display_data"
    }
   ],
   "source": [
    "# Check model training performance (loss)\n",
    "loss = history.history['loss']\n",
    "val_loss = history.history['val_loss']\n",
    "\n",
    "epochs = range(len(loss))\n",
    "\n",
    "plt.plot(epochs, loss, 'r', label='Training loss')\n",
    "plt.plot(epochs, val_loss, 'b', label='Validation loss')\n",
    "plt.title('Training and validation loss')\n",
    "plt.legend(loc=0)\n",
    "plt.figure()\n",
    "\n",
    "plt.show()"
   ]
  },
  {
   "cell_type": "code",
   "execution_count": 34,
   "metadata": {},
   "outputs": [],
   "source": [
    "model.save('stock_prediction_lstm_msft_model_v1.h5')"
   ]
  },
  {
   "cell_type": "code",
   "execution_count": 35,
   "metadata": {},
   "outputs": [],
   "source": [
    "# Perform prediction to check model performance metrics\n",
    "train_predict=model.predict(X_train)\n",
    "test_predict=model.predict(X_test)"
   ]
  },
  {
   "cell_type": "code",
   "execution_count": 36,
   "metadata": {},
   "outputs": [],
   "source": [
    "# Convert normalized value back to origional form\n",
    "train_predict=scaler.inverse_transform(train_predict)\n",
    "test_predict=scaler.inverse_transform(test_predict)"
   ]
  },
  {
   "cell_type": "code",
   "execution_count": 37,
   "metadata": {
    "scrolled": true
   },
   "outputs": [
    {
     "data": {
      "text/plain": [
       "107.21511696615312"
      ]
     },
     "execution_count": 37,
     "metadata": {},
     "output_type": "execute_result"
    }
   ],
   "source": [
    "# Calculate Root Mean Square Error (RMSE) for training data\n",
    "import math\n",
    "from sklearn.metrics import mean_squared_error\n",
    "math.sqrt(mean_squared_error(y_train,train_predict))"
   ]
  },
  {
   "cell_type": "code",
   "execution_count": 38,
   "metadata": {},
   "outputs": [
    {
     "data": {
      "text/plain": [
       "242.5068751473875"
      ]
     },
     "execution_count": 38,
     "metadata": {},
     "output_type": "execute_result"
    }
   ],
   "source": [
    "# Calculate Root Mean Square Error (RMSE) for test data\n",
    "math.sqrt(mean_squared_error(y_test,test_predict))"
   ]
  },
  {
   "cell_type": "code",
   "execution_count": 39,
   "metadata": {},
   "outputs": [
    {
     "data": {
      "image/png": "[encoded data removed]",
      "text/plain": [
       "<Figure size 432x288 with 1 Axes>"
      ]
     },
     "metadata": {
      "needs_background": "light"
     },
     "output_type": "display_data"
    }
   ],
   "source": [
    "# Plot plot line graph with close price dataframe, together with train (orange) & predict (green) data line\n",
    "# shift train predictions for plotting\n",
    "look_back=100\n",
    "trainPredictPlot = np.empty_like(df1)\n",
    "trainPredictPlot[:, :] = np.nan\n",
    "trainPredictPlot[look_back:len(train_predict)+look_back, :] = train_predict\n",
    "# shift test predictions for plotting\n",
    "testPredictPlot = np.empty_like(df1)\n",
    "testPredictPlot[:, :] = np.nan\n",
    "testPredictPlot[len(train_predict)+(look_back*2)+1:len(df1)-1, :] = test_predict\n",
    "# plot baseline and predictions\n",
    "plt.plot(scaler.inverse_transform(df1))\n",
    "plt.plot(trainPredictPlot)\n",
    "plt.plot(testPredictPlot)\n",
    "plt.show()"
   ]
  },
  {
   "cell_type": "code",
   "execution_count": 40,
   "metadata": {},
   "outputs": [
    {
     "data": {
      "text/plain": [
       "(448, 1)"
      ]
     },
     "execution_count": 40,
     "metadata": {},
     "output_type": "execute_result"
    }
   ],
   "source": [
    "# Check shape of test data array\n",
    "test_data.shape"
   ]
  },
  {
   "cell_type": "code",
   "execution_count": 41,
   "metadata": {},
   "outputs": [
    {
     "data": {
      "text/plain": [
       "(1, 100)"
      ]
     },
     "execution_count": 41,
     "metadata": {},
     "output_type": "execute_result"
    }
   ],
   "source": [
    "# Select last 100 of records from test data and reshape it\n",
    "x_input=test_data[348:].reshape(1,-1)\n",
    "x_input.shape"
   ]
  },
  {
   "cell_type": "code",
   "execution_count": 42,
   "metadata": {},
   "outputs": [],
   "source": [
    "# Covert array into list\n",
    "temp_input=list(x_input)\n",
    "temp_input=temp_input[0].tolist()"
   ]
  },
  {
   "cell_type": "code",
   "execution_count": 43,
   "metadata": {},
   "outputs": [
    {
     "name": "stdout",
     "output_type": "stream",
     "text": [
      "[0.97727454]\n",
      "101\n",
      "1 day input [0.76374882 0.77564608 0.77076111 0.77477939 0.78915853 0.79171919\n",
      " 0.79959817 0.79357075 0.78971005 0.80357706 0.79778601 0.81039237\n",
      " 0.8217381  0.82081232 0.8263867  0.81980775 0.83438386 0.8449417\n",
      " 0.84297195 0.84572959 0.8695635  0.8696029  0.87854554 0.86865742\n",
      " 0.87070596 0.86826347 0.882682   0.88870942 0.88287898 0.88177592\n",
      " 0.86704223 0.87614245 0.88433659 0.90300977 0.91691617 0.91447368\n",
      " 0.90458557 0.90332493 0.90442799 0.8981642  0.89780964 0.90687047\n",
      " 0.90446738 0.91632524 0.91608887 0.91163725 0.90419162 0.90620076\n",
      " 0.9174677  0.92944374 0.93633785 0.93034983 0.92109203 0.94488654\n",
      " 0.97478727 0.97592972 0.96793256 0.96552947 0.95402616 0.95650804\n",
      " 0.97175386 0.96501733 0.96482036 0.96214151 0.96210211 0.9583202\n",
      " 0.95843839 0.9467775  0.94071068 0.94575323 0.9567838  0.97659943\n",
      " 0.97817523 0.95709896 0.935156   0.93712575 0.95201702 0.95587772\n",
      " 0.95505043 0.93464387 0.89268831 0.89457926 0.88638512 0.91467066\n",
      " 0.89107312 0.91333123 0.93046801 0.93732272 0.93732272 0.93488024\n",
      " 0.92956193 0.94307438 0.96844469 0.97419634 0.98632997 0.99003309\n",
      " 0.98680271 1.         0.99369682 0.97727454]\n",
      "1 day output [[0.98334265]]\n",
      "2 day input [0.77564608 0.77076111 0.77477939 0.78915853 0.79171919 0.79959817\n",
      " 0.79357075 0.78971005 0.80357706 0.79778601 0.81039237 0.8217381\n",
      " 0.82081232 0.8263867  0.81980775 0.83438386 0.8449417  0.84297195\n",
      " 0.84572959 0.8695635  0.8696029  0.87854554 0.86865742 0.87070596\n",
      " 0.86826347 0.882682   0.88870942 0.88287898 0.88177592 0.86704223\n",
      " 0.87614245 0.88433659 0.90300977 0.91691617 0.91447368 0.90458557\n",
      " 0.90332493 0.90442799 0.8981642  0.89780964 0.90687047 0.90446738\n",
      " 0.91632524 0.91608887 0.91163725 0.90419162 0.90620076 0.9174677\n",
      " 0.92944374 0.93633785 0.93034983 0.92109203 0.94488654 0.97478727\n",
      " 0.97592972 0.96793256 0.96552947 0.95402616 0.95650804 0.97175386\n",
      " 0.96501733 0.96482036 0.96214151 0.96210211 0.9583202  0.95843839\n",
      " 0.9467775  0.94071068 0.94575323 0.9567838  0.97659943 0.97817523\n",
      " 0.95709896 0.935156   0.93712575 0.95201702 0.95587772 0.95505043\n",
      " 0.93464387 0.89268831 0.89457926 0.88638512 0.91467066 0.89107312\n",
      " 0.91333123 0.93046801 0.93732272 0.93732272 0.93488024 0.92956193\n",
      " 0.94307438 0.96844469 0.97419634 0.98632997 0.99003309 0.98680271\n",
      " 1.         0.99369682 0.97727454 0.98334265]\n",
      "2 day output [[0.98773825]]\n",
      "3 day input [0.77076111 0.77477939 0.78915853 0.79171919 0.79959817 0.79357075\n",
      " 0.78971005 0.80357706 0.79778601 0.81039237 0.8217381  0.82081232\n",
      " 0.8263867  0.81980775 0.83438386 0.8449417  0.84297195 0.84572959\n",
      " 0.8695635  0.8696029  0.87854554 0.86865742 0.87070596 0.86826347\n",
      " 0.882682   0.88870942 0.88287898 0.88177592 0.86704223 0.87614245\n",
      " 0.88433659 0.90300977 0.91691617 0.91447368 0.90458557 0.90332493\n",
      " 0.90442799 0.8981642  0.89780964 0.90687047 0.90446738 0.91632524\n",
      " 0.91608887 0.91163725 0.90419162 0.90620076 0.9174677  0.92944374\n",
      " 0.93633785 0.93034983 0.92109203 0.94488654 0.97478727 0.97592972\n",
      " 0.96793256 0.96552947 0.95402616 0.95650804 0.97175386 0.96501733\n",
      " 0.96482036 0.96214151 0.96210211 0.9583202  0.95843839 0.9467775\n",
      " 0.94071068 0.94575323 0.9567838  0.97659943 0.97817523 0.95709896\n",
      " 0.935156   0.93712575 0.95201702 0.95587772 0.95505043 0.93464387\n",
      " 0.89268831 0.89457926 0.88638512 0.91467066 0.89107312 0.91333123\n",
      " 0.93046801 0.93732272 0.93732272 0.93488024 0.92956193 0.94307438\n",
      " 0.96844469 0.97419634 0.98632997 0.99003309 0.98680271 1.\n",
      " 0.99369682 0.97727454 0.98334265 0.98773825]\n",
      "3 day output [[0.9907942]]\n",
      "4 day input [0.77477939 0.78915853 0.79171919 0.79959817 0.79357075 0.78971005\n",
      " 0.80357706 0.79778601 0.81039237 0.8217381  0.82081232 0.8263867\n",
      " 0.81980775 0.83438386 0.8449417  0.84297195 0.84572959 0.8695635\n",
      " 0.8696029  0.87854554 0.86865742 0.87070596 0.86826347 0.882682\n",
      " 0.88870942 0.88287898 0.88177592 0.86704223 0.87614245 0.88433659\n",
      " 0.90300977 0.91691617 0.91447368 0.90458557 0.90332493 0.90442799\n",
      " 0.8981642  0.89780964 0.90687047 0.90446738 0.91632524 0.91608887\n",
      " 0.91163725 0.90419162 0.90620076 0.9174677  0.92944374 0.93633785\n",
      " 0.93034983 0.92109203 0.94488654 0.97478727 0.97592972 0.96793256\n",
      " 0.96552947 0.95402616 0.95650804 0.97175386 0.96501733 0.96482036\n",
      " 0.96214151 0.96210211 0.9583202  0.95843839 0.9467775  0.94071068\n",
      " 0.94575323 0.9567838  0.97659943 0.97817523 0.95709896 0.935156\n",
      " 0.93712575 0.95201702 0.95587772 0.95505043 0.93464387 0.89268831\n",
      " 0.89457926 0.88638512 0.91467066 0.89107312 0.91333123 0.93046801\n",
      " 0.93732272 0.93732272 0.93488024 0.92956193 0.94307438 0.96844469\n",
      " 0.97419634 0.98632997 0.99003309 0.98680271 1.         0.99369682\n",
      " 0.97727454 0.98334265 0.98773825 0.99079418]\n",
      "4 day output [[0.9928821]]\n",
      "5 day input [0.78915853 0.79171919 0.79959817 0.79357075 0.78971005 0.80357706\n",
      " 0.79778601 0.81039237 0.8217381  0.82081232 0.8263867  0.81980775\n",
      " 0.83438386 0.8449417  0.84297195 0.84572959 0.8695635  0.8696029\n",
      " 0.87854554 0.86865742 0.87070596 0.86826347 0.882682   0.88870942\n",
      " 0.88287898 0.88177592 0.86704223 0.87614245 0.88433659 0.90300977\n",
      " 0.91691617 0.91447368 0.90458557 0.90332493 0.90442799 0.8981642\n",
      " 0.89780964 0.90687047 0.90446738 0.91632524 0.91608887 0.91163725\n",
      " 0.90419162 0.90620076 0.9174677  0.92944374 0.93633785 0.93034983\n",
      " 0.92109203 0.94488654 0.97478727 0.97592972 0.96793256 0.96552947\n",
      " 0.95402616 0.95650804 0.97175386 0.96501733 0.96482036 0.96214151\n",
      " 0.96210211 0.9583202  0.95843839 0.9467775  0.94071068 0.94575323\n",
      " 0.9567838  0.97659943 0.97817523 0.95709896 0.935156   0.93712575\n",
      " 0.95201702 0.95587772 0.95505043 0.93464387 0.89268831 0.89457926\n",
      " 0.88638512 0.91467066 0.89107312 0.91333123 0.93046801 0.93732272\n",
      " 0.93732272 0.93488024 0.92956193 0.94307438 0.96844469 0.97419634\n",
      " 0.98632997 0.99003309 0.98680271 1.         0.99369682 0.97727454\n",
      " 0.98334265 0.98773825 0.99079418 0.99288207]\n",
      "5 day output [[0.99432]]\n",
      "6 day input [0.79171919 0.79959817 0.79357075 0.78971005 0.80357706 0.79778601\n",
      " 0.81039237 0.8217381  0.82081232 0.8263867  0.81980775 0.83438386\n",
      " 0.8449417  0.84297195 0.84572959 0.8695635  0.8696029  0.87854554\n",
      " 0.86865742 0.87070596 0.86826347 0.882682   0.88870942 0.88287898\n",
      " 0.88177592 0.86704223 0.87614245 0.88433659 0.90300977 0.91691617\n",
      " 0.91447368 0.90458557 0.90332493 0.90442799 0.8981642  0.89780964\n",
      " 0.90687047 0.90446738 0.91632524 0.91608887 0.91163725 0.90419162\n",
      " 0.90620076 0.9174677  0.92944374 0.93633785 0.93034983 0.92109203\n",
      " 0.94488654 0.97478727 0.97592972 0.96793256 0.96552947 0.95402616\n",
      " 0.95650804 0.97175386 0.96501733 0.96482036 0.96214151 0.96210211\n",
      " 0.9583202  0.95843839 0.9467775  0.94071068 0.94575323 0.9567838\n",
      " 0.97659943 0.97817523 0.95709896 0.935156   0.93712575 0.95201702\n",
      " 0.95587772 0.95505043 0.93464387 0.89268831 0.89457926 0.88638512\n",
      " 0.91467066 0.89107312 0.91333123 0.93046801 0.93732272 0.93732272\n",
      " 0.93488024 0.92956193 0.94307438 0.96844469 0.97419634 0.98632997\n",
      " 0.99003309 0.98680271 1.         0.99369682 0.97727454 0.98334265\n",
      " 0.98773825 0.99079418 0.99288207 0.99431998]\n",
      "6 day output [[0.99534506]]\n",
      "7 day input [0.79959817 0.79357075 0.78971005 0.80357706 0.79778601 0.81039237\n",
      " 0.8217381  0.82081232 0.8263867  0.81980775 0.83438386 0.8449417\n",
      " 0.84297195 0.84572959 0.8695635  0.8696029  0.87854554 0.86865742\n",
      " 0.87070596 0.86826347 0.882682   0.88870942 0.88287898 0.88177592\n",
      " 0.86704223 0.87614245 0.88433659 0.90300977 0.91691617 0.91447368\n",
      " 0.90458557 0.90332493 0.90442799 0.8981642  0.89780964 0.90687047\n",
      " 0.90446738 0.91632524 0.91608887 0.91163725 0.90419162 0.90620076\n",
      " 0.9174677  0.92944374 0.93633785 0.93034983 0.92109203 0.94488654\n",
      " 0.97478727 0.97592972 0.96793256 0.96552947 0.95402616 0.95650804\n",
      " 0.97175386 0.96501733 0.96482036 0.96214151 0.96210211 0.9583202\n",
      " 0.95843839 0.9467775  0.94071068 0.94575323 0.9567838  0.97659943\n",
      " 0.97817523 0.95709896 0.935156   0.93712575 0.95201702 0.95587772\n",
      " 0.95505043 0.93464387 0.89268831 0.89457926 0.88638512 0.91467066\n",
      " 0.89107312 0.91333123 0.93046801 0.93732272 0.93732272 0.93488024\n",
      " 0.92956193 0.94307438 0.96844469 0.97419634 0.98632997 0.99003309\n",
      " 0.98680271 1.         0.99369682 0.97727454 0.98334265 0.98773825\n",
      " 0.99079418 0.99288207 0.99431998 0.99534506]\n",
      "7 day output [[0.996117]]\n",
      "8 day input [0.79357075 0.78971005 0.80357706 0.79778601 0.81039237 0.8217381\n",
      " 0.82081232 0.8263867  0.81980775 0.83438386 0.8449417  0.84297195\n",
      " 0.84572959 0.8695635  0.8696029  0.87854554 0.86865742 0.87070596\n",
      " 0.86826347 0.882682   0.88870942 0.88287898 0.88177592 0.86704223\n",
      " 0.87614245 0.88433659 0.90300977 0.91691617 0.91447368 0.90458557\n",
      " 0.90332493 0.90442799 0.8981642  0.89780964 0.90687047 0.90446738\n",
      " 0.91632524 0.91608887 0.91163725 0.90419162 0.90620076 0.9174677\n",
      " 0.92944374 0.93633785 0.93034983 0.92109203 0.94488654 0.97478727\n",
      " 0.97592972 0.96793256 0.96552947 0.95402616 0.95650804 0.97175386\n",
      " 0.96501733 0.96482036 0.96214151 0.96210211 0.9583202  0.95843839\n",
      " 0.9467775  0.94071068 0.94575323 0.9567838  0.97659943 0.97817523\n",
      " 0.95709896 0.935156   0.93712575 0.95201702 0.95587772 0.95505043\n",
      " 0.93464387 0.89268831 0.89457926 0.88638512 0.91467066 0.89107312\n",
      " 0.91333123 0.93046801 0.93732272 0.93732272 0.93488024 0.92956193\n",
      " 0.94307438 0.96844469 0.97419634 0.98632997 0.99003309 0.98680271\n",
      " 1.         0.99369682 0.97727454 0.98334265 0.98773825 0.99079418\n",
      " 0.99288207 0.99431998 0.99534506 0.996117  ]\n"
     ]
    },
    {
     "name": "stdout",
     "output_type": "stream",
     "text": [
      "8 day output [[0.99673593]]\n",
      "9 day input [0.78971005 0.80357706 0.79778601 0.81039237 0.8217381  0.82081232\n",
      " 0.8263867  0.81980775 0.83438386 0.8449417  0.84297195 0.84572959\n",
      " 0.8695635  0.8696029  0.87854554 0.86865742 0.87070596 0.86826347\n",
      " 0.882682   0.88870942 0.88287898 0.88177592 0.86704223 0.87614245\n",
      " 0.88433659 0.90300977 0.91691617 0.91447368 0.90458557 0.90332493\n",
      " 0.90442799 0.8981642  0.89780964 0.90687047 0.90446738 0.91632524\n",
      " 0.91608887 0.91163725 0.90419162 0.90620076 0.9174677  0.92944374\n",
      " 0.93633785 0.93034983 0.92109203 0.94488654 0.97478727 0.97592972\n",
      " 0.96793256 0.96552947 0.95402616 0.95650804 0.97175386 0.96501733\n",
      " 0.96482036 0.96214151 0.96210211 0.9583202  0.95843839 0.9467775\n",
      " 0.94071068 0.94575323 0.9567838  0.97659943 0.97817523 0.95709896\n",
      " 0.935156   0.93712575 0.95201702 0.95587772 0.95505043 0.93464387\n",
      " 0.89268831 0.89457926 0.88638512 0.91467066 0.89107312 0.91333123\n",
      " 0.93046801 0.93732272 0.93732272 0.93488024 0.92956193 0.94307438\n",
      " 0.96844469 0.97419634 0.98632997 0.99003309 0.98680271 1.\n",
      " 0.99369682 0.97727454 0.98334265 0.98773825 0.99079418 0.99288207\n",
      " 0.99431998 0.99534506 0.996117   0.99673593]\n",
      "9 day output [[0.9972599]]\n",
      "10 day input [0.80357706 0.79778601 0.81039237 0.8217381  0.82081232 0.8263867\n",
      " 0.81980775 0.83438386 0.8449417  0.84297195 0.84572959 0.8695635\n",
      " 0.8696029  0.87854554 0.86865742 0.87070596 0.86826347 0.882682\n",
      " 0.88870942 0.88287898 0.88177592 0.86704223 0.87614245 0.88433659\n",
      " 0.90300977 0.91691617 0.91447368 0.90458557 0.90332493 0.90442799\n",
      " 0.8981642  0.89780964 0.90687047 0.90446738 0.91632524 0.91608887\n",
      " 0.91163725 0.90419162 0.90620076 0.9174677  0.92944374 0.93633785\n",
      " 0.93034983 0.92109203 0.94488654 0.97478727 0.97592972 0.96793256\n",
      " 0.96552947 0.95402616 0.95650804 0.97175386 0.96501733 0.96482036\n",
      " 0.96214151 0.96210211 0.9583202  0.95843839 0.9467775  0.94071068\n",
      " 0.94575323 0.9567838  0.97659943 0.97817523 0.95709896 0.935156\n",
      " 0.93712575 0.95201702 0.95587772 0.95505043 0.93464387 0.89268831\n",
      " 0.89457926 0.88638512 0.91467066 0.89107312 0.91333123 0.93046801\n",
      " 0.93732272 0.93732272 0.93488024 0.92956193 0.94307438 0.96844469\n",
      " 0.97419634 0.98632997 0.99003309 0.98680271 1.         0.99369682\n",
      " 0.97727454 0.98334265 0.98773825 0.99079418 0.99288207 0.99431998\n",
      " 0.99534506 0.996117   0.99673593 0.99725991]\n",
      "10 day output [[0.9977213]]\n",
      "11 day input [0.79778601 0.81039237 0.8217381  0.82081232 0.8263867  0.81980775\n",
      " 0.83438386 0.8449417  0.84297195 0.84572959 0.8695635  0.8696029\n",
      " 0.87854554 0.86865742 0.87070596 0.86826347 0.882682   0.88870942\n",
      " 0.88287898 0.88177592 0.86704223 0.87614245 0.88433659 0.90300977\n",
      " 0.91691617 0.91447368 0.90458557 0.90332493 0.90442799 0.8981642\n",
      " 0.89780964 0.90687047 0.90446738 0.91632524 0.91608887 0.91163725\n",
      " 0.90419162 0.90620076 0.9174677  0.92944374 0.93633785 0.93034983\n",
      " 0.92109203 0.94488654 0.97478727 0.97592972 0.96793256 0.96552947\n",
      " 0.95402616 0.95650804 0.97175386 0.96501733 0.96482036 0.96214151\n",
      " 0.96210211 0.9583202  0.95843839 0.9467775  0.94071068 0.94575323\n",
      " 0.9567838  0.97659943 0.97817523 0.95709896 0.935156   0.93712575\n",
      " 0.95201702 0.95587772 0.95505043 0.93464387 0.89268831 0.89457926\n",
      " 0.88638512 0.91467066 0.89107312 0.91333123 0.93046801 0.93732272\n",
      " 0.93732272 0.93488024 0.92956193 0.94307438 0.96844469 0.97419634\n",
      " 0.98632997 0.99003309 0.98680271 1.         0.99369682 0.97727454\n",
      " 0.98334265 0.98773825 0.99079418 0.99288207 0.99431998 0.99534506\n",
      " 0.996117   0.99673593 0.99725991 0.99772131]\n",
      "11 day output [[0.99813694]]\n",
      "12 day input [0.81039237 0.8217381  0.82081232 0.8263867  0.81980775 0.83438386\n",
      " 0.8449417  0.84297195 0.84572959 0.8695635  0.8696029  0.87854554\n",
      " 0.86865742 0.87070596 0.86826347 0.882682   0.88870942 0.88287898\n",
      " 0.88177592 0.86704223 0.87614245 0.88433659 0.90300977 0.91691617\n",
      " 0.91447368 0.90458557 0.90332493 0.90442799 0.8981642  0.89780964\n",
      " 0.90687047 0.90446738 0.91632524 0.91608887 0.91163725 0.90419162\n",
      " 0.90620076 0.9174677  0.92944374 0.93633785 0.93034983 0.92109203\n",
      " 0.94488654 0.97478727 0.97592972 0.96793256 0.96552947 0.95402616\n",
      " 0.95650804 0.97175386 0.96501733 0.96482036 0.96214151 0.96210211\n",
      " 0.9583202  0.95843839 0.9467775  0.94071068 0.94575323 0.9567838\n",
      " 0.97659943 0.97817523 0.95709896 0.935156   0.93712575 0.95201702\n",
      " 0.95587772 0.95505043 0.93464387 0.89268831 0.89457926 0.88638512\n",
      " 0.91467066 0.89107312 0.91333123 0.93046801 0.93732272 0.93732272\n",
      " 0.93488024 0.92956193 0.94307438 0.96844469 0.97419634 0.98632997\n",
      " 0.99003309 0.98680271 1.         0.99369682 0.97727454 0.98334265\n",
      " 0.98773825 0.99079418 0.99288207 0.99431998 0.99534506 0.996117\n",
      " 0.99673593 0.99725991 0.99772131 0.99813694]\n",
      "12 day output [[0.99851537]]\n",
      "13 day input [0.8217381  0.82081232 0.8263867  0.81980775 0.83438386 0.8449417\n",
      " 0.84297195 0.84572959 0.8695635  0.8696029  0.87854554 0.86865742\n",
      " 0.87070596 0.86826347 0.882682   0.88870942 0.88287898 0.88177592\n",
      " 0.86704223 0.87614245 0.88433659 0.90300977 0.91691617 0.91447368\n",
      " 0.90458557 0.90332493 0.90442799 0.8981642  0.89780964 0.90687047\n",
      " 0.90446738 0.91632524 0.91608887 0.91163725 0.90419162 0.90620076\n",
      " 0.9174677  0.92944374 0.93633785 0.93034983 0.92109203 0.94488654\n",
      " 0.97478727 0.97592972 0.96793256 0.96552947 0.95402616 0.95650804\n",
      " 0.97175386 0.96501733 0.96482036 0.96214151 0.96210211 0.9583202\n",
      " 0.95843839 0.9467775  0.94071068 0.94575323 0.9567838  0.97659943\n",
      " 0.97817523 0.95709896 0.935156   0.93712575 0.95201702 0.95587772\n",
      " 0.95505043 0.93464387 0.89268831 0.89457926 0.88638512 0.91467066\n",
      " 0.89107312 0.91333123 0.93046801 0.93732272 0.93732272 0.93488024\n",
      " 0.92956193 0.94307438 0.96844469 0.97419634 0.98632997 0.99003309\n",
      " 0.98680271 1.         0.99369682 0.97727454 0.98334265 0.98773825\n",
      " 0.99079418 0.99288207 0.99431998 0.99534506 0.996117   0.99673593\n",
      " 0.99725991 0.99772131 0.99813694 0.99851537]\n",
      "13 day output [[0.998862]]\n",
      "14 day input [0.82081232 0.8263867  0.81980775 0.83438386 0.8449417  0.84297195\n",
      " 0.84572959 0.8695635  0.8696029  0.87854554 0.86865742 0.87070596\n",
      " 0.86826347 0.882682   0.88870942 0.88287898 0.88177592 0.86704223\n",
      " 0.87614245 0.88433659 0.90300977 0.91691617 0.91447368 0.90458557\n",
      " 0.90332493 0.90442799 0.8981642  0.89780964 0.90687047 0.90446738\n",
      " 0.91632524 0.91608887 0.91163725 0.90419162 0.90620076 0.9174677\n",
      " 0.92944374 0.93633785 0.93034983 0.92109203 0.94488654 0.97478727\n",
      " 0.97592972 0.96793256 0.96552947 0.95402616 0.95650804 0.97175386\n",
      " 0.96501733 0.96482036 0.96214151 0.96210211 0.9583202  0.95843839\n",
      " 0.9467775  0.94071068 0.94575323 0.9567838  0.97659943 0.97817523\n",
      " 0.95709896 0.935156   0.93712575 0.95201702 0.95587772 0.95505043\n",
      " 0.93464387 0.89268831 0.89457926 0.88638512 0.91467066 0.89107312\n",
      " 0.91333123 0.93046801 0.93732272 0.93732272 0.93488024 0.92956193\n",
      " 0.94307438 0.96844469 0.97419634 0.98632997 0.99003309 0.98680271\n",
      " 1.         0.99369682 0.97727454 0.98334265 0.98773825 0.99079418\n",
      " 0.99288207 0.99431998 0.99534506 0.996117   0.99673593 0.99725991\n",
      " 0.99772131 0.99813694 0.99851537 0.99886203]\n",
      "14 day output [[0.9991801]]\n",
      "15 day input [0.8263867  0.81980775 0.83438386 0.8449417  0.84297195 0.84572959\n",
      " 0.8695635  0.8696029  0.87854554 0.86865742 0.87070596 0.86826347\n",
      " 0.882682   0.88870942 0.88287898 0.88177592 0.86704223 0.87614245\n",
      " 0.88433659 0.90300977 0.91691617 0.91447368 0.90458557 0.90332493\n",
      " 0.90442799 0.8981642  0.89780964 0.90687047 0.90446738 0.91632524\n",
      " 0.91608887 0.91163725 0.90419162 0.90620076 0.9174677  0.92944374\n",
      " 0.93633785 0.93034983 0.92109203 0.94488654 0.97478727 0.97592972\n",
      " 0.96793256 0.96552947 0.95402616 0.95650804 0.97175386 0.96501733\n",
      " 0.96482036 0.96214151 0.96210211 0.9583202  0.95843839 0.9467775\n",
      " 0.94071068 0.94575323 0.9567838  0.97659943 0.97817523 0.95709896\n",
      " 0.935156   0.93712575 0.95201702 0.95587772 0.95505043 0.93464387\n",
      " 0.89268831 0.89457926 0.88638512 0.91467066 0.89107312 0.91333123\n",
      " 0.93046801 0.93732272 0.93732272 0.93488024 0.92956193 0.94307438\n",
      " 0.96844469 0.97419634 0.98632997 0.99003309 0.98680271 1.\n",
      " 0.99369682 0.97727454 0.98334265 0.98773825 0.99079418 0.99288207\n",
      " 0.99431998 0.99534506 0.996117   0.99673593 0.99725991 0.99772131\n",
      " 0.99813694 0.99851537 0.99886203 0.99918008]\n",
      "15 day output [[0.99947333]]\n",
      "16 day input [0.81980775 0.83438386 0.8449417  0.84297195 0.84572959 0.8695635\n",
      " 0.8696029  0.87854554 0.86865742 0.87070596 0.86826347 0.882682\n",
      " 0.88870942 0.88287898 0.88177592 0.86704223 0.87614245 0.88433659\n",
      " 0.90300977 0.91691617 0.91447368 0.90458557 0.90332493 0.90442799\n",
      " 0.8981642  0.89780964 0.90687047 0.90446738 0.91632524 0.91608887\n",
      " 0.91163725 0.90419162 0.90620076 0.9174677  0.92944374 0.93633785\n",
      " 0.93034983 0.92109203 0.94488654 0.97478727 0.97592972 0.96793256\n",
      " 0.96552947 0.95402616 0.95650804 0.97175386 0.96501733 0.96482036\n",
      " 0.96214151 0.96210211 0.9583202  0.95843839 0.9467775  0.94071068\n",
      " 0.94575323 0.9567838  0.97659943 0.97817523 0.95709896 0.935156\n",
      " 0.93712575 0.95201702 0.95587772 0.95505043 0.93464387 0.89268831\n",
      " 0.89457926 0.88638512 0.91467066 0.89107312 0.91333123 0.93046801\n",
      " 0.93732272 0.93732272 0.93488024 0.92956193 0.94307438 0.96844469\n",
      " 0.97419634 0.98632997 0.99003309 0.98680271 1.         0.99369682\n",
      " 0.97727454 0.98334265 0.98773825 0.99079418 0.99288207 0.99431998\n",
      " 0.99534506 0.996117   0.99673593 0.99725991 0.99772131 0.99813694\n",
      " 0.99851537 0.99886203 0.99918008 0.99947333]\n",
      "16 day output [[0.99974453]]\n",
      "17 day input [0.83438386 0.8449417  0.84297195 0.84572959 0.8695635  0.8696029\n",
      " 0.87854554 0.86865742 0.87070596 0.86826347 0.882682   0.88870942\n",
      " 0.88287898 0.88177592 0.86704223 0.87614245 0.88433659 0.90300977\n",
      " 0.91691617 0.91447368 0.90458557 0.90332493 0.90442799 0.8981642\n",
      " 0.89780964 0.90687047 0.90446738 0.91632524 0.91608887 0.91163725\n",
      " 0.90419162 0.90620076 0.9174677  0.92944374 0.93633785 0.93034983\n",
      " 0.92109203 0.94488654 0.97478727 0.97592972 0.96793256 0.96552947\n",
      " 0.95402616 0.95650804 0.97175386 0.96501733 0.96482036 0.96214151\n",
      " 0.96210211 0.9583202  0.95843839 0.9467775  0.94071068 0.94575323\n",
      " 0.9567838  0.97659943 0.97817523 0.95709896 0.935156   0.93712575\n",
      " 0.95201702 0.95587772 0.95505043 0.93464387 0.89268831 0.89457926\n",
      " 0.88638512 0.91467066 0.89107312 0.91333123 0.93046801 0.93732272\n",
      " 0.93732272 0.93488024 0.92956193 0.94307438 0.96844469 0.97419634\n",
      " 0.98632997 0.99003309 0.98680271 1.         0.99369682 0.97727454\n",
      " 0.98334265 0.98773825 0.99079418 0.99288207 0.99431998 0.99534506\n",
      " 0.996117   0.99673593 0.99725991 0.99772131 0.99813694 0.99851537\n",
      " 0.99886203 0.99918008 0.99947333 0.99974453]\n",
      "17 day output [[0.9999972]]\n",
      "18 day input [0.8449417  0.84297195 0.84572959 0.8695635  0.8696029  0.87854554\n",
      " 0.86865742 0.87070596 0.86826347 0.882682   0.88870942 0.88287898\n",
      " 0.88177592 0.86704223 0.87614245 0.88433659 0.90300977 0.91691617\n",
      " 0.91447368 0.90458557 0.90332493 0.90442799 0.8981642  0.89780964\n",
      " 0.90687047 0.90446738 0.91632524 0.91608887 0.91163725 0.90419162\n",
      " 0.90620076 0.9174677  0.92944374 0.93633785 0.93034983 0.92109203\n",
      " 0.94488654 0.97478727 0.97592972 0.96793256 0.96552947 0.95402616\n",
      " 0.95650804 0.97175386 0.96501733 0.96482036 0.96214151 0.96210211\n",
      " 0.9583202  0.95843839 0.9467775  0.94071068 0.94575323 0.9567838\n",
      " 0.97659943 0.97817523 0.95709896 0.935156   0.93712575 0.95201702\n",
      " 0.95587772 0.95505043 0.93464387 0.89268831 0.89457926 0.88638512\n",
      " 0.91467066 0.89107312 0.91333123 0.93046801 0.93732272 0.93732272\n",
      " 0.93488024 0.92956193 0.94307438 0.96844469 0.97419634 0.98632997\n",
      " 0.99003309 0.98680271 1.         0.99369682 0.97727454 0.98334265\n",
      " 0.98773825 0.99079418 0.99288207 0.99431998 0.99534506 0.996117\n",
      " 0.99673593 0.99725991 0.99772131 0.99813694 0.99851537 0.99886203\n",
      " 0.99918008 0.99947333 0.99974453 0.9999972 ]\n"
     ]
    },
    {
     "name": "stdout",
     "output_type": "stream",
     "text": [
      "18 day output [[1.0002337]]\n",
      "19 day input [0.84297195 0.84572959 0.8695635  0.8696029  0.87854554 0.86865742\n",
      " 0.87070596 0.86826347 0.882682   0.88870942 0.88287898 0.88177592\n",
      " 0.86704223 0.87614245 0.88433659 0.90300977 0.91691617 0.91447368\n",
      " 0.90458557 0.90332493 0.90442799 0.8981642  0.89780964 0.90687047\n",
      " 0.90446738 0.91632524 0.91608887 0.91163725 0.90419162 0.90620076\n",
      " 0.9174677  0.92944374 0.93633785 0.93034983 0.92109203 0.94488654\n",
      " 0.97478727 0.97592972 0.96793256 0.96552947 0.95402616 0.95650804\n",
      " 0.97175386 0.96501733 0.96482036 0.96214151 0.96210211 0.9583202\n",
      " 0.95843839 0.9467775  0.94071068 0.94575323 0.9567838  0.97659943\n",
      " 0.97817523 0.95709896 0.935156   0.93712575 0.95201702 0.95587772\n",
      " 0.95505043 0.93464387 0.89268831 0.89457926 0.88638512 0.91467066\n",
      " 0.89107312 0.91333123 0.93046801 0.93732272 0.93732272 0.93488024\n",
      " 0.92956193 0.94307438 0.96844469 0.97419634 0.98632997 0.99003309\n",
      " 0.98680271 1.         0.99369682 0.97727454 0.98334265 0.98773825\n",
      " 0.99079418 0.99288207 0.99431998 0.99534506 0.996117   0.99673593\n",
      " 0.99725991 0.99772131 0.99813694 0.99851537 0.99886203 0.99918008\n",
      " 0.99947333 0.99974453 0.9999972  1.00023365]\n",
      "19 day output [[1.0004574]]\n",
      "20 day input [0.84572959 0.8695635  0.8696029  0.87854554 0.86865742 0.87070596\n",
      " 0.86826347 0.882682   0.88870942 0.88287898 0.88177592 0.86704223\n",
      " 0.87614245 0.88433659 0.90300977 0.91691617 0.91447368 0.90458557\n",
      " 0.90332493 0.90442799 0.8981642  0.89780964 0.90687047 0.90446738\n",
      " 0.91632524 0.91608887 0.91163725 0.90419162 0.90620076 0.9174677\n",
      " 0.92944374 0.93633785 0.93034983 0.92109203 0.94488654 0.97478727\n",
      " 0.97592972 0.96793256 0.96552947 0.95402616 0.95650804 0.97175386\n",
      " 0.96501733 0.96482036 0.96214151 0.96210211 0.9583202  0.95843839\n",
      " 0.9467775  0.94071068 0.94575323 0.9567838  0.97659943 0.97817523\n",
      " 0.95709896 0.935156   0.93712575 0.95201702 0.95587772 0.95505043\n",
      " 0.93464387 0.89268831 0.89457926 0.88638512 0.91467066 0.89107312\n",
      " 0.91333123 0.93046801 0.93732272 0.93732272 0.93488024 0.92956193\n",
      " 0.94307438 0.96844469 0.97419634 0.98632997 0.99003309 0.98680271\n",
      " 1.         0.99369682 0.97727454 0.98334265 0.98773825 0.99079418\n",
      " 0.99288207 0.99431998 0.99534506 0.996117   0.99673593 0.99725991\n",
      " 0.99772131 0.99813694 0.99851537 0.99886203 0.99918008 0.99947333\n",
      " 0.99974453 0.9999972  1.00023365 1.00045741]\n",
      "20 day output [[1.0006702]]\n",
      "21 day input [0.8695635  0.8696029  0.87854554 0.86865742 0.87070596 0.86826347\n",
      " 0.882682   0.88870942 0.88287898 0.88177592 0.86704223 0.87614245\n",
      " 0.88433659 0.90300977 0.91691617 0.91447368 0.90458557 0.90332493\n",
      " 0.90442799 0.8981642  0.89780964 0.90687047 0.90446738 0.91632524\n",
      " 0.91608887 0.91163725 0.90419162 0.90620076 0.9174677  0.92944374\n",
      " 0.93633785 0.93034983 0.92109203 0.94488654 0.97478727 0.97592972\n",
      " 0.96793256 0.96552947 0.95402616 0.95650804 0.97175386 0.96501733\n",
      " 0.96482036 0.96214151 0.96210211 0.9583202  0.95843839 0.9467775\n",
      " 0.94071068 0.94575323 0.9567838  0.97659943 0.97817523 0.95709896\n",
      " 0.935156   0.93712575 0.95201702 0.95587772 0.95505043 0.93464387\n",
      " 0.89268831 0.89457926 0.88638512 0.91467066 0.89107312 0.91333123\n",
      " 0.93046801 0.93732272 0.93732272 0.93488024 0.92956193 0.94307438\n",
      " 0.96844469 0.97419634 0.98632997 0.99003309 0.98680271 1.\n",
      " 0.99369682 0.97727454 0.98334265 0.98773825 0.99079418 0.99288207\n",
      " 0.99431998 0.99534506 0.996117   0.99673593 0.99725991 0.99772131\n",
      " 0.99813694 0.99851537 0.99886203 0.99918008 0.99947333 0.99974453\n",
      " 0.9999972  1.00023365 1.00045741 1.00067019]\n",
      "21 day output [[1.0008748]]\n",
      "22 day input [0.8696029  0.87854554 0.86865742 0.87070596 0.86826347 0.882682\n",
      " 0.88870942 0.88287898 0.88177592 0.86704223 0.87614245 0.88433659\n",
      " 0.90300977 0.91691617 0.91447368 0.90458557 0.90332493 0.90442799\n",
      " 0.8981642  0.89780964 0.90687047 0.90446738 0.91632524 0.91608887\n",
      " 0.91163725 0.90419162 0.90620076 0.9174677  0.92944374 0.93633785\n",
      " 0.93034983 0.92109203 0.94488654 0.97478727 0.97592972 0.96793256\n",
      " 0.96552947 0.95402616 0.95650804 0.97175386 0.96501733 0.96482036\n",
      " 0.96214151 0.96210211 0.9583202  0.95843839 0.9467775  0.94071068\n",
      " 0.94575323 0.9567838  0.97659943 0.97817523 0.95709896 0.935156\n",
      " 0.93712575 0.95201702 0.95587772 0.95505043 0.93464387 0.89268831\n",
      " 0.89457926 0.88638512 0.91467066 0.89107312 0.91333123 0.93046801\n",
      " 0.93732272 0.93732272 0.93488024 0.92956193 0.94307438 0.96844469\n",
      " 0.97419634 0.98632997 0.99003309 0.98680271 1.         0.99369682\n",
      " 0.97727454 0.98334265 0.98773825 0.99079418 0.99288207 0.99431998\n",
      " 0.99534506 0.996117   0.99673593 0.99725991 0.99772131 0.99813694\n",
      " 0.99851537 0.99886203 0.99918008 0.99947333 0.99974453 0.9999972\n",
      " 1.00023365 1.00045741 1.00067019 1.00087476]\n",
      "22 day output [[1.0010726]]\n",
      "23 day input [0.87854554 0.86865742 0.87070596 0.86826347 0.882682   0.88870942\n",
      " 0.88287898 0.88177592 0.86704223 0.87614245 0.88433659 0.90300977\n",
      " 0.91691617 0.91447368 0.90458557 0.90332493 0.90442799 0.8981642\n",
      " 0.89780964 0.90687047 0.90446738 0.91632524 0.91608887 0.91163725\n",
      " 0.90419162 0.90620076 0.9174677  0.92944374 0.93633785 0.93034983\n",
      " 0.92109203 0.94488654 0.97478727 0.97592972 0.96793256 0.96552947\n",
      " 0.95402616 0.95650804 0.97175386 0.96501733 0.96482036 0.96214151\n",
      " 0.96210211 0.9583202  0.95843839 0.9467775  0.94071068 0.94575323\n",
      " 0.9567838  0.97659943 0.97817523 0.95709896 0.935156   0.93712575\n",
      " 0.95201702 0.95587772 0.95505043 0.93464387 0.89268831 0.89457926\n",
      " 0.88638512 0.91467066 0.89107312 0.91333123 0.93046801 0.93732272\n",
      " 0.93732272 0.93488024 0.92956193 0.94307438 0.96844469 0.97419634\n",
      " 0.98632997 0.99003309 0.98680271 1.         0.99369682 0.97727454\n",
      " 0.98334265 0.98773825 0.99079418 0.99288207 0.99431998 0.99534506\n",
      " 0.996117   0.99673593 0.99725991 0.99772131 0.99813694 0.99851537\n",
      " 0.99886203 0.99918008 0.99947333 0.99974453 0.9999972  1.00023365\n",
      " 1.00045741 1.00067019 1.00087476 1.00107265]\n",
      "23 day output [[1.0012652]]\n",
      "24 day input [0.86865742 0.87070596 0.86826347 0.882682   0.88870942 0.88287898\n",
      " 0.88177592 0.86704223 0.87614245 0.88433659 0.90300977 0.91691617\n",
      " 0.91447368 0.90458557 0.90332493 0.90442799 0.8981642  0.89780964\n",
      " 0.90687047 0.90446738 0.91632524 0.91608887 0.91163725 0.90419162\n",
      " 0.90620076 0.9174677  0.92944374 0.93633785 0.93034983 0.92109203\n",
      " 0.94488654 0.97478727 0.97592972 0.96793256 0.96552947 0.95402616\n",
      " 0.95650804 0.97175386 0.96501733 0.96482036 0.96214151 0.96210211\n",
      " 0.9583202  0.95843839 0.9467775  0.94071068 0.94575323 0.9567838\n",
      " 0.97659943 0.97817523 0.95709896 0.935156   0.93712575 0.95201702\n",
      " 0.95587772 0.95505043 0.93464387 0.89268831 0.89457926 0.88638512\n",
      " 0.91467066 0.89107312 0.91333123 0.93046801 0.93732272 0.93732272\n",
      " 0.93488024 0.92956193 0.94307438 0.96844469 0.97419634 0.98632997\n",
      " 0.99003309 0.98680271 1.         0.99369682 0.97727454 0.98334265\n",
      " 0.98773825 0.99079418 0.99288207 0.99431998 0.99534506 0.996117\n",
      " 0.99673593 0.99725991 0.99772131 0.99813694 0.99851537 0.99886203\n",
      " 0.99918008 0.99947333 0.99974453 0.9999972  1.00023365 1.00045741\n",
      " 1.00067019 1.00087476 1.00107265 1.00126517]\n",
      "24 day output [[1.0014533]]\n",
      "25 day input [0.87070596 0.86826347 0.882682   0.88870942 0.88287898 0.88177592\n",
      " 0.86704223 0.87614245 0.88433659 0.90300977 0.91691617 0.91447368\n",
      " 0.90458557 0.90332493 0.90442799 0.8981642  0.89780964 0.90687047\n",
      " 0.90446738 0.91632524 0.91608887 0.91163725 0.90419162 0.90620076\n",
      " 0.9174677  0.92944374 0.93633785 0.93034983 0.92109203 0.94488654\n",
      " 0.97478727 0.97592972 0.96793256 0.96552947 0.95402616 0.95650804\n",
      " 0.97175386 0.96501733 0.96482036 0.96214151 0.96210211 0.9583202\n",
      " 0.95843839 0.9467775  0.94071068 0.94575323 0.9567838  0.97659943\n",
      " 0.97817523 0.95709896 0.935156   0.93712575 0.95201702 0.95587772\n",
      " 0.95505043 0.93464387 0.89268831 0.89457926 0.88638512 0.91467066\n",
      " 0.89107312 0.91333123 0.93046801 0.93732272 0.93732272 0.93488024\n",
      " 0.92956193 0.94307438 0.96844469 0.97419634 0.98632997 0.99003309\n",
      " 0.98680271 1.         0.99369682 0.97727454 0.98334265 0.98773825\n",
      " 0.99079418 0.99288207 0.99431998 0.99534506 0.996117   0.99673593\n",
      " 0.99725991 0.99772131 0.99813694 0.99851537 0.99886203 0.99918008\n",
      " 0.99947333 0.99974453 0.9999972  1.00023365 1.00045741 1.00067019\n",
      " 1.00087476 1.00107265 1.00126517 1.00145328]\n",
      "25 day output [[1.001638]]\n",
      "26 day input [0.86826347 0.882682   0.88870942 0.88287898 0.88177592 0.86704223\n",
      " 0.87614245 0.88433659 0.90300977 0.91691617 0.91447368 0.90458557\n",
      " 0.90332493 0.90442799 0.8981642  0.89780964 0.90687047 0.90446738\n",
      " 0.91632524 0.91608887 0.91163725 0.90419162 0.90620076 0.9174677\n",
      " 0.92944374 0.93633785 0.93034983 0.92109203 0.94488654 0.97478727\n",
      " 0.97592972 0.96793256 0.96552947 0.95402616 0.95650804 0.97175386\n",
      " 0.96501733 0.96482036 0.96214151 0.96210211 0.9583202  0.95843839\n",
      " 0.9467775  0.94071068 0.94575323 0.9567838  0.97659943 0.97817523\n",
      " 0.95709896 0.935156   0.93712575 0.95201702 0.95587772 0.95505043\n",
      " 0.93464387 0.89268831 0.89457926 0.88638512 0.91467066 0.89107312\n",
      " 0.91333123 0.93046801 0.93732272 0.93732272 0.93488024 0.92956193\n",
      " 0.94307438 0.96844469 0.97419634 0.98632997 0.99003309 0.98680271\n",
      " 1.         0.99369682 0.97727454 0.98334265 0.98773825 0.99079418\n",
      " 0.99288207 0.99431998 0.99534506 0.996117   0.99673593 0.99725991\n",
      " 0.99772131 0.99813694 0.99851537 0.99886203 0.99918008 0.99947333\n",
      " 0.99974453 0.9999972  1.00023365 1.00045741 1.00067019 1.00087476\n",
      " 1.00107265 1.00126517 1.00145328 1.00163805]\n"
     ]
    },
    {
     "name": "stdout",
     "output_type": "stream",
     "text": [
      "26 day output [[1.0018207]]\n",
      "27 day input [0.882682   0.88870942 0.88287898 0.88177592 0.86704223 0.87614245\n",
      " 0.88433659 0.90300977 0.91691617 0.91447368 0.90458557 0.90332493\n",
      " 0.90442799 0.8981642  0.89780964 0.90687047 0.90446738 0.91632524\n",
      " 0.91608887 0.91163725 0.90419162 0.90620076 0.9174677  0.92944374\n",
      " 0.93633785 0.93034983 0.92109203 0.94488654 0.97478727 0.97592972\n",
      " 0.96793256 0.96552947 0.95402616 0.95650804 0.97175386 0.96501733\n",
      " 0.96482036 0.96214151 0.96210211 0.9583202  0.95843839 0.9467775\n",
      " 0.94071068 0.94575323 0.9567838  0.97659943 0.97817523 0.95709896\n",
      " 0.935156   0.93712575 0.95201702 0.95587772 0.95505043 0.93464387\n",
      " 0.89268831 0.89457926 0.88638512 0.91467066 0.89107312 0.91333123\n",
      " 0.93046801 0.93732272 0.93732272 0.93488024 0.92956193 0.94307438\n",
      " 0.96844469 0.97419634 0.98632997 0.99003309 0.98680271 1.\n",
      " 0.99369682 0.97727454 0.98334265 0.98773825 0.99079418 0.99288207\n",
      " 0.99431998 0.99534506 0.996117   0.99673593 0.99725991 0.99772131\n",
      " 0.99813694 0.99851537 0.99886203 0.99918008 0.99947333 0.99974453\n",
      " 0.9999972  1.00023365 1.00045741 1.00067019 1.00087476 1.00107265\n",
      " 1.00126517 1.00145328 1.00163805 1.00182068]\n",
      "27 day output [[1.002001]]\n",
      "28 day input [0.88870942 0.88287898 0.88177592 0.86704223 0.87614245 0.88433659\n",
      " 0.90300977 0.91691617 0.91447368 0.90458557 0.90332493 0.90442799\n",
      " 0.8981642  0.89780964 0.90687047 0.90446738 0.91632524 0.91608887\n",
      " 0.91163725 0.90419162 0.90620076 0.9174677  0.92944374 0.93633785\n",
      " 0.93034983 0.92109203 0.94488654 0.97478727 0.97592972 0.96793256\n",
      " 0.96552947 0.95402616 0.95650804 0.97175386 0.96501733 0.96482036\n",
      " 0.96214151 0.96210211 0.9583202  0.95843839 0.9467775  0.94071068\n",
      " 0.94575323 0.9567838  0.97659943 0.97817523 0.95709896 0.935156\n",
      " 0.93712575 0.95201702 0.95587772 0.95505043 0.93464387 0.89268831\n",
      " 0.89457926 0.88638512 0.91467066 0.89107312 0.91333123 0.93046801\n",
      " 0.93732272 0.93732272 0.93488024 0.92956193 0.94307438 0.96844469\n",
      " 0.97419634 0.98632997 0.99003309 0.98680271 1.         0.99369682\n",
      " 0.97727454 0.98334265 0.98773825 0.99079418 0.99288207 0.99431998\n",
      " 0.99534506 0.996117   0.99673593 0.99725991 0.99772131 0.99813694\n",
      " 0.99851537 0.99886203 0.99918008 0.99947333 0.99974453 0.9999972\n",
      " 1.00023365 1.00045741 1.00067019 1.00087476 1.00107265 1.00126517\n",
      " 1.00145328 1.00163805 1.00182068 1.00200105]\n",
      "28 day output [[1.0021795]]\n",
      "29 day input [0.88287898 0.88177592 0.86704223 0.87614245 0.88433659 0.90300977\n",
      " 0.91691617 0.91447368 0.90458557 0.90332493 0.90442799 0.8981642\n",
      " 0.89780964 0.90687047 0.90446738 0.91632524 0.91608887 0.91163725\n",
      " 0.90419162 0.90620076 0.9174677  0.92944374 0.93633785 0.93034983\n",
      " 0.92109203 0.94488654 0.97478727 0.97592972 0.96793256 0.96552947\n",
      " 0.95402616 0.95650804 0.97175386 0.96501733 0.96482036 0.96214151\n",
      " 0.96210211 0.9583202  0.95843839 0.9467775  0.94071068 0.94575323\n",
      " 0.9567838  0.97659943 0.97817523 0.95709896 0.935156   0.93712575\n",
      " 0.95201702 0.95587772 0.95505043 0.93464387 0.89268831 0.89457926\n",
      " 0.88638512 0.91467066 0.89107312 0.91333123 0.93046801 0.93732272\n",
      " 0.93732272 0.93488024 0.92956193 0.94307438 0.96844469 0.97419634\n",
      " 0.98632997 0.99003309 0.98680271 1.         0.99369682 0.97727454\n",
      " 0.98334265 0.98773825 0.99079418 0.99288207 0.99431998 0.99534506\n",
      " 0.996117   0.99673593 0.99725991 0.99772131 0.99813694 0.99851537\n",
      " 0.99886203 0.99918008 0.99947333 0.99974453 0.9999972  1.00023365\n",
      " 1.00045741 1.00067019 1.00087476 1.00107265 1.00126517 1.00145328\n",
      " 1.00163805 1.00182068 1.00200105 1.0021795 ]\n",
      "29 day output [[1.0023568]]\n",
      "[[0.9772745370864868], [0.9833426475524902], [0.9877382516860962], [0.9907941818237305], [0.9928820729255676], [0.9943199753761292], [0.9953450560569763], [0.9961169958114624], [0.9967359304428101], [0.9972599148750305], [0.9977213144302368], [0.9981369376182556], [0.9985153675079346], [0.9988620281219482], [0.9991800785064697], [0.9994733333587646], [0.9997445344924927], [0.9999971985816956], [1.0002336502075195], [1.0004574060440063], [1.0006701946258545], [1.0008747577667236], [1.001072645187378], [1.0012651681900024], [1.0014532804489136], [1.0016380548477173], [1.001820683479309], [1.0020010471343994], [1.002179503440857], [1.002356767654419]]\n"
     ]
    }
   ],
   "source": [
    "# Perform prediction for next 30 days\n",
    "from numpy import array\n",
    "\n",
    "lst_output=[]\n",
    "n_steps=100\n",
    "i=0\n",
    "while(i<30):\n",
    "    \n",
    "    if(len(temp_input)>100):\n",
    "        #print(temp_input)\n",
    "        x_input=np.array(temp_input[1:])\n",
    "        print(\"{} day input {}\".format(i,x_input))\n",
    "        x_input=x_input.reshape(1,-1)\n",
    "        x_input = x_input.reshape((1, n_steps, 1))\n",
    "        #print(x_input)\n",
    "        yhat = model.predict(x_input, verbose=0)\n",
    "        print(\"{} day output {}\".format(i,yhat))\n",
    "        temp_input.extend(yhat[0].tolist())\n",
    "        temp_input=temp_input[1:]\n",
    "        #print(temp_input)\n",
    "        lst_output.extend(yhat.tolist())\n",
    "        i=i+1\n",
    "    else:\n",
    "        x_input = x_input.reshape((1, n_steps,1))\n",
    "        yhat = model.predict(x_input, verbose=0)\n",
    "        print(yhat[0])\n",
    "        temp_input.extend(yhat[0].tolist())\n",
    "        print(len(temp_input))\n",
    "        lst_output.extend(yhat.tolist())\n",
    "        i=i+1\n",
    "\n",
    "print(lst_output)"
   ]
  },
  {
   "cell_type": "code",
   "execution_count": 44,
   "metadata": {},
   "outputs": [],
   "source": [
    "# Generate numberic values for historical and prediction as x axis for plot\n",
    "day_new=np.arange(1,101)\n",
    "day_pred=np.arange(101,131)"
   ]
  },
  {
   "cell_type": "code",
   "execution_count": 45,
   "metadata": {},
   "outputs": [
    {
     "name": "stdout",
     "output_type": "stream",
     "text": [
      "(1278, 1)\n"
     ]
    }
   ],
   "source": [
    "# Check shape of close price array\n",
    "print(df1.shape)"
   ]
  },
  {
   "cell_type": "code",
   "execution_count": 46,
   "metadata": {},
   "outputs": [
    {
     "data": {
      "text/plain": [
       "[<matplotlib.lines.Line2D at 0x139c15fbe50>]"
      ]
     },
     "execution_count": 46,
     "metadata": {},
     "output_type": "execute_result"
    },
    {
     "data": {
      "image/png": "[encoded data removed]",
      "text/plain": [
       "<Figure size 432x288 with 1 Axes>"
      ]
     },
     "metadata": {
      "needs_background": "light"
     },
     "output_type": "display_data"
    }
   ],
   "source": [
    "# Plot historical 100 days records with 30 days prediction records\n",
    "plt.plot(day_new,scaler.inverse_transform(df1[1178:]))\n",
    "plt.plot(day_pred,scaler.inverse_transform(lst_output))"
   ]
  },
  {
   "cell_type": "code",
   "execution_count": 47,
   "metadata": {},
   "outputs": [
    {
     "data": {
      "text/plain": [
       "[<matplotlib.lines.Line2D at 0x139c0518580>]"
      ]
     },
     "execution_count": 47,
     "metadata": {},
     "output_type": "execute_result"
    },
    {
     "data": {
      "image/png": "[encoded data removed]",
      "text/plain": [
       "<Figure size 432x288 with 1 Axes>"
      ]
     },
     "metadata": {
      "needs_background": "light"
     },
     "output_type": "display_data"
    }
   ],
   "source": [
    "# Merge & plot historical and prediction records\n",
    "df3=df1.tolist()\n",
    "df3.extend(lst_output)\n",
    "plt.plot(df3[1178:])"
   ]
  },
  {
   "cell_type": "code",
   "execution_count": 48,
   "metadata": {},
   "outputs": [],
   "source": [
    "# Convert normalized value back to origional form\n",
    "df3=scaler.inverse_transform(df3).tolist()"
   ]
  },
  {
   "cell_type": "code",
   "execution_count": 49,
   "metadata": {},
   "outputs": [
    {
     "data": {
      "text/plain": [
       "[<matplotlib.lines.Line2D at 0x139c0573f70>]"
      ]
     },
     "execution_count": 49,
     "metadata": {},
     "output_type": "execute_result"
    },
    {
     "data": {
      "image/png": "[encoded data removed]",
      "text/plain": [
       "<Figure size 432x288 with 1 Axes>"
      ]
     },
     "metadata": {
      "needs_background": "light"
     },
     "output_type": "display_data"
    }
   ],
   "source": [
    "# Merge & plot full set of historical and prediction records\n",
    "plt.plot(df3)"
   ]
  },
  {
   "cell_type": "code",
   "execution_count": 50,
   "metadata": {},
   "outputs": [
    {
     "data": {
      "text/plain": [
       "1308"
      ]
     },
     "execution_count": 50,
     "metadata": {},
     "output_type": "execute_result"
    }
   ],
   "source": [
    "# Check number of records in final dataframe\n",
    "len(df3)"
   ]
  },
  {
   "cell_type": "code",
   "execution_count": 51,
   "metadata": {},
   "outputs": [
    {
     "name": "stdout",
     "output_type": "stream",
     "text": [
      "[[304.9913684940338], [306.5316976547241], [307.64747780799865], [308.4231951141357], [308.9531853914261], [309.3181825494766], [309.57838902950283], [309.7743382167816], [309.9314485836029], [310.0644567918777], [310.18157845497126], [310.287080245018], [310.3831408882141], [310.4711372184753], [310.55187112808227], [310.62631093978877], [310.6951526355743], [310.75928888797756], [310.8193097686767], [310.87610795021055], [310.9301222038269], [310.98204851150507], [311.03228025436397], [311.08115029335016], [311.1289007091522], [311.17580384254455], [311.2221622943878], [311.2679458045959], [311.3132451534271], [311.35824190139766]]\n"
     ]
    }
   ],
   "source": [
    "# Display last 30 days records which is coming out from prediction\n",
    "from itertools import islice\n",
    "res = list(islice(reversed(df3), 0, 30))\n",
    "res.reverse()\n",
    "print(res)"
   ]
  }
 ],
 "metadata": {
  "kernelspec": {
   "display_name": "Python 3",
   "language": "python",
   "name": "python3"
  },
  "language_info": {
   "codemirror_mode": {
    "name": "ipython",
    "version": 3
   },
   "file_extension": ".py",
   "mimetype": "text/x-python",
   "name": "python",
   "nbconvert_exporter": "python",
   "pygments_lexer": "ipython3",
   "version": "3.8.3"
  }
 },
 "nbformat": 4,
 "nbformat_minor": 4
}
